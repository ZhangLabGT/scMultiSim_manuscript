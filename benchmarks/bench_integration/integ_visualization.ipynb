{
 "cells": [
  {
   "cell_type": "code",
   "execution_count": 1,
   "id": "2ff7a4e2-3c26-421d-8737-bec8e9e64da3",
   "metadata": {},
   "outputs": [
    {
     "name": "stderr",
     "output_type": "stream",
     "text": [
      "/home/lhc/.pyenv/versions/miniforge3-4.10.3-10/envs/scMultiSim/lib/python3.9/site-packages/umap/__init__.py:9: ImportWarning: Tensorflow not installed; ParametricUMAP will be unavailable\n",
      "  warn(\n"
     ]
    }
   ],
   "source": [
    "import scib\n",
    "import scanpy as sc\n",
    "import numpy as np\n",
    "import pandas as pd\n",
    "import anndata\n",
    "import os\n",
    "import umap\n",
    "from sklearn.manifold import TSNE"
   ]
  },
  {
   "cell_type": "code",
   "execution_count": 11,
   "id": "19401cea-c15f-455e-9014-228c3e91ce56",
   "metadata": {},
   "outputs": [],
   "source": [
    "dirs = { \"1_0.1\": [], \"3_0.1\": [], \"5_0.1\": [], \"1_0.5\": [], \"3_0.5\": [], \"5_0.5\": [] }\n",
    "\n",
    "for tree in [1, 3, 5]:\n",
    "    for ncell in [500, 800]:\n",
    "        for ngene in [110, 200, 500]:\n",
    "            for sigma in [0.1, 0.5]:\n",
    "                for seed in [1, 2, 3, 4]:\n",
    "                    root_dir = f\"/home/lhc/scMultiSim/bench/unif/0/tree{tree}_{ncell}_cells{ngene}_genes_sigma{sigma}_{seed}/integ3/\"\n",
    "                    dirs[f\"{tree}_{sigma}\"].append(root_dir)"
   ]
  },
  {
   "cell_type": "code",
   "execution_count": 12,
   "id": "4944c1c6-c676-49e3-b9e6-24e3b7ce2dab",
   "metadata": {
    "tags": []
   },
   "outputs": [],
   "source": [
    "def get_metrics(tool):\n",
    "    for tree, root_dirs in dirs.items():\n",
    "        ari_list = []\n",
    "        nmi_list = []\n",
    "        gc_list = []\n",
    "        asw_label_list = []\n",
    "        asw_batch_list = []\n",
    "\n",
    "        for root_dir in root_dirs:\n",
    "            print(root_dir)\n",
    "            meta_orig = pd.read_csv(os.path.join(root_dir, \"meta.csv\"), index_col=0)\n",
    "            counts_orig = pd.read_csv(os.path.join(root_dir, \"counts_s.csv\"), index_col=0)\n",
    "            adata = anndata.AnnData(X=np.row_stack([\n",
    "                counts_orig[meta_orig.batch == 2].values,\n",
    "                counts_orig[meta_orig.batch == 3].values\n",
    "            ]), dtype=counts_orig.values.dtype)\n",
    "\n",
    "            if tool == \"seurat\":\n",
    "                data_path = root_dir + \"out_seurat/\"\n",
    "                counts = pd.read_csv(data_path + \"q_umap.csv\", sep=\",\")\n",
    "                ref_counts = pd.read_csv(data_path + \"ref_umap.csv\", sep=\",\")\n",
    "            else:\n",
    "                data_path = root_dir + \"out_uinmf/\"\n",
    "                counts = pd.read_csv(data_path + \"q_embed.csv\", sep=\",\").T\n",
    "                ref_counts = pd.read_csv(data_path + \"ref_embed.csv\", sep=\",\").T\n",
    "\n",
    "            meta = pd.read_csv(data_path + \"q_meta.csv\", sep=\",\")\n",
    "            ref_meta =  pd.read_csv(data_path + \"ref_meta.csv\", sep=\",\")\n",
    "            \n",
    "            ##\n",
    "            adata.obs[\"pop\"] = np.concatenate([\n",
    "                meta[\"pop\"].astype(str).astype('category').to_numpy(),\n",
    "                ref_meta[\"pop\"].astype(str).astype('category').to_numpy()\n",
    "            ])\n",
    "            adata.obs[\"celltype\"] = adata.obs[\"pop\"]\n",
    "            adata.obs[\"batch\"] = np.concatenate([\n",
    "                meta[\"batch\"].astype(str).astype('category').to_numpy(),\n",
    "                ref_meta[\"batch\"].astype(str).astype('category').to_numpy()\n",
    "            ])\n",
    "            adata.obs[\"batch\"] = adata.obs[\"batch\"].astype(\"category\")\n",
    "            adata.obs[\"celltype\"] = adata.obs[\"celltype\"].astype(\"category\")\n",
    "            adata.layers[\"counts\"] = adata.X\n",
    "\n",
    "            adata_int = adata.copy()\n",
    "            adata_int.obsm[\"X_emb\"] = np.row_stack([counts.values, ref_counts.values])\n",
    "\n",
    "            if tool == \"seurat\":\n",
    "                n_pcs = 30\n",
    "            else:\n",
    "                n_pcs = 30\n",
    "            scib.pp.reduce_data(\n",
    "                adata, pca=True, n_top_genes=None, neighbors=True, umap=False, pca_comps = n_pcs\n",
    "            )\n",
    "            scib.pp.reduce_data(\n",
    "                adata_int, batch_key=\"batch\", pca=True, n_top_genes=None, neighbors=True, umap=False, pca_comps = n_pcs, use_rep=\"X_emb\"\n",
    "            )\n",
    "            me = scib.me.metrics(adata, adata_int, embed=\"X_emb\", batch_key=\"batch\", label_key=\"celltype\", ari_=True, nmi_=True, graph_conn_=True,silhouette_=True)\n",
    "            ##\n",
    "            \n",
    "            ari_list.append(me.loc[\"ARI_cluster/label\", 0])\n",
    "            nmi_list.append(me.loc[\"NMI_cluster/label\", 0])\n",
    "            gc_list.append(me.loc[\"graph_conn\", 0])\n",
    "            asw_label_list.append(me.loc[\"ASW_label\", 0])\n",
    "            asw_batch_list.append(me.loc[\"ASW_label/batch\", 0])\n",
    "\n",
    "        pd.DataFrame.from_dict({\n",
    "            \"ari\": ari_list,\n",
    "            \"nmi\": nmi_list,\n",
    "            \"gc\": gc_list,\n",
    "            \"asw_label\": asw_label_list,\n",
    "            \"asw_batch\": asw_batch_list\n",
    "        }).to_csv(os.path.join(\"/home/lhc/scMultiSim/bench/unif/0/\", f\"{tool}3_tree{tree}.csv\"))"
   ]
  },
  {
   "cell_type": "code",
   "execution_count": 13,
   "id": "258164eb-e91c-4e83-a9aa-848734a57bdb",
   "metadata": {
    "scrolled": true,
    "tags": []
   },
   "outputs": [
    {
     "name": "stdout",
     "output_type": "stream",
     "text": [
      "/home/lhc/scMultiSim/bench/unif/0/tree1_500_cells110_genes_sigma0.1_1/integ3/\n",
      "PCA\n",
      "Nearest Neigbours\n",
      "PCA\n",
      "Nearest Neigbours\n",
      "NMI...\n",
      "ARI...\n",
      "Silhouette score...\n",
      "Graph connectivity...\n",
      "/home/lhc/scMultiSim/bench/unif/0/tree1_500_cells110_genes_sigma0.1_2/integ3/\n",
      "PCA\n",
      "Nearest Neigbours\n",
      "PCA\n",
      "Nearest Neigbours\n"
     ]
    },
    {
     "name": "stderr",
     "output_type": "stream",
     "text": [
      "/home/lhc/.pyenv/versions/miniforge3-4.10.3-10/envs/scMultiSim/lib/python3.9/site-packages/scib/metrics/metrics.py:293: DeprecationWarning: Call to deprecated function (or staticmethod) opt_louvain.\n",
      "  res_max, nmi_max, nmi_all = opt_louvain(\n",
      "/home/lhc/.pyenv/versions/miniforge3-4.10.3-10/envs/scMultiSim/lib/python3.9/site-packages/scib/metrics/metrics.py:293: DeprecationWarning: Call to deprecated function (or staticmethod) opt_louvain.\n",
      "  res_max, nmi_max, nmi_all = opt_louvain(\n",
      "/home/lhc/.pyenv/versions/miniforge3-4.10.3-10/envs/scMultiSim/lib/python3.9/site-packages/scib/metrics/metrics.py:293: DeprecationWarning: Call to deprecated function (or staticmethod) opt_louvain.\n",
      "  res_max, nmi_max, nmi_all = opt_louvain(\n"
     ]
    },
    {
     "name": "stdout",
     "output_type": "stream",
     "text": [
      "NMI...\n",
      "ARI...\n",
      "Silhouette score...\n",
      "Graph connectivity...\n",
      "/home/lhc/scMultiSim/bench/unif/0/tree1_500_cells110_genes_sigma0.1_3/integ3/\n",
      "PCA\n",
      "Nearest Neigbours\n",
      "PCA\n",
      "Nearest Neigbours\n",
      "NMI...\n",
      "ARI...\n",
      "Silhouette score...\n",
      "Graph connectivity...\n",
      "/home/lhc/scMultiSim/bench/unif/0/tree1_500_cells110_genes_sigma0.1_4/integ3/\n",
      "PCA\n",
      "Nearest Neigbours\n",
      "PCA\n",
      "Nearest Neigbours\n",
      "NMI...\n",
      "ARI...\n",
      "Silhouette score...\n",
      "Graph connectivity...\n",
      "/home/lhc/scMultiSim/bench/unif/0/tree1_500_cells200_genes_sigma0.1_1/integ3/\n",
      "PCA\n",
      "Nearest Neigbours\n",
      "PCA\n",
      "Nearest Neigbours\n"
     ]
    },
    {
     "name": "stderr",
     "output_type": "stream",
     "text": [
      "/home/lhc/.pyenv/versions/miniforge3-4.10.3-10/envs/scMultiSim/lib/python3.9/site-packages/scib/metrics/metrics.py:293: DeprecationWarning: Call to deprecated function (or staticmethod) opt_louvain.\n",
      "  res_max, nmi_max, nmi_all = opt_louvain(\n",
      "/home/lhc/.pyenv/versions/miniforge3-4.10.3-10/envs/scMultiSim/lib/python3.9/site-packages/scib/metrics/metrics.py:293: DeprecationWarning: Call to deprecated function (or staticmethod) opt_louvain.\n",
      "  res_max, nmi_max, nmi_all = opt_louvain(\n"
     ]
    },
    {
     "name": "stdout",
     "output_type": "stream",
     "text": [
      "NMI...\n",
      "ARI...\n",
      "Silhouette score...\n",
      "Graph connectivity...\n",
      "/home/lhc/scMultiSim/bench/unif/0/tree1_500_cells200_genes_sigma0.1_2/integ3/\n",
      "PCA\n",
      "Nearest Neigbours\n",
      "PCA\n",
      "Nearest Neigbours\n",
      "NMI...\n",
      "ARI...\n",
      "Silhouette score...\n",
      "Graph connectivity...\n",
      "/home/lhc/scMultiSim/bench/unif/0/tree1_500_cells200_genes_sigma0.1_3/integ3/\n"
     ]
    },
    {
     "name": "stderr",
     "output_type": "stream",
     "text": [
      "/home/lhc/.pyenv/versions/miniforge3-4.10.3-10/envs/scMultiSim/lib/python3.9/site-packages/scib/metrics/metrics.py:293: DeprecationWarning: Call to deprecated function (or staticmethod) opt_louvain.\n",
      "  res_max, nmi_max, nmi_all = opt_louvain(\n",
      "/home/lhc/.pyenv/versions/miniforge3-4.10.3-10/envs/scMultiSim/lib/python3.9/site-packages/scib/metrics/metrics.py:293: DeprecationWarning: Call to deprecated function (or staticmethod) opt_louvain.\n",
      "  res_max, nmi_max, nmi_all = opt_louvain(\n"
     ]
    },
    {
     "name": "stdout",
     "output_type": "stream",
     "text": [
      "PCA\n",
      "Nearest Neigbours\n",
      "PCA\n",
      "Nearest Neigbours\n",
      "NMI...\n",
      "ARI...\n",
      "Silhouette score...\n",
      "Graph connectivity...\n",
      "/home/lhc/scMultiSim/bench/unif/0/tree1_500_cells200_genes_sigma0.1_4/integ3/\n",
      "PCA\n",
      "Nearest Neigbours\n",
      "PCA\n",
      "Nearest Neigbours\n",
      "NMI...\n",
      "ARI...\n",
      "Silhouette score...\n",
      "Graph connectivity...\n",
      "/home/lhc/scMultiSim/bench/unif/0/tree1_500_cells500_genes_sigma0.1_1/integ3/\n",
      "PCA\n",
      "Nearest Neigbours\n"
     ]
    },
    {
     "name": "stderr",
     "output_type": "stream",
     "text": [
      "/home/lhc/.pyenv/versions/miniforge3-4.10.3-10/envs/scMultiSim/lib/python3.9/site-packages/scib/metrics/metrics.py:293: DeprecationWarning: Call to deprecated function (or staticmethod) opt_louvain.\n",
      "  res_max, nmi_max, nmi_all = opt_louvain(\n"
     ]
    },
    {
     "name": "stdout",
     "output_type": "stream",
     "text": [
      "PCA\n",
      "Nearest Neigbours\n",
      "NMI...\n",
      "ARI...\n",
      "Silhouette score...\n",
      "Graph connectivity...\n",
      "/home/lhc/scMultiSim/bench/unif/0/tree1_500_cells500_genes_sigma0.1_2/integ3/\n",
      "PCA\n",
      "Nearest Neigbours\n",
      "PCA\n",
      "Nearest Neigbours\n"
     ]
    },
    {
     "name": "stderr",
     "output_type": "stream",
     "text": [
      "/home/lhc/.pyenv/versions/miniforge3-4.10.3-10/envs/scMultiSim/lib/python3.9/site-packages/scib/metrics/metrics.py:293: DeprecationWarning: Call to deprecated function (or staticmethod) opt_louvain.\n",
      "  res_max, nmi_max, nmi_all = opt_louvain(\n",
      "/home/lhc/.pyenv/versions/miniforge3-4.10.3-10/envs/scMultiSim/lib/python3.9/site-packages/scib/metrics/metrics.py:293: DeprecationWarning: Call to deprecated function (or staticmethod) opt_louvain.\n",
      "  res_max, nmi_max, nmi_all = opt_louvain(\n",
      "/home/lhc/.pyenv/versions/miniforge3-4.10.3-10/envs/scMultiSim/lib/python3.9/site-packages/scib/metrics/metrics.py:293: DeprecationWarning: Call to deprecated function (or staticmethod) opt_louvain.\n",
      "  res_max, nmi_max, nmi_all = opt_louvain(\n"
     ]
    },
    {
     "name": "stdout",
     "output_type": "stream",
     "text": [
      "NMI...\n",
      "ARI...\n",
      "Silhouette score...\n",
      "Graph connectivity...\n",
      "/home/lhc/scMultiSim/bench/unif/0/tree1_500_cells500_genes_sigma0.1_3/integ3/\n",
      "PCA\n",
      "Nearest Neigbours\n",
      "PCA\n",
      "Nearest Neigbours\n",
      "NMI...\n",
      "ARI...\n",
      "Silhouette score...\n",
      "Graph connectivity...\n",
      "/home/lhc/scMultiSim/bench/unif/0/tree1_500_cells500_genes_sigma0.1_4/integ3/\n",
      "PCA\n",
      "Nearest Neigbours\n",
      "PCA\n",
      "Nearest Neigbours\n",
      "NMI...\n",
      "ARI...\n",
      "Silhouette score...\n",
      "Graph connectivity...\n",
      "/home/lhc/scMultiSim/bench/unif/0/tree1_800_cells110_genes_sigma0.1_1/integ3/\n"
     ]
    },
    {
     "name": "stderr",
     "output_type": "stream",
     "text": [
      "/home/lhc/.pyenv/versions/miniforge3-4.10.3-10/envs/scMultiSim/lib/python3.9/site-packages/scib/metrics/metrics.py:293: DeprecationWarning: Call to deprecated function (or staticmethod) opt_louvain.\n",
      "  res_max, nmi_max, nmi_all = opt_louvain(\n"
     ]
    },
    {
     "name": "stdout",
     "output_type": "stream",
     "text": [
      "PCA\n",
      "Nearest Neigbours\n",
      "PCA\n",
      "Nearest Neigbours\n"
     ]
    },
    {
     "name": "stderr",
     "output_type": "stream",
     "text": [
      "/home/lhc/.pyenv/versions/miniforge3-4.10.3-10/envs/scMultiSim/lib/python3.9/site-packages/scib/metrics/metrics.py:293: DeprecationWarning: Call to deprecated function (or staticmethod) opt_louvain.\n",
      "  res_max, nmi_max, nmi_all = opt_louvain(\n"
     ]
    },
    {
     "name": "stdout",
     "output_type": "stream",
     "text": [
      "NMI...\n",
      "ARI...\n",
      "Silhouette score...\n",
      "Graph connectivity...\n",
      "/home/lhc/scMultiSim/bench/unif/0/tree1_800_cells110_genes_sigma0.1_2/integ3/\n",
      "PCA\n",
      "Nearest Neigbours\n",
      "PCA\n",
      "Nearest Neigbours\n"
     ]
    },
    {
     "name": "stderr",
     "output_type": "stream",
     "text": [
      "/home/lhc/.pyenv/versions/miniforge3-4.10.3-10/envs/scMultiSim/lib/python3.9/site-packages/scib/metrics/metrics.py:293: DeprecationWarning: Call to deprecated function (or staticmethod) opt_louvain.\n",
      "  res_max, nmi_max, nmi_all = opt_louvain(\n"
     ]
    },
    {
     "name": "stdout",
     "output_type": "stream",
     "text": [
      "NMI...\n",
      "ARI...\n",
      "Silhouette score...\n",
      "Graph connectivity...\n",
      "/home/lhc/scMultiSim/bench/unif/0/tree1_800_cells110_genes_sigma0.1_3/integ3/\n",
      "PCA\n",
      "Nearest Neigbours\n",
      "PCA\n",
      "Nearest Neigbours\n"
     ]
    },
    {
     "name": "stderr",
     "output_type": "stream",
     "text": [
      "/home/lhc/.pyenv/versions/miniforge3-4.10.3-10/envs/scMultiSim/lib/python3.9/site-packages/scib/metrics/metrics.py:293: DeprecationWarning: Call to deprecated function (or staticmethod) opt_louvain.\n",
      "  res_max, nmi_max, nmi_all = opt_louvain(\n"
     ]
    },
    {
     "name": "stdout",
     "output_type": "stream",
     "text": [
      "NMI...\n",
      "ARI...\n",
      "Silhouette score...\n",
      "Graph connectivity...\n",
      "/home/lhc/scMultiSim/bench/unif/0/tree1_800_cells110_genes_sigma0.1_4/integ3/\n",
      "PCA\n",
      "Nearest Neigbours\n",
      "PCA\n",
      "Nearest Neigbours\n"
     ]
    },
    {
     "name": "stderr",
     "output_type": "stream",
     "text": [
      "/home/lhc/.pyenv/versions/miniforge3-4.10.3-10/envs/scMultiSim/lib/python3.9/site-packages/scib/metrics/metrics.py:293: DeprecationWarning: Call to deprecated function (or staticmethod) opt_louvain.\n",
      "  res_max, nmi_max, nmi_all = opt_louvain(\n"
     ]
    },
    {
     "name": "stdout",
     "output_type": "stream",
     "text": [
      "NMI...\n",
      "ARI...\n",
      "Silhouette score...\n",
      "Graph connectivity...\n",
      "/home/lhc/scMultiSim/bench/unif/0/tree1_800_cells200_genes_sigma0.1_1/integ3/\n",
      "PCA\n",
      "Nearest Neigbours\n",
      "PCA\n",
      "Nearest Neigbours\n"
     ]
    },
    {
     "name": "stderr",
     "output_type": "stream",
     "text": [
      "/home/lhc/.pyenv/versions/miniforge3-4.10.3-10/envs/scMultiSim/lib/python3.9/site-packages/scib/metrics/metrics.py:293: DeprecationWarning: Call to deprecated function (or staticmethod) opt_louvain.\n",
      "  res_max, nmi_max, nmi_all = opt_louvain(\n"
     ]
    },
    {
     "name": "stdout",
     "output_type": "stream",
     "text": [
      "NMI...\n",
      "ARI...\n",
      "Silhouette score...\n",
      "Graph connectivity...\n",
      "/home/lhc/scMultiSim/bench/unif/0/tree1_800_cells200_genes_sigma0.1_2/integ3/\n",
      "PCA\n",
      "Nearest Neigbours\n",
      "PCA\n",
      "Nearest Neigbours\n"
     ]
    },
    {
     "name": "stderr",
     "output_type": "stream",
     "text": [
      "/home/lhc/.pyenv/versions/miniforge3-4.10.3-10/envs/scMultiSim/lib/python3.9/site-packages/scib/metrics/metrics.py:293: DeprecationWarning: Call to deprecated function (or staticmethod) opt_louvain.\n",
      "  res_max, nmi_max, nmi_all = opt_louvain(\n"
     ]
    },
    {
     "name": "stdout",
     "output_type": "stream",
     "text": [
      "NMI...\n",
      "ARI...\n",
      "Silhouette score...\n",
      "Graph connectivity...\n",
      "/home/lhc/scMultiSim/bench/unif/0/tree1_800_cells200_genes_sigma0.1_3/integ3/\n",
      "PCA\n",
      "Nearest Neigbours\n",
      "PCA\n",
      "Nearest Neigbours\n"
     ]
    },
    {
     "name": "stderr",
     "output_type": "stream",
     "text": [
      "/home/lhc/.pyenv/versions/miniforge3-4.10.3-10/envs/scMultiSim/lib/python3.9/site-packages/scib/metrics/metrics.py:293: DeprecationWarning: Call to deprecated function (or staticmethod) opt_louvain.\n",
      "  res_max, nmi_max, nmi_all = opt_louvain(\n"
     ]
    },
    {
     "name": "stdout",
     "output_type": "stream",
     "text": [
      "NMI...\n",
      "ARI...\n",
      "Silhouette score...\n",
      "Graph connectivity...\n",
      "/home/lhc/scMultiSim/bench/unif/0/tree1_800_cells200_genes_sigma0.1_4/integ3/\n",
      "PCA\n",
      "Nearest Neigbours\n",
      "PCA\n",
      "Nearest Neigbours\n"
     ]
    },
    {
     "name": "stderr",
     "output_type": "stream",
     "text": [
      "/home/lhc/.pyenv/versions/miniforge3-4.10.3-10/envs/scMultiSim/lib/python3.9/site-packages/scib/metrics/metrics.py:293: DeprecationWarning: Call to deprecated function (or staticmethod) opt_louvain.\n",
      "  res_max, nmi_max, nmi_all = opt_louvain(\n"
     ]
    },
    {
     "name": "stdout",
     "output_type": "stream",
     "text": [
      "NMI...\n",
      "ARI...\n",
      "Silhouette score...\n",
      "Graph connectivity...\n",
      "/home/lhc/scMultiSim/bench/unif/0/tree1_800_cells500_genes_sigma0.1_1/integ3/\n",
      "PCA\n",
      "Nearest Neigbours\n",
      "PCA\n",
      "Nearest Neigbours\n"
     ]
    },
    {
     "name": "stderr",
     "output_type": "stream",
     "text": [
      "/home/lhc/.pyenv/versions/miniforge3-4.10.3-10/envs/scMultiSim/lib/python3.9/site-packages/scib/metrics/metrics.py:293: DeprecationWarning: Call to deprecated function (or staticmethod) opt_louvain.\n",
      "  res_max, nmi_max, nmi_all = opt_louvain(\n"
     ]
    },
    {
     "name": "stdout",
     "output_type": "stream",
     "text": [
      "NMI...\n",
      "ARI...\n",
      "Silhouette score...\n",
      "Graph connectivity...\n",
      "/home/lhc/scMultiSim/bench/unif/0/tree1_800_cells500_genes_sigma0.1_2/integ3/\n",
      "PCA\n",
      "Nearest Neigbours\n",
      "PCA\n",
      "Nearest Neigbours\n"
     ]
    },
    {
     "name": "stderr",
     "output_type": "stream",
     "text": [
      "/home/lhc/.pyenv/versions/miniforge3-4.10.3-10/envs/scMultiSim/lib/python3.9/site-packages/scib/metrics/metrics.py:293: DeprecationWarning: Call to deprecated function (or staticmethod) opt_louvain.\n",
      "  res_max, nmi_max, nmi_all = opt_louvain(\n"
     ]
    },
    {
     "name": "stdout",
     "output_type": "stream",
     "text": [
      "NMI...\n",
      "ARI...\n",
      "Silhouette score...\n",
      "Graph connectivity...\n",
      "/home/lhc/scMultiSim/bench/unif/0/tree1_800_cells500_genes_sigma0.1_3/integ3/\n",
      "PCA\n",
      "Nearest Neigbours\n",
      "PCA\n",
      "Nearest Neigbours\n"
     ]
    },
    {
     "name": "stderr",
     "output_type": "stream",
     "text": [
      "/home/lhc/.pyenv/versions/miniforge3-4.10.3-10/envs/scMultiSim/lib/python3.9/site-packages/scib/metrics/metrics.py:293: DeprecationWarning: Call to deprecated function (or staticmethod) opt_louvain.\n",
      "  res_max, nmi_max, nmi_all = opt_louvain(\n"
     ]
    },
    {
     "name": "stdout",
     "output_type": "stream",
     "text": [
      "NMI...\n",
      "ARI...\n",
      "Silhouette score...\n",
      "Graph connectivity...\n",
      "/home/lhc/scMultiSim/bench/unif/0/tree1_800_cells500_genes_sigma0.1_4/integ3/\n",
      "PCA\n",
      "Nearest Neigbours\n",
      "PCA\n",
      "Nearest Neigbours\n"
     ]
    },
    {
     "name": "stderr",
     "output_type": "stream",
     "text": [
      "/home/lhc/.pyenv/versions/miniforge3-4.10.3-10/envs/scMultiSim/lib/python3.9/site-packages/scib/metrics/metrics.py:293: DeprecationWarning: Call to deprecated function (or staticmethod) opt_louvain.\n",
      "  res_max, nmi_max, nmi_all = opt_louvain(\n"
     ]
    },
    {
     "name": "stdout",
     "output_type": "stream",
     "text": [
      "NMI...\n",
      "ARI...\n",
      "Silhouette score...\n",
      "Graph connectivity...\n",
      "/home/lhc/scMultiSim/bench/unif/0/tree3_500_cells110_genes_sigma0.1_1/integ3/\n",
      "PCA\n",
      "Nearest Neigbours\n",
      "PCA\n",
      "Nearest Neigbours\n"
     ]
    },
    {
     "name": "stderr",
     "output_type": "stream",
     "text": [
      "/home/lhc/.pyenv/versions/miniforge3-4.10.3-10/envs/scMultiSim/lib/python3.9/site-packages/scib/metrics/metrics.py:293: DeprecationWarning: Call to deprecated function (or staticmethod) opt_louvain.\n",
      "  res_max, nmi_max, nmi_all = opt_louvain(\n",
      "/home/lhc/.pyenv/versions/miniforge3-4.10.3-10/envs/scMultiSim/lib/python3.9/site-packages/scib/metrics/metrics.py:293: DeprecationWarning: Call to deprecated function (or staticmethod) opt_louvain.\n",
      "  res_max, nmi_max, nmi_all = opt_louvain(\n"
     ]
    },
    {
     "name": "stdout",
     "output_type": "stream",
     "text": [
      "NMI...\n",
      "ARI...\n",
      "Silhouette score...\n",
      "Graph connectivity...\n",
      "/home/lhc/scMultiSim/bench/unif/0/tree3_500_cells110_genes_sigma0.1_2/integ3/\n",
      "PCA\n",
      "Nearest Neigbours\n",
      "PCA\n",
      "Nearest Neigbours\n",
      "NMI...\n",
      "ARI...\n",
      "Silhouette score...\n",
      "Graph connectivity...\n",
      "/home/lhc/scMultiSim/bench/unif/0/tree3_500_cells110_genes_sigma0.1_3/integ3/\n",
      "PCA\n",
      "Nearest Neigbours\n",
      "PCA\n",
      "Nearest Neigbours\n",
      "NMI...\n",
      "ARI...\n",
      "Silhouette score...\n",
      "Graph connectivity...\n",
      "/home/lhc/scMultiSim/bench/unif/0/tree3_500_cells110_genes_sigma0.1_4/integ3/\n",
      "PCA\n",
      "Nearest Neigbours\n",
      "PCA\n"
     ]
    },
    {
     "name": "stderr",
     "output_type": "stream",
     "text": [
      "/home/lhc/.pyenv/versions/miniforge3-4.10.3-10/envs/scMultiSim/lib/python3.9/site-packages/scib/metrics/metrics.py:293: DeprecationWarning: Call to deprecated function (or staticmethod) opt_louvain.\n",
      "  res_max, nmi_max, nmi_all = opt_louvain(\n",
      "/home/lhc/.pyenv/versions/miniforge3-4.10.3-10/envs/scMultiSim/lib/python3.9/site-packages/scib/metrics/metrics.py:293: DeprecationWarning: Call to deprecated function (or staticmethod) opt_louvain.\n",
      "  res_max, nmi_max, nmi_all = opt_louvain(\n"
     ]
    },
    {
     "name": "stdout",
     "output_type": "stream",
     "text": [
      "Nearest Neigbours\n",
      "NMI...\n",
      "ARI...\n",
      "Silhouette score...\n",
      "Graph connectivity...\n",
      "/home/lhc/scMultiSim/bench/unif/0/tree3_500_cells200_genes_sigma0.1_1/integ3/\n",
      "PCA\n",
      "Nearest Neigbours\n",
      "PCA\n",
      "Nearest Neigbours\n"
     ]
    },
    {
     "name": "stderr",
     "output_type": "stream",
     "text": [
      "/home/lhc/.pyenv/versions/miniforge3-4.10.3-10/envs/scMultiSim/lib/python3.9/site-packages/scib/metrics/metrics.py:293: DeprecationWarning: Call to deprecated function (or staticmethod) opt_louvain.\n",
      "  res_max, nmi_max, nmi_all = opt_louvain(\n",
      "/home/lhc/.pyenv/versions/miniforge3-4.10.3-10/envs/scMultiSim/lib/python3.9/site-packages/scib/metrics/metrics.py:293: DeprecationWarning: Call to deprecated function (or staticmethod) opt_louvain.\n",
      "  res_max, nmi_max, nmi_all = opt_louvain(\n"
     ]
    },
    {
     "name": "stdout",
     "output_type": "stream",
     "text": [
      "NMI...\n",
      "ARI...\n",
      "Silhouette score...\n",
      "Graph connectivity...\n",
      "/home/lhc/scMultiSim/bench/unif/0/tree3_500_cells200_genes_sigma0.1_2/integ3/\n",
      "PCA\n",
      "Nearest Neigbours\n",
      "PCA\n",
      "Nearest Neigbours\n",
      "NMI...\n",
      "ARI...\n",
      "Silhouette score...\n",
      "Graph connectivity...\n",
      "/home/lhc/scMultiSim/bench/unif/0/tree3_500_cells200_genes_sigma0.1_3/integ3/\n",
      "PCA\n",
      "Nearest Neigbours\n",
      "PCA\n",
      "Nearest Neigbours\n",
      "NMI...\n",
      "ARI...\n",
      "Silhouette score...\n",
      "Graph connectivity...\n",
      "/home/lhc/scMultiSim/bench/unif/0/tree3_500_cells200_genes_sigma0.1_4/integ3/\n",
      "PCA\n",
      "Nearest Neigbours\n",
      "PCA\n",
      "Nearest Neigbours\n"
     ]
    },
    {
     "name": "stderr",
     "output_type": "stream",
     "text": [
      "/home/lhc/.pyenv/versions/miniforge3-4.10.3-10/envs/scMultiSim/lib/python3.9/site-packages/scib/metrics/metrics.py:293: DeprecationWarning: Call to deprecated function (or staticmethod) opt_louvain.\n",
      "  res_max, nmi_max, nmi_all = opt_louvain(\n",
      "/home/lhc/.pyenv/versions/miniforge3-4.10.3-10/envs/scMultiSim/lib/python3.9/site-packages/scib/metrics/metrics.py:293: DeprecationWarning: Call to deprecated function (or staticmethod) opt_louvain.\n",
      "  res_max, nmi_max, nmi_all = opt_louvain(\n"
     ]
    },
    {
     "name": "stdout",
     "output_type": "stream",
     "text": [
      "NMI...\n",
      "ARI...\n",
      "Silhouette score...\n",
      "Graph connectivity...\n",
      "/home/lhc/scMultiSim/bench/unif/0/tree3_500_cells500_genes_sigma0.1_1/integ3/\n",
      "PCA\n",
      "Nearest Neigbours\n",
      "PCA\n",
      "Nearest Neigbours\n",
      "NMI...\n",
      "ARI...\n",
      "Silhouette score...\n",
      "Graph connectivity...\n",
      "/home/lhc/scMultiSim/bench/unif/0/tree3_500_cells500_genes_sigma0.1_2/integ3/\n"
     ]
    },
    {
     "name": "stderr",
     "output_type": "stream",
     "text": [
      "/home/lhc/.pyenv/versions/miniforge3-4.10.3-10/envs/scMultiSim/lib/python3.9/site-packages/scib/metrics/metrics.py:293: DeprecationWarning: Call to deprecated function (or staticmethod) opt_louvain.\n",
      "  res_max, nmi_max, nmi_all = opt_louvain(\n",
      "/home/lhc/.pyenv/versions/miniforge3-4.10.3-10/envs/scMultiSim/lib/python3.9/site-packages/scib/metrics/metrics.py:293: DeprecationWarning: Call to deprecated function (or staticmethod) opt_louvain.\n",
      "  res_max, nmi_max, nmi_all = opt_louvain(\n"
     ]
    },
    {
     "name": "stdout",
     "output_type": "stream",
     "text": [
      "PCA\n",
      "Nearest Neigbours\n",
      "PCA\n",
      "Nearest Neigbours\n",
      "NMI...\n",
      "ARI...\n",
      "Silhouette score...\n",
      "Graph connectivity...\n",
      "/home/lhc/scMultiSim/bench/unif/0/tree3_500_cells500_genes_sigma0.1_3/integ3/\n",
      "PCA\n",
      "Nearest Neigbours\n",
      "PCA\n",
      "Nearest Neigbours\n"
     ]
    },
    {
     "name": "stderr",
     "output_type": "stream",
     "text": [
      "/home/lhc/.pyenv/versions/miniforge3-4.10.3-10/envs/scMultiSim/lib/python3.9/site-packages/scib/metrics/metrics.py:293: DeprecationWarning: Call to deprecated function (or staticmethod) opt_louvain.\n",
      "  res_max, nmi_max, nmi_all = opt_louvain(\n"
     ]
    },
    {
     "name": "stdout",
     "output_type": "stream",
     "text": [
      "NMI...\n",
      "ARI...\n",
      "Silhouette score...\n",
      "Graph connectivity...\n",
      "/home/lhc/scMultiSim/bench/unif/0/tree3_500_cells500_genes_sigma0.1_4/integ3/\n",
      "PCA\n",
      "Nearest Neigbours\n",
      "PCA\n",
      "Nearest Neigbours\n"
     ]
    },
    {
     "name": "stderr",
     "output_type": "stream",
     "text": [
      "/home/lhc/.pyenv/versions/miniforge3-4.10.3-10/envs/scMultiSim/lib/python3.9/site-packages/scib/metrics/metrics.py:293: DeprecationWarning: Call to deprecated function (or staticmethod) opt_louvain.\n",
      "  res_max, nmi_max, nmi_all = opt_louvain(\n"
     ]
    },
    {
     "name": "stdout",
     "output_type": "stream",
     "text": [
      "NMI...\n",
      "ARI...\n",
      "Silhouette score...\n",
      "Graph connectivity...\n",
      "/home/lhc/scMultiSim/bench/unif/0/tree3_800_cells110_genes_sigma0.1_1/integ3/\n",
      "PCA\n",
      "Nearest Neigbours\n",
      "PCA\n",
      "Nearest Neigbours\n"
     ]
    },
    {
     "name": "stderr",
     "output_type": "stream",
     "text": [
      "/home/lhc/.pyenv/versions/miniforge3-4.10.3-10/envs/scMultiSim/lib/python3.9/site-packages/scib/metrics/metrics.py:293: DeprecationWarning: Call to deprecated function (or staticmethod) opt_louvain.\n",
      "  res_max, nmi_max, nmi_all = opt_louvain(\n"
     ]
    },
    {
     "name": "stdout",
     "output_type": "stream",
     "text": [
      "NMI...\n",
      "ARI...\n",
      "Silhouette score...\n",
      "Graph connectivity...\n",
      "/home/lhc/scMultiSim/bench/unif/0/tree3_800_cells110_genes_sigma0.1_2/integ3/\n",
      "PCA\n",
      "Nearest Neigbours\n",
      "PCA\n",
      "Nearest Neigbours\n"
     ]
    },
    {
     "name": "stderr",
     "output_type": "stream",
     "text": [
      "/home/lhc/.pyenv/versions/miniforge3-4.10.3-10/envs/scMultiSim/lib/python3.9/site-packages/scib/metrics/metrics.py:293: DeprecationWarning: Call to deprecated function (or staticmethod) opt_louvain.\n",
      "  res_max, nmi_max, nmi_all = opt_louvain(\n"
     ]
    },
    {
     "name": "stdout",
     "output_type": "stream",
     "text": [
      "NMI...\n",
      "ARI...\n",
      "Silhouette score...\n",
      "Graph connectivity...\n",
      "/home/lhc/scMultiSim/bench/unif/0/tree3_800_cells110_genes_sigma0.1_3/integ3/\n",
      "PCA\n",
      "Nearest Neigbours\n",
      "PCA\n",
      "Nearest Neigbours\n"
     ]
    },
    {
     "name": "stderr",
     "output_type": "stream",
     "text": [
      "/home/lhc/.pyenv/versions/miniforge3-4.10.3-10/envs/scMultiSim/lib/python3.9/site-packages/scib/metrics/metrics.py:293: DeprecationWarning: Call to deprecated function (or staticmethod) opt_louvain.\n",
      "  res_max, nmi_max, nmi_all = opt_louvain(\n"
     ]
    },
    {
     "name": "stdout",
     "output_type": "stream",
     "text": [
      "NMI...\n",
      "ARI...\n",
      "Silhouette score...\n",
      "Graph connectivity...\n",
      "/home/lhc/scMultiSim/bench/unif/0/tree3_800_cells110_genes_sigma0.1_4/integ3/\n",
      "PCA\n",
      "Nearest Neigbours\n",
      "PCA\n",
      "Nearest Neigbours\n"
     ]
    },
    {
     "name": "stderr",
     "output_type": "stream",
     "text": [
      "/home/lhc/.pyenv/versions/miniforge3-4.10.3-10/envs/scMultiSim/lib/python3.9/site-packages/scib/metrics/metrics.py:293: DeprecationWarning: Call to deprecated function (or staticmethod) opt_louvain.\n",
      "  res_max, nmi_max, nmi_all = opt_louvain(\n"
     ]
    },
    {
     "name": "stdout",
     "output_type": "stream",
     "text": [
      "NMI...\n",
      "ARI...\n",
      "Silhouette score...\n",
      "Graph connectivity...\n",
      "/home/lhc/scMultiSim/bench/unif/0/tree3_800_cells200_genes_sigma0.1_1/integ3/\n",
      "PCA\n",
      "Nearest Neigbours\n",
      "PCA\n",
      "Nearest Neigbours\n"
     ]
    },
    {
     "name": "stderr",
     "output_type": "stream",
     "text": [
      "/home/lhc/.pyenv/versions/miniforge3-4.10.3-10/envs/scMultiSim/lib/python3.9/site-packages/scib/metrics/metrics.py:293: DeprecationWarning: Call to deprecated function (or staticmethod) opt_louvain.\n",
      "  res_max, nmi_max, nmi_all = opt_louvain(\n"
     ]
    },
    {
     "name": "stdout",
     "output_type": "stream",
     "text": [
      "NMI...\n",
      "ARI...\n",
      "Silhouette score...\n",
      "Graph connectivity...\n",
      "/home/lhc/scMultiSim/bench/unif/0/tree3_800_cells200_genes_sigma0.1_2/integ3/\n",
      "PCA\n",
      "Nearest Neigbours\n",
      "PCA\n",
      "Nearest Neigbours\n"
     ]
    },
    {
     "name": "stderr",
     "output_type": "stream",
     "text": [
      "/home/lhc/.pyenv/versions/miniforge3-4.10.3-10/envs/scMultiSim/lib/python3.9/site-packages/scib/metrics/metrics.py:293: DeprecationWarning: Call to deprecated function (or staticmethod) opt_louvain.\n",
      "  res_max, nmi_max, nmi_all = opt_louvain(\n"
     ]
    },
    {
     "name": "stdout",
     "output_type": "stream",
     "text": [
      "NMI...\n",
      "ARI...\n",
      "Silhouette score...\n",
      "Graph connectivity...\n",
      "/home/lhc/scMultiSim/bench/unif/0/tree3_800_cells200_genes_sigma0.1_3/integ3/\n",
      "PCA\n",
      "Nearest Neigbours\n",
      "PCA\n",
      "Nearest Neigbours\n"
     ]
    },
    {
     "name": "stderr",
     "output_type": "stream",
     "text": [
      "/home/lhc/.pyenv/versions/miniforge3-4.10.3-10/envs/scMultiSim/lib/python3.9/site-packages/scib/metrics/metrics.py:293: DeprecationWarning: Call to deprecated function (or staticmethod) opt_louvain.\n",
      "  res_max, nmi_max, nmi_all = opt_louvain(\n"
     ]
    },
    {
     "name": "stdout",
     "output_type": "stream",
     "text": [
      "NMI...\n",
      "ARI...\n",
      "Silhouette score...\n",
      "Graph connectivity...\n",
      "/home/lhc/scMultiSim/bench/unif/0/tree3_800_cells200_genes_sigma0.1_4/integ3/\n",
      "PCA\n",
      "Nearest Neigbours\n",
      "PCA\n",
      "Nearest Neigbours\n"
     ]
    },
    {
     "name": "stderr",
     "output_type": "stream",
     "text": [
      "/home/lhc/.pyenv/versions/miniforge3-4.10.3-10/envs/scMultiSim/lib/python3.9/site-packages/scib/metrics/metrics.py:293: DeprecationWarning: Call to deprecated function (or staticmethod) opt_louvain.\n",
      "  res_max, nmi_max, nmi_all = opt_louvain(\n"
     ]
    },
    {
     "name": "stdout",
     "output_type": "stream",
     "text": [
      "NMI...\n",
      "ARI...\n",
      "Silhouette score...\n",
      "Graph connectivity...\n",
      "/home/lhc/scMultiSim/bench/unif/0/tree3_800_cells500_genes_sigma0.1_1/integ3/\n",
      "PCA\n",
      "Nearest Neigbours\n",
      "PCA\n",
      "Nearest Neigbours\n"
     ]
    },
    {
     "name": "stderr",
     "output_type": "stream",
     "text": [
      "/home/lhc/.pyenv/versions/miniforge3-4.10.3-10/envs/scMultiSim/lib/python3.9/site-packages/scib/metrics/metrics.py:293: DeprecationWarning: Call to deprecated function (or staticmethod) opt_louvain.\n",
      "  res_max, nmi_max, nmi_all = opt_louvain(\n"
     ]
    },
    {
     "name": "stdout",
     "output_type": "stream",
     "text": [
      "NMI...\n",
      "ARI...\n",
      "Silhouette score...\n",
      "Graph connectivity...\n",
      "/home/lhc/scMultiSim/bench/unif/0/tree3_800_cells500_genes_sigma0.1_2/integ3/\n",
      "PCA\n",
      "Nearest Neigbours\n",
      "PCA\n",
      "Nearest Neigbours\n"
     ]
    },
    {
     "name": "stderr",
     "output_type": "stream",
     "text": [
      "/home/lhc/.pyenv/versions/miniforge3-4.10.3-10/envs/scMultiSim/lib/python3.9/site-packages/scib/metrics/metrics.py:293: DeprecationWarning: Call to deprecated function (or staticmethod) opt_louvain.\n",
      "  res_max, nmi_max, nmi_all = opt_louvain(\n"
     ]
    },
    {
     "name": "stdout",
     "output_type": "stream",
     "text": [
      "NMI...\n",
      "ARI...\n",
      "Silhouette score...\n",
      "Graph connectivity...\n",
      "/home/lhc/scMultiSim/bench/unif/0/tree3_800_cells500_genes_sigma0.1_3/integ3/\n",
      "PCA\n",
      "Nearest Neigbours\n",
      "PCA\n",
      "Nearest Neigbours\n"
     ]
    },
    {
     "name": "stderr",
     "output_type": "stream",
     "text": [
      "/home/lhc/.pyenv/versions/miniforge3-4.10.3-10/envs/scMultiSim/lib/python3.9/site-packages/scib/metrics/metrics.py:293: DeprecationWarning: Call to deprecated function (or staticmethod) opt_louvain.\n",
      "  res_max, nmi_max, nmi_all = opt_louvain(\n"
     ]
    },
    {
     "name": "stdout",
     "output_type": "stream",
     "text": [
      "NMI...\n",
      "ARI...\n",
      "Silhouette score...\n",
      "Graph connectivity...\n",
      "/home/lhc/scMultiSim/bench/unif/0/tree3_800_cells500_genes_sigma0.1_4/integ3/\n",
      "PCA\n",
      "Nearest Neigbours\n",
      "PCA\n",
      "Nearest Neigbours\n"
     ]
    },
    {
     "name": "stderr",
     "output_type": "stream",
     "text": [
      "/home/lhc/.pyenv/versions/miniforge3-4.10.3-10/envs/scMultiSim/lib/python3.9/site-packages/scib/metrics/metrics.py:293: DeprecationWarning: Call to deprecated function (or staticmethod) opt_louvain.\n",
      "  res_max, nmi_max, nmi_all = opt_louvain(\n"
     ]
    },
    {
     "name": "stdout",
     "output_type": "stream",
     "text": [
      "NMI...\n",
      "ARI...\n",
      "Silhouette score...\n",
      "Graph connectivity...\n",
      "/home/lhc/scMultiSim/bench/unif/0/tree5_500_cells110_genes_sigma0.1_1/integ3/\n",
      "PCA\n",
      "Nearest Neigbours\n",
      "PCA\n",
      "Nearest Neigbours\n",
      "NMI...\n",
      "ARI...\n",
      "Silhouette score...\n"
     ]
    },
    {
     "name": "stderr",
     "output_type": "stream",
     "text": [
      "/home/lhc/.pyenv/versions/miniforge3-4.10.3-10/envs/scMultiSim/lib/python3.9/site-packages/scib/metrics/metrics.py:293: DeprecationWarning: Call to deprecated function (or staticmethod) opt_louvain.\n",
      "  res_max, nmi_max, nmi_all = opt_louvain(\n"
     ]
    },
    {
     "name": "stdout",
     "output_type": "stream",
     "text": [
      "Graph connectivity...\n",
      "/home/lhc/scMultiSim/bench/unif/0/tree5_500_cells110_genes_sigma0.1_2/integ3/\n",
      "PCA\n",
      "Nearest Neigbours\n",
      "PCA\n",
      "Nearest Neigbours\n",
      "NMI...\n",
      "ARI...\n",
      "Silhouette score...\n",
      "Graph connectivity...\n",
      "/home/lhc/scMultiSim/bench/unif/0/tree5_500_cells110_genes_sigma0.1_3/integ3/\n"
     ]
    },
    {
     "name": "stderr",
     "output_type": "stream",
     "text": [
      "/home/lhc/.pyenv/versions/miniforge3-4.10.3-10/envs/scMultiSim/lib/python3.9/site-packages/scib/metrics/metrics.py:293: DeprecationWarning: Call to deprecated function (or staticmethod) opt_louvain.\n",
      "  res_max, nmi_max, nmi_all = opt_louvain(\n"
     ]
    },
    {
     "name": "stdout",
     "output_type": "stream",
     "text": [
      "PCA\n",
      "Nearest Neigbours\n",
      "PCA\n",
      "Nearest Neigbours\n"
     ]
    },
    {
     "name": "stderr",
     "output_type": "stream",
     "text": [
      "/home/lhc/.pyenv/versions/miniforge3-4.10.3-10/envs/scMultiSim/lib/python3.9/site-packages/scib/metrics/metrics.py:293: DeprecationWarning: Call to deprecated function (or staticmethod) opt_louvain.\n",
      "  res_max, nmi_max, nmi_all = opt_louvain(\n",
      "/home/lhc/.pyenv/versions/miniforge3-4.10.3-10/envs/scMultiSim/lib/python3.9/site-packages/scib/metrics/metrics.py:293: DeprecationWarning: Call to deprecated function (or staticmethod) opt_louvain.\n",
      "  res_max, nmi_max, nmi_all = opt_louvain(\n"
     ]
    },
    {
     "name": "stdout",
     "output_type": "stream",
     "text": [
      "NMI...\n",
      "ARI...\n",
      "Silhouette score...\n",
      "Graph connectivity...\n",
      "/home/lhc/scMultiSim/bench/unif/0/tree5_500_cells110_genes_sigma0.1_4/integ3/\n",
      "PCA\n",
      "Nearest Neigbours\n",
      "PCA\n",
      "Nearest Neigbours\n",
      "NMI...\n",
      "ARI...\n",
      "Silhouette score...\n",
      "Graph connectivity...\n",
      "/home/lhc/scMultiSim/bench/unif/0/tree5_500_cells200_genes_sigma0.1_1/integ3/\n",
      "PCA\n",
      "Nearest Neigbours\n",
      "PCA\n",
      "Nearest Neigbours\n",
      "NMI...\n",
      "ARI...\n",
      "Silhouette score...\n",
      "Graph connectivity...\n",
      "/home/lhc/scMultiSim/bench/unif/0/tree5_500_cells200_genes_sigma0.1_2/integ3/\n",
      "PCA\n",
      "Nearest Neigbours\n",
      "PCA\n",
      "Nearest Neigbours\n"
     ]
    },
    {
     "name": "stderr",
     "output_type": "stream",
     "text": [
      "/home/lhc/.pyenv/versions/miniforge3-4.10.3-10/envs/scMultiSim/lib/python3.9/site-packages/scib/metrics/metrics.py:293: DeprecationWarning: Call to deprecated function (or staticmethod) opt_louvain.\n",
      "  res_max, nmi_max, nmi_all = opt_louvain(\n",
      "/home/lhc/.pyenv/versions/miniforge3-4.10.3-10/envs/scMultiSim/lib/python3.9/site-packages/scib/metrics/metrics.py:293: DeprecationWarning: Call to deprecated function (or staticmethod) opt_louvain.\n",
      "  res_max, nmi_max, nmi_all = opt_louvain(\n"
     ]
    },
    {
     "name": "stdout",
     "output_type": "stream",
     "text": [
      "NMI...\n",
      "ARI...\n",
      "Silhouette score...\n",
      "Graph connectivity...\n",
      "/home/lhc/scMultiSim/bench/unif/0/tree5_500_cells200_genes_sigma0.1_3/integ3/\n",
      "PCA\n",
      "Nearest Neigbours\n",
      "PCA\n",
      "Nearest Neigbours\n",
      "NMI...\n",
      "ARI...\n",
      "Silhouette score...\n",
      "Graph connectivity...\n",
      "/home/lhc/scMultiSim/bench/unif/0/tree5_500_cells200_genes_sigma0.1_4/integ3/\n"
     ]
    },
    {
     "name": "stderr",
     "output_type": "stream",
     "text": [
      "/home/lhc/.pyenv/versions/miniforge3-4.10.3-10/envs/scMultiSim/lib/python3.9/site-packages/scib/metrics/metrics.py:293: DeprecationWarning: Call to deprecated function (or staticmethod) opt_louvain.\n",
      "  res_max, nmi_max, nmi_all = opt_louvain(\n",
      "/home/lhc/.pyenv/versions/miniforge3-4.10.3-10/envs/scMultiSim/lib/python3.9/site-packages/scib/metrics/metrics.py:293: DeprecationWarning: Call to deprecated function (or staticmethod) opt_louvain.\n",
      "  res_max, nmi_max, nmi_all = opt_louvain(\n"
     ]
    },
    {
     "name": "stdout",
     "output_type": "stream",
     "text": [
      "PCA\n",
      "Nearest Neigbours\n",
      "PCA\n",
      "Nearest Neigbours\n",
      "NMI...\n",
      "ARI...\n",
      "Silhouette score...\n",
      "Graph connectivity...\n",
      "/home/lhc/scMultiSim/bench/unif/0/tree5_500_cells500_genes_sigma0.1_1/integ3/\n",
      "PCA\n",
      "Nearest Neigbours\n",
      "PCA\n",
      "Nearest Neigbours\n",
      "NMI...\n",
      "ARI...\n",
      "Silhouette score...\n",
      "Graph connectivity...\n"
     ]
    },
    {
     "name": "stderr",
     "output_type": "stream",
     "text": [
      "/home/lhc/.pyenv/versions/miniforge3-4.10.3-10/envs/scMultiSim/lib/python3.9/site-packages/scib/metrics/metrics.py:293: DeprecationWarning: Call to deprecated function (or staticmethod) opt_louvain.\n",
      "  res_max, nmi_max, nmi_all = opt_louvain(\n",
      "/home/lhc/.pyenv/versions/miniforge3-4.10.3-10/envs/scMultiSim/lib/python3.9/site-packages/scib/metrics/metrics.py:293: DeprecationWarning: Call to deprecated function (or staticmethod) opt_louvain.\n",
      "  res_max, nmi_max, nmi_all = opt_louvain(\n"
     ]
    },
    {
     "name": "stdout",
     "output_type": "stream",
     "text": [
      "/home/lhc/scMultiSim/bench/unif/0/tree5_500_cells500_genes_sigma0.1_2/integ3/\n",
      "PCA\n",
      "Nearest Neigbours\n",
      "PCA\n",
      "Nearest Neigbours\n",
      "NMI...\n",
      "ARI...\n",
      "Silhouette score...\n",
      "Graph connectivity...\n",
      "/home/lhc/scMultiSim/bench/unif/0/tree5_500_cells500_genes_sigma0.1_3/integ3/\n",
      "PCA\n",
      "Nearest Neigbours\n",
      "PCA\n",
      "Nearest Neigbours\n",
      "NMI...\n",
      "ARI...\n",
      "Silhouette score...\n",
      "Graph connectivity...\n",
      "/home/lhc/scMultiSim/bench/unif/0/tree5_500_cells500_genes_sigma0.1_4/integ3/\n"
     ]
    },
    {
     "name": "stderr",
     "output_type": "stream",
     "text": [
      "/home/lhc/.pyenv/versions/miniforge3-4.10.3-10/envs/scMultiSim/lib/python3.9/site-packages/scib/metrics/metrics.py:293: DeprecationWarning: Call to deprecated function (or staticmethod) opt_louvain.\n",
      "  res_max, nmi_max, nmi_all = opt_louvain(\n",
      "/home/lhc/.pyenv/versions/miniforge3-4.10.3-10/envs/scMultiSim/lib/python3.9/site-packages/scib/metrics/metrics.py:293: DeprecationWarning: Call to deprecated function (or staticmethod) opt_louvain.\n",
      "  res_max, nmi_max, nmi_all = opt_louvain(\n"
     ]
    },
    {
     "name": "stdout",
     "output_type": "stream",
     "text": [
      "PCA\n",
      "Nearest Neigbours\n",
      "PCA\n",
      "Nearest Neigbours\n",
      "NMI...\n",
      "ARI...\n",
      "Silhouette score...\n",
      "Graph connectivity...\n",
      "/home/lhc/scMultiSim/bench/unif/0/tree5_800_cells110_genes_sigma0.1_1/integ3/\n",
      "PCA\n",
      "Nearest Neigbours\n",
      "PCA\n",
      "Nearest Neigbours\n",
      "NMI...\n",
      "ARI...\n",
      "Silhouette score...\n",
      "Graph connectivity...\n",
      "/home/lhc/scMultiSim/bench/unif/0/tree5_800_cells110_genes_sigma0.1_2/integ3/\n"
     ]
    },
    {
     "name": "stderr",
     "output_type": "stream",
     "text": [
      "/home/lhc/.pyenv/versions/miniforge3-4.10.3-10/envs/scMultiSim/lib/python3.9/site-packages/scib/metrics/metrics.py:293: DeprecationWarning: Call to deprecated function (or staticmethod) opt_louvain.\n",
      "  res_max, nmi_max, nmi_all = opt_louvain(\n"
     ]
    },
    {
     "name": "stdout",
     "output_type": "stream",
     "text": [
      "PCA\n",
      "Nearest Neigbours\n",
      "PCA\n",
      "Nearest Neigbours\n"
     ]
    },
    {
     "name": "stderr",
     "output_type": "stream",
     "text": [
      "/home/lhc/.pyenv/versions/miniforge3-4.10.3-10/envs/scMultiSim/lib/python3.9/site-packages/scib/metrics/metrics.py:293: DeprecationWarning: Call to deprecated function (or staticmethod) opt_louvain.\n",
      "  res_max, nmi_max, nmi_all = opt_louvain(\n"
     ]
    },
    {
     "name": "stdout",
     "output_type": "stream",
     "text": [
      "NMI...\n",
      "ARI...\n",
      "Silhouette score...\n",
      "Graph connectivity...\n",
      "/home/lhc/scMultiSim/bench/unif/0/tree5_800_cells110_genes_sigma0.1_3/integ3/\n",
      "PCA\n",
      "Nearest Neigbours\n",
      "PCA\n",
      "Nearest Neigbours\n"
     ]
    },
    {
     "name": "stderr",
     "output_type": "stream",
     "text": [
      "/home/lhc/.pyenv/versions/miniforge3-4.10.3-10/envs/scMultiSim/lib/python3.9/site-packages/scib/metrics/metrics.py:293: DeprecationWarning: Call to deprecated function (or staticmethod) opt_louvain.\n",
      "  res_max, nmi_max, nmi_all = opt_louvain(\n"
     ]
    },
    {
     "name": "stdout",
     "output_type": "stream",
     "text": [
      "NMI...\n",
      "ARI...\n",
      "Silhouette score...\n",
      "Graph connectivity...\n",
      "/home/lhc/scMultiSim/bench/unif/0/tree5_800_cells110_genes_sigma0.1_4/integ3/\n",
      "PCA\n",
      "Nearest Neigbours\n",
      "PCA\n",
      "Nearest Neigbours\n"
     ]
    },
    {
     "name": "stderr",
     "output_type": "stream",
     "text": [
      "/home/lhc/.pyenv/versions/miniforge3-4.10.3-10/envs/scMultiSim/lib/python3.9/site-packages/scib/metrics/metrics.py:293: DeprecationWarning: Call to deprecated function (or staticmethod) opt_louvain.\n",
      "  res_max, nmi_max, nmi_all = opt_louvain(\n"
     ]
    },
    {
     "name": "stdout",
     "output_type": "stream",
     "text": [
      "NMI...\n",
      "ARI...\n",
      "Silhouette score...\n",
      "Graph connectivity...\n",
      "/home/lhc/scMultiSim/bench/unif/0/tree5_800_cells200_genes_sigma0.1_1/integ3/\n",
      "PCA\n",
      "Nearest Neigbours\n",
      "PCA\n",
      "Nearest Neigbours\n"
     ]
    },
    {
     "name": "stderr",
     "output_type": "stream",
     "text": [
      "/home/lhc/.pyenv/versions/miniforge3-4.10.3-10/envs/scMultiSim/lib/python3.9/site-packages/scib/metrics/metrics.py:293: DeprecationWarning: Call to deprecated function (or staticmethod) opt_louvain.\n",
      "  res_max, nmi_max, nmi_all = opt_louvain(\n"
     ]
    },
    {
     "name": "stdout",
     "output_type": "stream",
     "text": [
      "NMI...\n",
      "ARI...\n",
      "Silhouette score...\n",
      "Graph connectivity...\n",
      "/home/lhc/scMultiSim/bench/unif/0/tree5_800_cells200_genes_sigma0.1_2/integ3/\n",
      "PCA\n",
      "Nearest Neigbours\n",
      "PCA\n",
      "Nearest Neigbours\n"
     ]
    },
    {
     "name": "stderr",
     "output_type": "stream",
     "text": [
      "/home/lhc/.pyenv/versions/miniforge3-4.10.3-10/envs/scMultiSim/lib/python3.9/site-packages/scib/metrics/metrics.py:293: DeprecationWarning: Call to deprecated function (or staticmethod) opt_louvain.\n",
      "  res_max, nmi_max, nmi_all = opt_louvain(\n"
     ]
    },
    {
     "name": "stdout",
     "output_type": "stream",
     "text": [
      "NMI...\n",
      "ARI...\n",
      "Silhouette score...\n",
      "Graph connectivity...\n",
      "/home/lhc/scMultiSim/bench/unif/0/tree5_800_cells200_genes_sigma0.1_3/integ3/\n",
      "PCA\n",
      "Nearest Neigbours\n",
      "PCA\n",
      "Nearest Neigbours\n"
     ]
    },
    {
     "name": "stderr",
     "output_type": "stream",
     "text": [
      "/home/lhc/.pyenv/versions/miniforge3-4.10.3-10/envs/scMultiSim/lib/python3.9/site-packages/scib/metrics/metrics.py:293: DeprecationWarning: Call to deprecated function (or staticmethod) opt_louvain.\n",
      "  res_max, nmi_max, nmi_all = opt_louvain(\n"
     ]
    },
    {
     "name": "stdout",
     "output_type": "stream",
     "text": [
      "NMI...\n",
      "ARI...\n",
      "Silhouette score...\n",
      "Graph connectivity...\n",
      "/home/lhc/scMultiSim/bench/unif/0/tree5_800_cells200_genes_sigma0.1_4/integ3/\n",
      "PCA\n",
      "Nearest Neigbours\n",
      "PCA\n",
      "Nearest Neigbours\n"
     ]
    },
    {
     "name": "stderr",
     "output_type": "stream",
     "text": [
      "/home/lhc/.pyenv/versions/miniforge3-4.10.3-10/envs/scMultiSim/lib/python3.9/site-packages/scib/metrics/metrics.py:293: DeprecationWarning: Call to deprecated function (or staticmethod) opt_louvain.\n",
      "  res_max, nmi_max, nmi_all = opt_louvain(\n"
     ]
    },
    {
     "name": "stdout",
     "output_type": "stream",
     "text": [
      "NMI...\n",
      "ARI...\n",
      "Silhouette score...\n",
      "Graph connectivity...\n",
      "/home/lhc/scMultiSim/bench/unif/0/tree5_800_cells500_genes_sigma0.1_1/integ3/\n",
      "PCA\n",
      "Nearest Neigbours\n",
      "PCA\n",
      "Nearest Neigbours\n"
     ]
    },
    {
     "name": "stderr",
     "output_type": "stream",
     "text": [
      "/home/lhc/.pyenv/versions/miniforge3-4.10.3-10/envs/scMultiSim/lib/python3.9/site-packages/scib/metrics/metrics.py:293: DeprecationWarning: Call to deprecated function (or staticmethod) opt_louvain.\n",
      "  res_max, nmi_max, nmi_all = opt_louvain(\n"
     ]
    },
    {
     "name": "stdout",
     "output_type": "stream",
     "text": [
      "NMI...\n",
      "ARI...\n",
      "Silhouette score...\n",
      "Graph connectivity...\n",
      "/home/lhc/scMultiSim/bench/unif/0/tree5_800_cells500_genes_sigma0.1_2/integ3/\n",
      "PCA\n",
      "Nearest Neigbours\n",
      "PCA\n",
      "Nearest Neigbours\n"
     ]
    },
    {
     "name": "stderr",
     "output_type": "stream",
     "text": [
      "/home/lhc/.pyenv/versions/miniforge3-4.10.3-10/envs/scMultiSim/lib/python3.9/site-packages/scib/metrics/metrics.py:293: DeprecationWarning: Call to deprecated function (or staticmethod) opt_louvain.\n",
      "  res_max, nmi_max, nmi_all = opt_louvain(\n"
     ]
    },
    {
     "name": "stdout",
     "output_type": "stream",
     "text": [
      "NMI...\n",
      "ARI...\n",
      "Silhouette score...\n",
      "Graph connectivity...\n",
      "/home/lhc/scMultiSim/bench/unif/0/tree5_800_cells500_genes_sigma0.1_3/integ3/\n",
      "PCA\n",
      "Nearest Neigbours\n",
      "PCA\n",
      "Nearest Neigbours\n"
     ]
    },
    {
     "name": "stderr",
     "output_type": "stream",
     "text": [
      "/home/lhc/.pyenv/versions/miniforge3-4.10.3-10/envs/scMultiSim/lib/python3.9/site-packages/scib/metrics/metrics.py:293: DeprecationWarning: Call to deprecated function (or staticmethod) opt_louvain.\n",
      "  res_max, nmi_max, nmi_all = opt_louvain(\n"
     ]
    },
    {
     "name": "stdout",
     "output_type": "stream",
     "text": [
      "NMI...\n",
      "ARI...\n",
      "Silhouette score...\n",
      "Graph connectivity...\n",
      "/home/lhc/scMultiSim/bench/unif/0/tree5_800_cells500_genes_sigma0.1_4/integ3/\n",
      "PCA\n",
      "Nearest Neigbours\n",
      "PCA\n",
      "Nearest Neigbours\n"
     ]
    },
    {
     "name": "stderr",
     "output_type": "stream",
     "text": [
      "/home/lhc/.pyenv/versions/miniforge3-4.10.3-10/envs/scMultiSim/lib/python3.9/site-packages/scib/metrics/metrics.py:293: DeprecationWarning: Call to deprecated function (or staticmethod) opt_louvain.\n",
      "  res_max, nmi_max, nmi_all = opt_louvain(\n"
     ]
    },
    {
     "name": "stdout",
     "output_type": "stream",
     "text": [
      "NMI...\n",
      "ARI...\n",
      "Silhouette score...\n",
      "Graph connectivity...\n",
      "/home/lhc/scMultiSim/bench/unif/0/tree1_500_cells110_genes_sigma0.5_1/integ3/\n",
      "PCA\n",
      "Nearest Neigbours\n",
      "PCA\n",
      "Nearest Neigbours\n",
      "NMI...\n",
      "ARI...\n",
      "Silhouette score...\n",
      "Graph connectivity...\n",
      "/home/lhc/scMultiSim/bench/unif/0/tree1_500_cells110_genes_sigma0.5_2/integ3/\n"
     ]
    },
    {
     "name": "stderr",
     "output_type": "stream",
     "text": [
      "/home/lhc/.pyenv/versions/miniforge3-4.10.3-10/envs/scMultiSim/lib/python3.9/site-packages/scib/metrics/metrics.py:293: DeprecationWarning: Call to deprecated function (or staticmethod) opt_louvain.\n",
      "  res_max, nmi_max, nmi_all = opt_louvain(\n",
      "/home/lhc/.pyenv/versions/miniforge3-4.10.3-10/envs/scMultiSim/lib/python3.9/site-packages/scib/metrics/metrics.py:293: DeprecationWarning: Call to deprecated function (or staticmethod) opt_louvain.\n",
      "  res_max, nmi_max, nmi_all = opt_louvain(\n"
     ]
    },
    {
     "name": "stdout",
     "output_type": "stream",
     "text": [
      "PCA\n",
      "Nearest Neigbours\n",
      "PCA\n",
      "Nearest Neigbours\n",
      "NMI...\n",
      "ARI...\n",
      "Silhouette score...\n",
      "Graph connectivity...\n",
      "/home/lhc/scMultiSim/bench/unif/0/tree1_500_cells110_genes_sigma0.5_3/integ3/\n",
      "PCA\n",
      "Nearest Neigbours\n",
      "PCA\n",
      "Nearest Neigbours\n"
     ]
    },
    {
     "name": "stderr",
     "output_type": "stream",
     "text": [
      "/home/lhc/.pyenv/versions/miniforge3-4.10.3-10/envs/scMultiSim/lib/python3.9/site-packages/scib/metrics/metrics.py:293: DeprecationWarning: Call to deprecated function (or staticmethod) opt_louvain.\n",
      "  res_max, nmi_max, nmi_all = opt_louvain(\n",
      "/home/lhc/.pyenv/versions/miniforge3-4.10.3-10/envs/scMultiSim/lib/python3.9/site-packages/scib/metrics/metrics.py:293: DeprecationWarning: Call to deprecated function (or staticmethod) opt_louvain.\n",
      "  res_max, nmi_max, nmi_all = opt_louvain(\n"
     ]
    },
    {
     "name": "stdout",
     "output_type": "stream",
     "text": [
      "NMI...\n",
      "ARI...\n",
      "Silhouette score...\n",
      "Graph connectivity...\n",
      "/home/lhc/scMultiSim/bench/unif/0/tree1_500_cells110_genes_sigma0.5_4/integ3/\n",
      "PCA\n",
      "Nearest Neigbours\n",
      "PCA\n",
      "Nearest Neigbours\n",
      "NMI...\n",
      "ARI...\n",
      "Silhouette score...\n",
      "Graph connectivity...\n",
      "/home/lhc/scMultiSim/bench/unif/0/tree1_500_cells200_genes_sigma0.5_1/integ3/\n",
      "PCA\n",
      "Nearest Neigbours\n",
      "PCA\n",
      "Nearest Neigbours\n",
      "NMI...\n",
      "ARI...\n",
      "Silhouette score...\n",
      "Graph connectivity...\n",
      "/home/lhc/scMultiSim/bench/unif/0/tree1_500_cells200_genes_sigma0.5_2/integ3/\n",
      "PCA\n",
      "Nearest Neigbours\n",
      "PCA\n",
      "Nearest Neigbours\n"
     ]
    },
    {
     "name": "stderr",
     "output_type": "stream",
     "text": [
      "/home/lhc/.pyenv/versions/miniforge3-4.10.3-10/envs/scMultiSim/lib/python3.9/site-packages/scib/metrics/metrics.py:293: DeprecationWarning: Call to deprecated function (or staticmethod) opt_louvain.\n",
      "  res_max, nmi_max, nmi_all = opt_louvain(\n",
      "/home/lhc/.pyenv/versions/miniforge3-4.10.3-10/envs/scMultiSim/lib/python3.9/site-packages/scib/metrics/metrics.py:293: DeprecationWarning: Call to deprecated function (or staticmethod) opt_louvain.\n",
      "  res_max, nmi_max, nmi_all = opt_louvain(\n"
     ]
    },
    {
     "name": "stdout",
     "output_type": "stream",
     "text": [
      "NMI...\n",
      "ARI...\n",
      "Silhouette score...\n",
      "Graph connectivity...\n",
      "/home/lhc/scMultiSim/bench/unif/0/tree1_500_cells200_genes_sigma0.5_3/integ3/\n",
      "PCA\n",
      "Nearest Neigbours\n",
      "PCA\n",
      "Nearest Neigbours\n",
      "NMI...\n",
      "ARI...\n",
      "Silhouette score...\n",
      "Graph connectivity...\n",
      "/home/lhc/scMultiSim/bench/unif/0/tree1_500_cells200_genes_sigma0.5_4/integ3/\n"
     ]
    },
    {
     "name": "stderr",
     "output_type": "stream",
     "text": [
      "/home/lhc/.pyenv/versions/miniforge3-4.10.3-10/envs/scMultiSim/lib/python3.9/site-packages/scib/metrics/metrics.py:293: DeprecationWarning: Call to deprecated function (or staticmethod) opt_louvain.\n",
      "  res_max, nmi_max, nmi_all = opt_louvain(\n",
      "/home/lhc/.pyenv/versions/miniforge3-4.10.3-10/envs/scMultiSim/lib/python3.9/site-packages/scib/metrics/metrics.py:293: DeprecationWarning: Call to deprecated function (or staticmethod) opt_louvain.\n",
      "  res_max, nmi_max, nmi_all = opt_louvain(\n"
     ]
    },
    {
     "name": "stdout",
     "output_type": "stream",
     "text": [
      "PCA\n",
      "Nearest Neigbours\n",
      "PCA\n",
      "Nearest Neigbours\n",
      "NMI...\n",
      "ARI...\n",
      "Silhouette score...\n",
      "Graph connectivity...\n",
      "/home/lhc/scMultiSim/bench/unif/0/tree1_500_cells500_genes_sigma0.5_1/integ3/\n",
      "PCA\n",
      "Nearest Neigbours\n",
      "PCA\n",
      "Nearest Neigbours\n",
      "NMI...\n",
      "ARI...\n",
      "Silhouette score...\n",
      "Graph connectivity...\n",
      "/home/lhc/scMultiSim/bench/unif/0/tree1_500_cells500_genes_sigma0.5_2/integ3/\n"
     ]
    },
    {
     "name": "stderr",
     "output_type": "stream",
     "text": [
      "/home/lhc/.pyenv/versions/miniforge3-4.10.3-10/envs/scMultiSim/lib/python3.9/site-packages/scib/metrics/metrics.py:293: DeprecationWarning: Call to deprecated function (or staticmethod) opt_louvain.\n",
      "  res_max, nmi_max, nmi_all = opt_louvain(\n",
      "/home/lhc/.pyenv/versions/miniforge3-4.10.3-10/envs/scMultiSim/lib/python3.9/site-packages/scib/metrics/metrics.py:293: DeprecationWarning: Call to deprecated function (or staticmethod) opt_louvain.\n",
      "  res_max, nmi_max, nmi_all = opt_louvain(\n"
     ]
    },
    {
     "name": "stdout",
     "output_type": "stream",
     "text": [
      "PCA\n",
      "Nearest Neigbours\n",
      "PCA\n",
      "Nearest Neigbours\n",
      "NMI...\n",
      "ARI...\n",
      "Silhouette score...\n",
      "Graph connectivity...\n",
      "/home/lhc/scMultiSim/bench/unif/0/tree1_500_cells500_genes_sigma0.5_3/integ3/\n",
      "PCA\n",
      "Nearest Neigbours\n",
      "PCA\n",
      "Nearest Neigbours\n",
      "NMI...\n",
      "ARI...\n",
      "Silhouette score...\n",
      "Graph connectivity...\n",
      "/home/lhc/scMultiSim/bench/unif/0/tree1_500_cells500_genes_sigma0.5_4/integ3/\n",
      "PCA\n",
      "Nearest Neigbours\n",
      "PCA\n",
      "Nearest Neigbours\n"
     ]
    },
    {
     "name": "stderr",
     "output_type": "stream",
     "text": [
      "/home/lhc/.pyenv/versions/miniforge3-4.10.3-10/envs/scMultiSim/lib/python3.9/site-packages/scib/metrics/metrics.py:293: DeprecationWarning: Call to deprecated function (or staticmethod) opt_louvain.\n",
      "  res_max, nmi_max, nmi_all = opt_louvain(\n",
      "/home/lhc/.pyenv/versions/miniforge3-4.10.3-10/envs/scMultiSim/lib/python3.9/site-packages/scib/metrics/metrics.py:293: DeprecationWarning: Call to deprecated function (or staticmethod) opt_louvain.\n",
      "  res_max, nmi_max, nmi_all = opt_louvain(\n"
     ]
    },
    {
     "name": "stdout",
     "output_type": "stream",
     "text": [
      "NMI...\n",
      "ARI...\n",
      "Silhouette score...\n",
      "Graph connectivity...\n",
      "/home/lhc/scMultiSim/bench/unif/0/tree1_800_cells110_genes_sigma0.5_1/integ3/\n",
      "PCA\n",
      "Nearest Neigbours\n",
      "PCA\n",
      "Nearest Neigbours\n"
     ]
    },
    {
     "name": "stderr",
     "output_type": "stream",
     "text": [
      "/home/lhc/.pyenv/versions/miniforge3-4.10.3-10/envs/scMultiSim/lib/python3.9/site-packages/scib/metrics/metrics.py:293: DeprecationWarning: Call to deprecated function (or staticmethod) opt_louvain.\n",
      "  res_max, nmi_max, nmi_all = opt_louvain(\n"
     ]
    },
    {
     "name": "stdout",
     "output_type": "stream",
     "text": [
      "NMI...\n",
      "ARI...\n",
      "Silhouette score...\n",
      "Graph connectivity...\n",
      "/home/lhc/scMultiSim/bench/unif/0/tree1_800_cells110_genes_sigma0.5_2/integ3/\n",
      "PCA\n",
      "Nearest Neigbours\n",
      "PCA\n",
      "Nearest Neigbours\n"
     ]
    },
    {
     "name": "stderr",
     "output_type": "stream",
     "text": [
      "/home/lhc/.pyenv/versions/miniforge3-4.10.3-10/envs/scMultiSim/lib/python3.9/site-packages/scib/metrics/metrics.py:293: DeprecationWarning: Call to deprecated function (or staticmethod) opt_louvain.\n",
      "  res_max, nmi_max, nmi_all = opt_louvain(\n"
     ]
    },
    {
     "name": "stdout",
     "output_type": "stream",
     "text": [
      "NMI...\n",
      "ARI...\n",
      "Silhouette score...\n",
      "Graph connectivity...\n",
      "/home/lhc/scMultiSim/bench/unif/0/tree1_800_cells110_genes_sigma0.5_3/integ3/\n",
      "PCA\n",
      "Nearest Neigbours\n",
      "PCA\n",
      "Nearest Neigbours\n"
     ]
    },
    {
     "name": "stderr",
     "output_type": "stream",
     "text": [
      "/home/lhc/.pyenv/versions/miniforge3-4.10.3-10/envs/scMultiSim/lib/python3.9/site-packages/scib/metrics/metrics.py:293: DeprecationWarning: Call to deprecated function (or staticmethod) opt_louvain.\n",
      "  res_max, nmi_max, nmi_all = opt_louvain(\n"
     ]
    },
    {
     "name": "stdout",
     "output_type": "stream",
     "text": [
      "NMI...\n",
      "ARI...\n",
      "Silhouette score...\n",
      "Graph connectivity...\n",
      "/home/lhc/scMultiSim/bench/unif/0/tree1_800_cells110_genes_sigma0.5_4/integ3/\n",
      "PCA\n",
      "Nearest Neigbours\n",
      "PCA\n",
      "Nearest Neigbours\n"
     ]
    },
    {
     "name": "stderr",
     "output_type": "stream",
     "text": [
      "/home/lhc/.pyenv/versions/miniforge3-4.10.3-10/envs/scMultiSim/lib/python3.9/site-packages/scib/metrics/metrics.py:293: DeprecationWarning: Call to deprecated function (or staticmethod) opt_louvain.\n",
      "  res_max, nmi_max, nmi_all = opt_louvain(\n"
     ]
    },
    {
     "name": "stdout",
     "output_type": "stream",
     "text": [
      "NMI...\n",
      "ARI...\n",
      "Silhouette score...\n",
      "Graph connectivity...\n",
      "/home/lhc/scMultiSim/bench/unif/0/tree1_800_cells200_genes_sigma0.5_1/integ3/\n",
      "PCA\n",
      "Nearest Neigbours\n",
      "PCA\n",
      "Nearest Neigbours\n"
     ]
    },
    {
     "name": "stderr",
     "output_type": "stream",
     "text": [
      "/home/lhc/.pyenv/versions/miniforge3-4.10.3-10/envs/scMultiSim/lib/python3.9/site-packages/scib/metrics/metrics.py:293: DeprecationWarning: Call to deprecated function (or staticmethod) opt_louvain.\n",
      "  res_max, nmi_max, nmi_all = opt_louvain(\n"
     ]
    },
    {
     "name": "stdout",
     "output_type": "stream",
     "text": [
      "NMI...\n",
      "ARI...\n",
      "Silhouette score...\n",
      "Graph connectivity...\n",
      "/home/lhc/scMultiSim/bench/unif/0/tree1_800_cells200_genes_sigma0.5_2/integ3/\n",
      "PCA\n",
      "Nearest Neigbours\n",
      "PCA\n",
      "Nearest Neigbours\n"
     ]
    },
    {
     "name": "stderr",
     "output_type": "stream",
     "text": [
      "/home/lhc/.pyenv/versions/miniforge3-4.10.3-10/envs/scMultiSim/lib/python3.9/site-packages/scib/metrics/metrics.py:293: DeprecationWarning: Call to deprecated function (or staticmethod) opt_louvain.\n",
      "  res_max, nmi_max, nmi_all = opt_louvain(\n"
     ]
    },
    {
     "name": "stdout",
     "output_type": "stream",
     "text": [
      "NMI...\n",
      "ARI...\n",
      "Silhouette score...\n",
      "Graph connectivity...\n",
      "/home/lhc/scMultiSim/bench/unif/0/tree1_800_cells200_genes_sigma0.5_3/integ3/\n",
      "PCA\n",
      "Nearest Neigbours\n",
      "PCA\n",
      "Nearest Neigbours\n"
     ]
    },
    {
     "name": "stderr",
     "output_type": "stream",
     "text": [
      "/home/lhc/.pyenv/versions/miniforge3-4.10.3-10/envs/scMultiSim/lib/python3.9/site-packages/scib/metrics/metrics.py:293: DeprecationWarning: Call to deprecated function (or staticmethod) opt_louvain.\n",
      "  res_max, nmi_max, nmi_all = opt_louvain(\n"
     ]
    },
    {
     "name": "stdout",
     "output_type": "stream",
     "text": [
      "NMI...\n",
      "ARI...\n",
      "Silhouette score...\n",
      "Graph connectivity...\n",
      "/home/lhc/scMultiSim/bench/unif/0/tree1_800_cells200_genes_sigma0.5_4/integ3/\n",
      "PCA\n",
      "Nearest Neigbours\n",
      "PCA\n",
      "Nearest Neigbours\n"
     ]
    },
    {
     "name": "stderr",
     "output_type": "stream",
     "text": [
      "/home/lhc/.pyenv/versions/miniforge3-4.10.3-10/envs/scMultiSim/lib/python3.9/site-packages/scib/metrics/metrics.py:293: DeprecationWarning: Call to deprecated function (or staticmethod) opt_louvain.\n",
      "  res_max, nmi_max, nmi_all = opt_louvain(\n"
     ]
    },
    {
     "name": "stdout",
     "output_type": "stream",
     "text": [
      "NMI...\n",
      "ARI...\n",
      "Silhouette score...\n",
      "Graph connectivity...\n",
      "/home/lhc/scMultiSim/bench/unif/0/tree1_800_cells500_genes_sigma0.5_1/integ3/\n",
      "PCA\n",
      "Nearest Neigbours\n",
      "PCA\n",
      "Nearest Neigbours\n"
     ]
    },
    {
     "name": "stderr",
     "output_type": "stream",
     "text": [
      "/home/lhc/.pyenv/versions/miniforge3-4.10.3-10/envs/scMultiSim/lib/python3.9/site-packages/scib/metrics/metrics.py:293: DeprecationWarning: Call to deprecated function (or staticmethod) opt_louvain.\n",
      "  res_max, nmi_max, nmi_all = opt_louvain(\n"
     ]
    },
    {
     "name": "stdout",
     "output_type": "stream",
     "text": [
      "NMI...\n",
      "ARI...\n",
      "Silhouette score...\n",
      "Graph connectivity...\n",
      "/home/lhc/scMultiSim/bench/unif/0/tree1_800_cells500_genes_sigma0.5_2/integ3/\n",
      "PCA\n",
      "Nearest Neigbours\n",
      "PCA\n",
      "Nearest Neigbours\n"
     ]
    },
    {
     "name": "stderr",
     "output_type": "stream",
     "text": [
      "/home/lhc/.pyenv/versions/miniforge3-4.10.3-10/envs/scMultiSim/lib/python3.9/site-packages/scib/metrics/metrics.py:293: DeprecationWarning: Call to deprecated function (or staticmethod) opt_louvain.\n",
      "  res_max, nmi_max, nmi_all = opt_louvain(\n"
     ]
    },
    {
     "name": "stdout",
     "output_type": "stream",
     "text": [
      "NMI...\n",
      "ARI...\n",
      "Silhouette score...\n",
      "Graph connectivity...\n",
      "/home/lhc/scMultiSim/bench/unif/0/tree1_800_cells500_genes_sigma0.5_3/integ3/\n",
      "PCA\n",
      "Nearest Neigbours\n",
      "PCA\n",
      "Nearest Neigbours\n"
     ]
    },
    {
     "name": "stderr",
     "output_type": "stream",
     "text": [
      "/home/lhc/.pyenv/versions/miniforge3-4.10.3-10/envs/scMultiSim/lib/python3.9/site-packages/scib/metrics/metrics.py:293: DeprecationWarning: Call to deprecated function (or staticmethod) opt_louvain.\n",
      "  res_max, nmi_max, nmi_all = opt_louvain(\n"
     ]
    },
    {
     "name": "stdout",
     "output_type": "stream",
     "text": [
      "NMI...\n",
      "ARI...\n",
      "Silhouette score...\n",
      "Graph connectivity...\n",
      "/home/lhc/scMultiSim/bench/unif/0/tree1_800_cells500_genes_sigma0.5_4/integ3/\n",
      "PCA\n",
      "Nearest Neigbours\n",
      "PCA\n",
      "Nearest Neigbours\n"
     ]
    },
    {
     "name": "stderr",
     "output_type": "stream",
     "text": [
      "/home/lhc/.pyenv/versions/miniforge3-4.10.3-10/envs/scMultiSim/lib/python3.9/site-packages/scib/metrics/metrics.py:293: DeprecationWarning: Call to deprecated function (or staticmethod) opt_louvain.\n",
      "  res_max, nmi_max, nmi_all = opt_louvain(\n"
     ]
    },
    {
     "name": "stdout",
     "output_type": "stream",
     "text": [
      "NMI...\n",
      "ARI...\n",
      "Silhouette score...\n",
      "Graph connectivity...\n",
      "/home/lhc/scMultiSim/bench/unif/0/tree3_500_cells110_genes_sigma0.5_1/integ3/\n",
      "PCA\n",
      "Nearest Neigbours\n",
      "PCA\n",
      "Nearest Neigbours\n",
      "NMI...\n",
      "ARI...\n",
      "Silhouette score...\n",
      "Graph connectivity...\n",
      "/home/lhc/scMultiSim/bench/unif/0/tree3_500_cells110_genes_sigma0.5_2/integ3/\n"
     ]
    },
    {
     "name": "stderr",
     "output_type": "stream",
     "text": [
      "/home/lhc/.pyenv/versions/miniforge3-4.10.3-10/envs/scMultiSim/lib/python3.9/site-packages/scib/metrics/metrics.py:293: DeprecationWarning: Call to deprecated function (or staticmethod) opt_louvain.\n",
      "  res_max, nmi_max, nmi_all = opt_louvain(\n",
      "/home/lhc/.pyenv/versions/miniforge3-4.10.3-10/envs/scMultiSim/lib/python3.9/site-packages/scib/metrics/metrics.py:293: DeprecationWarning: Call to deprecated function (or staticmethod) opt_louvain.\n",
      "  res_max, nmi_max, nmi_all = opt_louvain(\n"
     ]
    },
    {
     "name": "stdout",
     "output_type": "stream",
     "text": [
      "PCA\n",
      "Nearest Neigbours\n",
      "PCA\n",
      "Nearest Neigbours\n",
      "NMI...\n",
      "ARI...\n",
      "Silhouette score...\n",
      "Graph connectivity...\n",
      "/home/lhc/scMultiSim/bench/unif/0/tree3_500_cells110_genes_sigma0.5_3/integ3/\n",
      "PCA\n",
      "Nearest Neigbours\n",
      "PCA\n",
      "Nearest Neigbours\n",
      "NMI...\n",
      "ARI...\n",
      "Silhouette score...\n",
      "Graph connectivity...\n",
      "/home/lhc/scMultiSim/bench/unif/0/tree3_500_cells110_genes_sigma0.5_4/integ3/\n",
      "PCA\n",
      "Nearest Neigbours\n",
      "PCA\n",
      "Nearest Neigbours\n"
     ]
    },
    {
     "name": "stderr",
     "output_type": "stream",
     "text": [
      "/home/lhc/.pyenv/versions/miniforge3-4.10.3-10/envs/scMultiSim/lib/python3.9/site-packages/scib/metrics/metrics.py:293: DeprecationWarning: Call to deprecated function (or staticmethod) opt_louvain.\n",
      "  res_max, nmi_max, nmi_all = opt_louvain(\n",
      "/home/lhc/.pyenv/versions/miniforge3-4.10.3-10/envs/scMultiSim/lib/python3.9/site-packages/scib/metrics/metrics.py:293: DeprecationWarning: Call to deprecated function (or staticmethod) opt_louvain.\n",
      "  res_max, nmi_max, nmi_all = opt_louvain(\n"
     ]
    },
    {
     "name": "stdout",
     "output_type": "stream",
     "text": [
      "NMI...\n",
      "ARI...\n",
      "Silhouette score...\n",
      "Graph connectivity...\n",
      "/home/lhc/scMultiSim/bench/unif/0/tree3_500_cells200_genes_sigma0.5_1/integ3/\n",
      "PCA\n",
      "Nearest Neigbours\n",
      "PCA\n",
      "Nearest Neigbours\n"
     ]
    },
    {
     "name": "stderr",
     "output_type": "stream",
     "text": [
      "/home/lhc/.pyenv/versions/miniforge3-4.10.3-10/envs/scMultiSim/lib/python3.9/site-packages/scib/metrics/metrics.py:293: DeprecationWarning: Call to deprecated function (or staticmethod) opt_louvain.\n",
      "  res_max, nmi_max, nmi_all = opt_louvain(\n",
      "/home/lhc/.pyenv/versions/miniforge3-4.10.3-10/envs/scMultiSim/lib/python3.9/site-packages/scib/metrics/metrics.py:293: DeprecationWarning: Call to deprecated function (or staticmethod) opt_louvain.\n",
      "  res_max, nmi_max, nmi_all = opt_louvain(\n"
     ]
    },
    {
     "name": "stdout",
     "output_type": "stream",
     "text": [
      "NMI...\n",
      "ARI...\n",
      "Silhouette score...\n",
      "Graph connectivity...\n",
      "/home/lhc/scMultiSim/bench/unif/0/tree3_500_cells200_genes_sigma0.5_2/integ3/\n",
      "PCA\n",
      "Nearest Neigbours\n",
      "PCA\n",
      "Nearest Neigbours\n",
      "NMI...\n",
      "ARI...\n",
      "Silhouette score...\n",
      "Graph connectivity...\n",
      "/home/lhc/scMultiSim/bench/unif/0/tree3_500_cells200_genes_sigma0.5_3/integ3/\n",
      "PCA\n",
      "Nearest Neigbours\n",
      "PCA\n",
      "Nearest Neigbours\n",
      "NMI...\n",
      "ARI...\n",
      "Silhouette score...\n",
      "Graph connectivity...\n",
      "/home/lhc/scMultiSim/bench/unif/0/tree3_500_cells200_genes_sigma0.5_4/integ3/\n",
      "PCA\n",
      "Nearest Neigbours\n"
     ]
    },
    {
     "name": "stderr",
     "output_type": "stream",
     "text": [
      "/home/lhc/.pyenv/versions/miniforge3-4.10.3-10/envs/scMultiSim/lib/python3.9/site-packages/scib/metrics/metrics.py:293: DeprecationWarning: Call to deprecated function (or staticmethod) opt_louvain.\n",
      "  res_max, nmi_max, nmi_all = opt_louvain(\n",
      "/home/lhc/.pyenv/versions/miniforge3-4.10.3-10/envs/scMultiSim/lib/python3.9/site-packages/scib/metrics/metrics.py:293: DeprecationWarning: Call to deprecated function (or staticmethod) opt_louvain.\n",
      "  res_max, nmi_max, nmi_all = opt_louvain(\n"
     ]
    },
    {
     "name": "stdout",
     "output_type": "stream",
     "text": [
      "PCA\n",
      "Nearest Neigbours\n",
      "NMI...\n",
      "ARI...\n",
      "Silhouette score...\n",
      "Graph connectivity...\n",
      "/home/lhc/scMultiSim/bench/unif/0/tree3_500_cells500_genes_sigma0.5_1/integ3/\n",
      "PCA\n",
      "Nearest Neigbours\n",
      "PCA\n",
      "Nearest Neigbours\n",
      "NMI...\n",
      "ARI...\n",
      "Silhouette score...\n",
      "Graph connectivity...\n",
      "/home/lhc/scMultiSim/bench/unif/0/tree3_500_cells500_genes_sigma0.5_2/integ3/\n",
      "PCA\n",
      "Nearest Neigbours\n",
      "PCA\n",
      "Nearest Neigbours\n"
     ]
    },
    {
     "name": "stderr",
     "output_type": "stream",
     "text": [
      "/home/lhc/.pyenv/versions/miniforge3-4.10.3-10/envs/scMultiSim/lib/python3.9/site-packages/scib/metrics/metrics.py:293: DeprecationWarning: Call to deprecated function (or staticmethod) opt_louvain.\n",
      "  res_max, nmi_max, nmi_all = opt_louvain(\n",
      "/home/lhc/.pyenv/versions/miniforge3-4.10.3-10/envs/scMultiSim/lib/python3.9/site-packages/scib/metrics/metrics.py:293: DeprecationWarning: Call to deprecated function (or staticmethod) opt_louvain.\n",
      "  res_max, nmi_max, nmi_all = opt_louvain(\n"
     ]
    },
    {
     "name": "stdout",
     "output_type": "stream",
     "text": [
      "NMI...\n",
      "ARI...\n",
      "Silhouette score...\n",
      "Graph connectivity...\n",
      "/home/lhc/scMultiSim/bench/unif/0/tree3_500_cells500_genes_sigma0.5_3/integ3/\n",
      "PCA\n",
      "Nearest Neigbours\n",
      "PCA\n",
      "Nearest Neigbours\n"
     ]
    },
    {
     "name": "stderr",
     "output_type": "stream",
     "text": [
      "/home/lhc/.pyenv/versions/miniforge3-4.10.3-10/envs/scMultiSim/lib/python3.9/site-packages/scib/metrics/metrics.py:293: DeprecationWarning: Call to deprecated function (or staticmethod) opt_louvain.\n",
      "  res_max, nmi_max, nmi_all = opt_louvain(\n"
     ]
    },
    {
     "name": "stdout",
     "output_type": "stream",
     "text": [
      "NMI...\n",
      "ARI...\n",
      "Silhouette score...\n",
      "Graph connectivity...\n",
      "/home/lhc/scMultiSim/bench/unif/0/tree3_500_cells500_genes_sigma0.5_4/integ3/\n",
      "PCA\n",
      "Nearest Neigbours\n",
      "PCA\n",
      "Nearest Neigbours\n"
     ]
    },
    {
     "name": "stderr",
     "output_type": "stream",
     "text": [
      "/home/lhc/.pyenv/versions/miniforge3-4.10.3-10/envs/scMultiSim/lib/python3.9/site-packages/scib/metrics/metrics.py:293: DeprecationWarning: Call to deprecated function (or staticmethod) opt_louvain.\n",
      "  res_max, nmi_max, nmi_all = opt_louvain(\n",
      "/home/lhc/.pyenv/versions/miniforge3-4.10.3-10/envs/scMultiSim/lib/python3.9/site-packages/scib/metrics/metrics.py:293: DeprecationWarning: Call to deprecated function (or staticmethod) opt_louvain.\n",
      "  res_max, nmi_max, nmi_all = opt_louvain(\n"
     ]
    },
    {
     "name": "stdout",
     "output_type": "stream",
     "text": [
      "NMI...\n",
      "ARI...\n",
      "Silhouette score...\n",
      "Graph connectivity...\n",
      "/home/lhc/scMultiSim/bench/unif/0/tree3_800_cells110_genes_sigma0.5_1/integ3/\n",
      "PCA\n",
      "Nearest Neigbours\n",
      "PCA\n",
      "Nearest Neigbours\n",
      "NMI...\n",
      "ARI...\n",
      "Silhouette score...\n",
      "Graph connectivity...\n",
      "/home/lhc/scMultiSim/bench/unif/0/tree3_800_cells110_genes_sigma0.5_2/integ3/\n",
      "PCA\n",
      "Nearest Neigbours\n",
      "PCA\n",
      "Nearest Neigbours\n"
     ]
    },
    {
     "name": "stderr",
     "output_type": "stream",
     "text": [
      "/home/lhc/.pyenv/versions/miniforge3-4.10.3-10/envs/scMultiSim/lib/python3.9/site-packages/scib/metrics/metrics.py:293: DeprecationWarning: Call to deprecated function (or staticmethod) opt_louvain.\n",
      "  res_max, nmi_max, nmi_all = opt_louvain(\n"
     ]
    },
    {
     "name": "stdout",
     "output_type": "stream",
     "text": [
      "NMI...\n",
      "ARI...\n",
      "Silhouette score...\n",
      "Graph connectivity...\n",
      "/home/lhc/scMultiSim/bench/unif/0/tree3_800_cells110_genes_sigma0.5_3/integ3/\n",
      "PCA\n",
      "Nearest Neigbours\n",
      "PCA\n",
      "Nearest Neigbours\n"
     ]
    },
    {
     "name": "stderr",
     "output_type": "stream",
     "text": [
      "/home/lhc/.pyenv/versions/miniforge3-4.10.3-10/envs/scMultiSim/lib/python3.9/site-packages/scib/metrics/metrics.py:293: DeprecationWarning: Call to deprecated function (or staticmethod) opt_louvain.\n",
      "  res_max, nmi_max, nmi_all = opt_louvain(\n"
     ]
    },
    {
     "name": "stdout",
     "output_type": "stream",
     "text": [
      "NMI...\n",
      "ARI...\n",
      "Silhouette score...\n",
      "Graph connectivity...\n",
      "/home/lhc/scMultiSim/bench/unif/0/tree3_800_cells110_genes_sigma0.5_4/integ3/\n",
      "PCA\n",
      "Nearest Neigbours\n",
      "PCA\n",
      "Nearest Neigbours\n"
     ]
    },
    {
     "name": "stderr",
     "output_type": "stream",
     "text": [
      "/home/lhc/.pyenv/versions/miniforge3-4.10.3-10/envs/scMultiSim/lib/python3.9/site-packages/scib/metrics/metrics.py:293: DeprecationWarning: Call to deprecated function (or staticmethod) opt_louvain.\n",
      "  res_max, nmi_max, nmi_all = opt_louvain(\n"
     ]
    },
    {
     "name": "stdout",
     "output_type": "stream",
     "text": [
      "NMI...\n",
      "ARI...\n",
      "Silhouette score...\n",
      "Graph connectivity...\n",
      "/home/lhc/scMultiSim/bench/unif/0/tree3_800_cells200_genes_sigma0.5_1/integ3/\n",
      "PCA\n",
      "Nearest Neigbours\n",
      "PCA\n",
      "Nearest Neigbours\n"
     ]
    },
    {
     "name": "stderr",
     "output_type": "stream",
     "text": [
      "/home/lhc/.pyenv/versions/miniforge3-4.10.3-10/envs/scMultiSim/lib/python3.9/site-packages/scib/metrics/metrics.py:293: DeprecationWarning: Call to deprecated function (or staticmethod) opt_louvain.\n",
      "  res_max, nmi_max, nmi_all = opt_louvain(\n"
     ]
    },
    {
     "name": "stdout",
     "output_type": "stream",
     "text": [
      "NMI...\n",
      "ARI...\n",
      "Silhouette score...\n",
      "Graph connectivity...\n",
      "/home/lhc/scMultiSim/bench/unif/0/tree3_800_cells200_genes_sigma0.5_2/integ3/\n",
      "PCA\n",
      "Nearest Neigbours\n",
      "PCA\n",
      "Nearest Neigbours\n"
     ]
    },
    {
     "name": "stderr",
     "output_type": "stream",
     "text": [
      "/home/lhc/.pyenv/versions/miniforge3-4.10.3-10/envs/scMultiSim/lib/python3.9/site-packages/scib/metrics/metrics.py:293: DeprecationWarning: Call to deprecated function (or staticmethod) opt_louvain.\n",
      "  res_max, nmi_max, nmi_all = opt_louvain(\n"
     ]
    },
    {
     "name": "stdout",
     "output_type": "stream",
     "text": [
      "NMI...\n",
      "ARI...\n",
      "Silhouette score...\n",
      "Graph connectivity...\n",
      "/home/lhc/scMultiSim/bench/unif/0/tree3_800_cells200_genes_sigma0.5_3/integ3/\n",
      "PCA\n",
      "Nearest Neigbours\n",
      "PCA\n",
      "Nearest Neigbours\n"
     ]
    },
    {
     "name": "stderr",
     "output_type": "stream",
     "text": [
      "/home/lhc/.pyenv/versions/miniforge3-4.10.3-10/envs/scMultiSim/lib/python3.9/site-packages/scib/metrics/metrics.py:293: DeprecationWarning: Call to deprecated function (or staticmethod) opt_louvain.\n",
      "  res_max, nmi_max, nmi_all = opt_louvain(\n"
     ]
    },
    {
     "name": "stdout",
     "output_type": "stream",
     "text": [
      "NMI...\n",
      "ARI...\n",
      "Silhouette score...\n",
      "Graph connectivity...\n",
      "/home/lhc/scMultiSim/bench/unif/0/tree3_800_cells200_genes_sigma0.5_4/integ3/\n",
      "PCA\n",
      "Nearest Neigbours\n",
      "PCA\n",
      "Nearest Neigbours\n"
     ]
    },
    {
     "name": "stderr",
     "output_type": "stream",
     "text": [
      "/home/lhc/.pyenv/versions/miniforge3-4.10.3-10/envs/scMultiSim/lib/python3.9/site-packages/scib/metrics/metrics.py:293: DeprecationWarning: Call to deprecated function (or staticmethod) opt_louvain.\n",
      "  res_max, nmi_max, nmi_all = opt_louvain(\n"
     ]
    },
    {
     "name": "stdout",
     "output_type": "stream",
     "text": [
      "NMI...\n",
      "ARI...\n",
      "Silhouette score...\n",
      "Graph connectivity...\n",
      "/home/lhc/scMultiSim/bench/unif/0/tree3_800_cells500_genes_sigma0.5_1/integ3/\n",
      "PCA\n",
      "Nearest Neigbours\n",
      "PCA\n",
      "Nearest Neigbours\n"
     ]
    },
    {
     "name": "stderr",
     "output_type": "stream",
     "text": [
      "/home/lhc/.pyenv/versions/miniforge3-4.10.3-10/envs/scMultiSim/lib/python3.9/site-packages/scib/metrics/metrics.py:293: DeprecationWarning: Call to deprecated function (or staticmethod) opt_louvain.\n",
      "  res_max, nmi_max, nmi_all = opt_louvain(\n"
     ]
    },
    {
     "name": "stdout",
     "output_type": "stream",
     "text": [
      "NMI...\n",
      "ARI...\n",
      "Silhouette score...\n",
      "Graph connectivity...\n",
      "/home/lhc/scMultiSim/bench/unif/0/tree3_800_cells500_genes_sigma0.5_2/integ3/\n",
      "PCA\n",
      "Nearest Neigbours\n",
      "PCA\n",
      "Nearest Neigbours\n"
     ]
    },
    {
     "name": "stderr",
     "output_type": "stream",
     "text": [
      "/home/lhc/.pyenv/versions/miniforge3-4.10.3-10/envs/scMultiSim/lib/python3.9/site-packages/scib/metrics/metrics.py:293: DeprecationWarning: Call to deprecated function (or staticmethod) opt_louvain.\n",
      "  res_max, nmi_max, nmi_all = opt_louvain(\n"
     ]
    },
    {
     "name": "stdout",
     "output_type": "stream",
     "text": [
      "NMI...\n",
      "ARI...\n",
      "Silhouette score...\n",
      "Graph connectivity...\n",
      "/home/lhc/scMultiSim/bench/unif/0/tree3_800_cells500_genes_sigma0.5_3/integ3/\n",
      "PCA\n",
      "Nearest Neigbours\n",
      "PCA\n",
      "Nearest Neigbours\n"
     ]
    },
    {
     "name": "stderr",
     "output_type": "stream",
     "text": [
      "/home/lhc/.pyenv/versions/miniforge3-4.10.3-10/envs/scMultiSim/lib/python3.9/site-packages/scib/metrics/metrics.py:293: DeprecationWarning: Call to deprecated function (or staticmethod) opt_louvain.\n",
      "  res_max, nmi_max, nmi_all = opt_louvain(\n"
     ]
    },
    {
     "name": "stdout",
     "output_type": "stream",
     "text": [
      "NMI...\n",
      "ARI...\n",
      "Silhouette score...\n",
      "Graph connectivity...\n",
      "/home/lhc/scMultiSim/bench/unif/0/tree3_800_cells500_genes_sigma0.5_4/integ3/\n",
      "PCA\n",
      "Nearest Neigbours\n",
      "PCA\n",
      "Nearest Neigbours\n"
     ]
    },
    {
     "name": "stderr",
     "output_type": "stream",
     "text": [
      "/home/lhc/.pyenv/versions/miniforge3-4.10.3-10/envs/scMultiSim/lib/python3.9/site-packages/scib/metrics/metrics.py:293: DeprecationWarning: Call to deprecated function (or staticmethod) opt_louvain.\n",
      "  res_max, nmi_max, nmi_all = opt_louvain(\n"
     ]
    },
    {
     "name": "stdout",
     "output_type": "stream",
     "text": [
      "NMI...\n",
      "ARI...\n",
      "Silhouette score...\n",
      "Graph connectivity...\n",
      "/home/lhc/scMultiSim/bench/unif/0/tree5_500_cells110_genes_sigma0.5_1/integ3/\n",
      "PCA\n",
      "Nearest Neigbours\n",
      "PCA\n",
      "Nearest Neigbours\n",
      "NMI...\n",
      "ARI...\n",
      "Silhouette score...\n",
      "Graph connectivity...\n"
     ]
    },
    {
     "name": "stderr",
     "output_type": "stream",
     "text": [
      "/home/lhc/.pyenv/versions/miniforge3-4.10.3-10/envs/scMultiSim/lib/python3.9/site-packages/scib/metrics/metrics.py:293: DeprecationWarning: Call to deprecated function (or staticmethod) opt_louvain.\n",
      "  res_max, nmi_max, nmi_all = opt_louvain(\n",
      "/home/lhc/.pyenv/versions/miniforge3-4.10.3-10/envs/scMultiSim/lib/python3.9/site-packages/scib/metrics/metrics.py:293: DeprecationWarning: Call to deprecated function (or staticmethod) opt_louvain.\n",
      "  res_max, nmi_max, nmi_all = opt_louvain(\n"
     ]
    },
    {
     "name": "stdout",
     "output_type": "stream",
     "text": [
      "/home/lhc/scMultiSim/bench/unif/0/tree5_500_cells110_genes_sigma0.5_2/integ3/\n",
      "PCA\n",
      "Nearest Neigbours\n",
      "PCA\n",
      "Nearest Neigbours\n",
      "NMI...\n",
      "ARI...\n",
      "Silhouette score...\n",
      "Graph connectivity...\n",
      "/home/lhc/scMultiSim/bench/unif/0/tree5_500_cells110_genes_sigma0.5_3/integ3/\n",
      "PCA\n",
      "Nearest Neigbours\n",
      "PCA\n",
      "Nearest Neigbours\n"
     ]
    },
    {
     "name": "stderr",
     "output_type": "stream",
     "text": [
      "/home/lhc/.pyenv/versions/miniforge3-4.10.3-10/envs/scMultiSim/lib/python3.9/site-packages/scib/metrics/metrics.py:293: DeprecationWarning: Call to deprecated function (or staticmethod) opt_louvain.\n",
      "  res_max, nmi_max, nmi_all = opt_louvain(\n",
      "/home/lhc/.pyenv/versions/miniforge3-4.10.3-10/envs/scMultiSim/lib/python3.9/site-packages/scib/metrics/metrics.py:293: DeprecationWarning: Call to deprecated function (or staticmethod) opt_louvain.\n",
      "  res_max, nmi_max, nmi_all = opt_louvain(\n"
     ]
    },
    {
     "name": "stdout",
     "output_type": "stream",
     "text": [
      "NMI...\n",
      "ARI...\n",
      "Silhouette score...\n",
      "Graph connectivity...\n",
      "/home/lhc/scMultiSim/bench/unif/0/tree5_500_cells110_genes_sigma0.5_4/integ3/\n",
      "PCA\n",
      "Nearest Neigbours\n",
      "PCA\n",
      "Nearest Neigbours\n",
      "NMI...\n",
      "ARI...\n",
      "Silhouette score...\n",
      "Graph connectivity...\n",
      "/home/lhc/scMultiSim/bench/unif/0/tree5_500_cells200_genes_sigma0.5_1/integ3/\n",
      "PCA\n",
      "Nearest Neigbours\n",
      "PCA\n",
      "Nearest Neigbours\n",
      "NMI...\n",
      "ARI...\n",
      "Silhouette score...\n",
      "Graph connectivity...\n",
      "/home/lhc/scMultiSim/bench/unif/0/tree5_500_cells200_genes_sigma0.5_2/integ3/\n",
      "PCA\n",
      "Nearest Neigbours\n"
     ]
    },
    {
     "name": "stderr",
     "output_type": "stream",
     "text": [
      "/home/lhc/.pyenv/versions/miniforge3-4.10.3-10/envs/scMultiSim/lib/python3.9/site-packages/scib/metrics/metrics.py:293: DeprecationWarning: Call to deprecated function (or staticmethod) opt_louvain.\n",
      "  res_max, nmi_max, nmi_all = opt_louvain(\n",
      "/home/lhc/.pyenv/versions/miniforge3-4.10.3-10/envs/scMultiSim/lib/python3.9/site-packages/scib/metrics/metrics.py:293: DeprecationWarning: Call to deprecated function (or staticmethod) opt_louvain.\n",
      "  res_max, nmi_max, nmi_all = opt_louvain(\n"
     ]
    },
    {
     "name": "stdout",
     "output_type": "stream",
     "text": [
      "PCA\n",
      "Nearest Neigbours\n",
      "NMI...\n",
      "ARI...\n",
      "Silhouette score...\n",
      "Graph connectivity...\n",
      "/home/lhc/scMultiSim/bench/unif/0/tree5_500_cells200_genes_sigma0.5_3/integ3/\n",
      "PCA\n",
      "Nearest Neigbours\n",
      "PCA\n",
      "Nearest Neigbours\n",
      "NMI...\n",
      "ARI...\n",
      "Silhouette score...\n",
      "Graph connectivity...\n",
      "/home/lhc/scMultiSim/bench/unif/0/tree5_500_cells200_genes_sigma0.5_4/integ3/\n",
      "PCA\n",
      "Nearest Neigbours\n",
      "PCA\n",
      "Nearest Neigbours\n"
     ]
    },
    {
     "name": "stderr",
     "output_type": "stream",
     "text": [
      "/home/lhc/.pyenv/versions/miniforge3-4.10.3-10/envs/scMultiSim/lib/python3.9/site-packages/scib/metrics/metrics.py:293: DeprecationWarning: Call to deprecated function (or staticmethod) opt_louvain.\n",
      "  res_max, nmi_max, nmi_all = opt_louvain(\n",
      "/home/lhc/.pyenv/versions/miniforge3-4.10.3-10/envs/scMultiSim/lib/python3.9/site-packages/scib/metrics/metrics.py:293: DeprecationWarning: Call to deprecated function (or staticmethod) opt_louvain.\n",
      "  res_max, nmi_max, nmi_all = opt_louvain(\n"
     ]
    },
    {
     "name": "stdout",
     "output_type": "stream",
     "text": [
      "NMI...\n",
      "ARI...\n",
      "Silhouette score...\n",
      "Graph connectivity...\n",
      "/home/lhc/scMultiSim/bench/unif/0/tree5_500_cells500_genes_sigma0.5_1/integ3/\n",
      "PCA\n",
      "Nearest Neigbours\n",
      "PCA\n",
      "Nearest Neigbours\n",
      "NMI...\n",
      "ARI...\n",
      "Silhouette score...\n"
     ]
    },
    {
     "name": "stderr",
     "output_type": "stream",
     "text": [
      "/home/lhc/.pyenv/versions/miniforge3-4.10.3-10/envs/scMultiSim/lib/python3.9/site-packages/scib/metrics/metrics.py:293: DeprecationWarning: Call to deprecated function (or staticmethod) opt_louvain.\n",
      "  res_max, nmi_max, nmi_all = opt_louvain(\n",
      "/home/lhc/.pyenv/versions/miniforge3-4.10.3-10/envs/scMultiSim/lib/python3.9/site-packages/scib/metrics/metrics.py:293: DeprecationWarning: Call to deprecated function (or staticmethod) opt_louvain.\n",
      "  res_max, nmi_max, nmi_all = opt_louvain(\n"
     ]
    },
    {
     "name": "stdout",
     "output_type": "stream",
     "text": [
      "Graph connectivity...\n",
      "/home/lhc/scMultiSim/bench/unif/0/tree5_500_cells500_genes_sigma0.5_2/integ3/\n",
      "PCA\n",
      "Nearest Neigbours\n",
      "PCA\n",
      "Nearest Neigbours\n",
      "NMI...\n",
      "ARI...\n",
      "Silhouette score...\n",
      "Graph connectivity...\n",
      "/home/lhc/scMultiSim/bench/unif/0/tree5_500_cells500_genes_sigma0.5_3/integ3/\n",
      "PCA\n",
      "Nearest Neigbours\n",
      "PCA\n",
      "Nearest Neigbours\n",
      "NMI...\n",
      "ARI...\n",
      "Silhouette score...\n",
      "Graph connectivity...\n",
      "/home/lhc/scMultiSim/bench/unif/0/tree5_500_cells500_genes_sigma0.5_4/integ3/\n",
      "PCA\n",
      "Nearest Neigbours\n"
     ]
    },
    {
     "name": "stderr",
     "output_type": "stream",
     "text": [
      "/home/lhc/.pyenv/versions/miniforge3-4.10.3-10/envs/scMultiSim/lib/python3.9/site-packages/scib/metrics/metrics.py:293: DeprecationWarning: Call to deprecated function (or staticmethod) opt_louvain.\n",
      "  res_max, nmi_max, nmi_all = opt_louvain(\n",
      "/home/lhc/.pyenv/versions/miniforge3-4.10.3-10/envs/scMultiSim/lib/python3.9/site-packages/scib/metrics/metrics.py:293: DeprecationWarning: Call to deprecated function (or staticmethod) opt_louvain.\n",
      "  res_max, nmi_max, nmi_all = opt_louvain(\n"
     ]
    },
    {
     "name": "stdout",
     "output_type": "stream",
     "text": [
      "PCA\n",
      "Nearest Neigbours\n",
      "NMI...\n",
      "ARI...\n",
      "Silhouette score...\n",
      "Graph connectivity...\n",
      "/home/lhc/scMultiSim/bench/unif/0/tree5_800_cells110_genes_sigma0.5_1/integ3/\n",
      "PCA\n",
      "Nearest Neigbours\n",
      "PCA\n",
      "Nearest Neigbours\n"
     ]
    },
    {
     "name": "stderr",
     "output_type": "stream",
     "text": [
      "/home/lhc/.pyenv/versions/miniforge3-4.10.3-10/envs/scMultiSim/lib/python3.9/site-packages/scib/metrics/metrics.py:293: DeprecationWarning: Call to deprecated function (or staticmethod) opt_louvain.\n",
      "  res_max, nmi_max, nmi_all = opt_louvain(\n"
     ]
    },
    {
     "name": "stdout",
     "output_type": "stream",
     "text": [
      "NMI...\n",
      "ARI...\n",
      "Silhouette score...\n",
      "Graph connectivity...\n",
      "/home/lhc/scMultiSim/bench/unif/0/tree5_800_cells110_genes_sigma0.5_2/integ3/\n",
      "PCA\n",
      "Nearest Neigbours\n",
      "PCA\n",
      "Nearest Neigbours\n"
     ]
    },
    {
     "name": "stderr",
     "output_type": "stream",
     "text": [
      "/home/lhc/.pyenv/versions/miniforge3-4.10.3-10/envs/scMultiSim/lib/python3.9/site-packages/scib/metrics/metrics.py:293: DeprecationWarning: Call to deprecated function (or staticmethod) opt_louvain.\n",
      "  res_max, nmi_max, nmi_all = opt_louvain(\n"
     ]
    },
    {
     "name": "stdout",
     "output_type": "stream",
     "text": [
      "NMI...\n",
      "ARI...\n",
      "Silhouette score...\n",
      "Graph connectivity...\n",
      "/home/lhc/scMultiSim/bench/unif/0/tree5_800_cells110_genes_sigma0.5_3/integ3/\n",
      "PCA\n",
      "Nearest Neigbours\n",
      "PCA\n",
      "Nearest Neigbours\n"
     ]
    },
    {
     "name": "stderr",
     "output_type": "stream",
     "text": [
      "/home/lhc/.pyenv/versions/miniforge3-4.10.3-10/envs/scMultiSim/lib/python3.9/site-packages/scib/metrics/metrics.py:293: DeprecationWarning: Call to deprecated function (or staticmethod) opt_louvain.\n",
      "  res_max, nmi_max, nmi_all = opt_louvain(\n"
     ]
    },
    {
     "name": "stdout",
     "output_type": "stream",
     "text": [
      "NMI...\n",
      "ARI...\n",
      "Silhouette score...\n",
      "Graph connectivity...\n",
      "/home/lhc/scMultiSim/bench/unif/0/tree5_800_cells110_genes_sigma0.5_4/integ3/\n",
      "PCA\n",
      "Nearest Neigbours\n",
      "PCA\n",
      "Nearest Neigbours\n"
     ]
    },
    {
     "name": "stderr",
     "output_type": "stream",
     "text": [
      "/home/lhc/.pyenv/versions/miniforge3-4.10.3-10/envs/scMultiSim/lib/python3.9/site-packages/scib/metrics/metrics.py:293: DeprecationWarning: Call to deprecated function (or staticmethod) opt_louvain.\n",
      "  res_max, nmi_max, nmi_all = opt_louvain(\n"
     ]
    },
    {
     "name": "stdout",
     "output_type": "stream",
     "text": [
      "NMI...\n",
      "ARI...\n",
      "Silhouette score...\n",
      "Graph connectivity...\n",
      "/home/lhc/scMultiSim/bench/unif/0/tree5_800_cells200_genes_sigma0.5_1/integ3/\n",
      "PCA\n",
      "Nearest Neigbours\n",
      "PCA\n",
      "Nearest Neigbours\n"
     ]
    },
    {
     "name": "stderr",
     "output_type": "stream",
     "text": [
      "/home/lhc/.pyenv/versions/miniforge3-4.10.3-10/envs/scMultiSim/lib/python3.9/site-packages/scib/metrics/metrics.py:293: DeprecationWarning: Call to deprecated function (or staticmethod) opt_louvain.\n",
      "  res_max, nmi_max, nmi_all = opt_louvain(\n"
     ]
    },
    {
     "name": "stdout",
     "output_type": "stream",
     "text": [
      "NMI...\n",
      "ARI...\n",
      "Silhouette score...\n",
      "Graph connectivity...\n",
      "/home/lhc/scMultiSim/bench/unif/0/tree5_800_cells200_genes_sigma0.5_2/integ3/\n",
      "PCA\n",
      "Nearest Neigbours\n",
      "PCA\n",
      "Nearest Neigbours\n"
     ]
    },
    {
     "name": "stderr",
     "output_type": "stream",
     "text": [
      "/home/lhc/.pyenv/versions/miniforge3-4.10.3-10/envs/scMultiSim/lib/python3.9/site-packages/scib/metrics/metrics.py:293: DeprecationWarning: Call to deprecated function (or staticmethod) opt_louvain.\n",
      "  res_max, nmi_max, nmi_all = opt_louvain(\n"
     ]
    },
    {
     "name": "stdout",
     "output_type": "stream",
     "text": [
      "NMI...\n",
      "ARI...\n",
      "Silhouette score...\n",
      "Graph connectivity...\n",
      "/home/lhc/scMultiSim/bench/unif/0/tree5_800_cells200_genes_sigma0.5_3/integ3/\n",
      "PCA\n",
      "Nearest Neigbours\n",
      "PCA\n",
      "Nearest Neigbours\n"
     ]
    },
    {
     "name": "stderr",
     "output_type": "stream",
     "text": [
      "/home/lhc/.pyenv/versions/miniforge3-4.10.3-10/envs/scMultiSim/lib/python3.9/site-packages/scib/metrics/metrics.py:293: DeprecationWarning: Call to deprecated function (or staticmethod) opt_louvain.\n",
      "  res_max, nmi_max, nmi_all = opt_louvain(\n"
     ]
    },
    {
     "name": "stdout",
     "output_type": "stream",
     "text": [
      "NMI...\n",
      "ARI...\n",
      "Silhouette score...\n",
      "Graph connectivity...\n",
      "/home/lhc/scMultiSim/bench/unif/0/tree5_800_cells200_genes_sigma0.5_4/integ3/\n",
      "PCA\n",
      "Nearest Neigbours\n",
      "PCA\n",
      "Nearest Neigbours\n"
     ]
    },
    {
     "name": "stderr",
     "output_type": "stream",
     "text": [
      "/home/lhc/.pyenv/versions/miniforge3-4.10.3-10/envs/scMultiSim/lib/python3.9/site-packages/scib/metrics/metrics.py:293: DeprecationWarning: Call to deprecated function (or staticmethod) opt_louvain.\n",
      "  res_max, nmi_max, nmi_all = opt_louvain(\n"
     ]
    },
    {
     "name": "stdout",
     "output_type": "stream",
     "text": [
      "NMI...\n",
      "ARI...\n",
      "Silhouette score...\n",
      "Graph connectivity...\n",
      "/home/lhc/scMultiSim/bench/unif/0/tree5_800_cells500_genes_sigma0.5_1/integ3/\n",
      "PCA\n",
      "Nearest Neigbours\n",
      "PCA\n",
      "Nearest Neigbours\n"
     ]
    },
    {
     "name": "stderr",
     "output_type": "stream",
     "text": [
      "/home/lhc/.pyenv/versions/miniforge3-4.10.3-10/envs/scMultiSim/lib/python3.9/site-packages/scib/metrics/metrics.py:293: DeprecationWarning: Call to deprecated function (or staticmethod) opt_louvain.\n",
      "  res_max, nmi_max, nmi_all = opt_louvain(\n"
     ]
    },
    {
     "name": "stdout",
     "output_type": "stream",
     "text": [
      "NMI...\n",
      "ARI...\n",
      "Silhouette score...\n",
      "Graph connectivity...\n",
      "/home/lhc/scMultiSim/bench/unif/0/tree5_800_cells500_genes_sigma0.5_2/integ3/\n",
      "PCA\n",
      "Nearest Neigbours\n",
      "PCA\n",
      "Nearest Neigbours\n"
     ]
    },
    {
     "name": "stderr",
     "output_type": "stream",
     "text": [
      "/home/lhc/.pyenv/versions/miniforge3-4.10.3-10/envs/scMultiSim/lib/python3.9/site-packages/scib/metrics/metrics.py:293: DeprecationWarning: Call to deprecated function (or staticmethod) opt_louvain.\n",
      "  res_max, nmi_max, nmi_all = opt_louvain(\n"
     ]
    },
    {
     "name": "stdout",
     "output_type": "stream",
     "text": [
      "NMI...\n",
      "ARI...\n",
      "Silhouette score...\n",
      "Graph connectivity...\n",
      "/home/lhc/scMultiSim/bench/unif/0/tree5_800_cells500_genes_sigma0.5_3/integ3/\n",
      "PCA\n",
      "Nearest Neigbours\n",
      "PCA\n",
      "Nearest Neigbours\n"
     ]
    },
    {
     "name": "stderr",
     "output_type": "stream",
     "text": [
      "/home/lhc/.pyenv/versions/miniforge3-4.10.3-10/envs/scMultiSim/lib/python3.9/site-packages/scib/metrics/metrics.py:293: DeprecationWarning: Call to deprecated function (or staticmethod) opt_louvain.\n",
      "  res_max, nmi_max, nmi_all = opt_louvain(\n"
     ]
    },
    {
     "name": "stdout",
     "output_type": "stream",
     "text": [
      "NMI...\n",
      "ARI...\n",
      "Silhouette score...\n",
      "Graph connectivity...\n",
      "/home/lhc/scMultiSim/bench/unif/0/tree5_800_cells500_genes_sigma0.5_4/integ3/\n",
      "PCA\n",
      "Nearest Neigbours\n",
      "PCA\n",
      "Nearest Neigbours\n"
     ]
    },
    {
     "name": "stderr",
     "output_type": "stream",
     "text": [
      "/home/lhc/.pyenv/versions/miniforge3-4.10.3-10/envs/scMultiSim/lib/python3.9/site-packages/scib/metrics/metrics.py:293: DeprecationWarning: Call to deprecated function (or staticmethod) opt_louvain.\n",
      "  res_max, nmi_max, nmi_all = opt_louvain(\n"
     ]
    },
    {
     "name": "stdout",
     "output_type": "stream",
     "text": [
      "NMI...\n",
      "ARI...\n",
      "Silhouette score...\n",
      "Graph connectivity...\n",
      "/home/lhc/scMultiSim/bench/unif/0/tree1_500_cells110_genes_sigma0.1_1/integ3/\n",
      "PCA\n",
      "Nearest Neigbours\n",
      "PCA\n",
      "Nearest Neigbours\n"
     ]
    },
    {
     "name": "stderr",
     "output_type": "stream",
     "text": [
      "/home/lhc/.pyenv/versions/miniforge3-4.10.3-10/envs/scMultiSim/lib/python3.9/site-packages/scib/metrics/metrics.py:293: DeprecationWarning: Call to deprecated function (or staticmethod) opt_louvain.\n",
      "  res_max, nmi_max, nmi_all = opt_louvain(\n"
     ]
    },
    {
     "name": "stdout",
     "output_type": "stream",
     "text": [
      "NMI...\n",
      "ARI...\n",
      "Silhouette score...\n",
      "Graph connectivity...\n",
      "/home/lhc/scMultiSim/bench/unif/0/tree1_500_cells110_genes_sigma0.1_2/integ3/\n",
      "PCA\n",
      "Nearest Neigbours\n",
      "PCA\n",
      "Nearest Neigbours\n"
     ]
    },
    {
     "name": "stderr",
     "output_type": "stream",
     "text": [
      "/home/lhc/.pyenv/versions/miniforge3-4.10.3-10/envs/scMultiSim/lib/python3.9/site-packages/scib/metrics/metrics.py:293: DeprecationWarning: Call to deprecated function (or staticmethod) opt_louvain.\n",
      "  res_max, nmi_max, nmi_all = opt_louvain(\n",
      "/home/lhc/.pyenv/versions/miniforge3-4.10.3-10/envs/scMultiSim/lib/python3.9/site-packages/scib/metrics/metrics.py:293: DeprecationWarning: Call to deprecated function (or staticmethod) opt_louvain.\n",
      "  res_max, nmi_max, nmi_all = opt_louvain(\n"
     ]
    },
    {
     "name": "stdout",
     "output_type": "stream",
     "text": [
      "NMI...\n",
      "ARI...\n",
      "Silhouette score...\n",
      "Graph connectivity...\n",
      "/home/lhc/scMultiSim/bench/unif/0/tree1_500_cells110_genes_sigma0.1_3/integ3/\n",
      "PCA\n",
      "Nearest Neigbours\n",
      "PCA\n",
      "Nearest Neigbours\n",
      "NMI...\n",
      "ARI...\n",
      "Silhouette score...\n",
      "Graph connectivity...\n",
      "/home/lhc/scMultiSim/bench/unif/0/tree1_500_cells110_genes_sigma0.1_4/integ3/\n",
      "PCA\n",
      "Nearest Neigbours\n",
      "PCA\n",
      "Nearest Neigbours\n",
      "NMI...\n",
      "ARI...\n",
      "Silhouette score...\n",
      "Graph connectivity...\n",
      "/home/lhc/scMultiSim/bench/unif/0/tree1_500_cells200_genes_sigma0.1_1/integ3/\n"
     ]
    },
    {
     "name": "stderr",
     "output_type": "stream",
     "text": [
      "/home/lhc/.pyenv/versions/miniforge3-4.10.3-10/envs/scMultiSim/lib/python3.9/site-packages/scib/metrics/metrics.py:293: DeprecationWarning: Call to deprecated function (or staticmethod) opt_louvain.\n",
      "  res_max, nmi_max, nmi_all = opt_louvain(\n",
      "/home/lhc/.pyenv/versions/miniforge3-4.10.3-10/envs/scMultiSim/lib/python3.9/site-packages/scib/metrics/metrics.py:293: DeprecationWarning: Call to deprecated function (or staticmethod) opt_louvain.\n",
      "  res_max, nmi_max, nmi_all = opt_louvain(\n"
     ]
    },
    {
     "name": "stdout",
     "output_type": "stream",
     "text": [
      "PCA\n",
      "Nearest Neigbours\n",
      "PCA\n",
      "Nearest Neigbours\n",
      "NMI...\n",
      "ARI...\n",
      "Silhouette score...\n",
      "Graph connectivity...\n",
      "/home/lhc/scMultiSim/bench/unif/0/tree1_500_cells200_genes_sigma0.1_2/integ3/\n",
      "PCA\n",
      "Nearest Neigbours\n",
      "PCA\n",
      "Nearest Neigbours\n",
      "NMI...\n",
      "ARI...\n",
      "Silhouette score...\n"
     ]
    },
    {
     "name": "stderr",
     "output_type": "stream",
     "text": [
      "/home/lhc/.pyenv/versions/miniforge3-4.10.3-10/envs/scMultiSim/lib/python3.9/site-packages/scib/metrics/metrics.py:293: DeprecationWarning: Call to deprecated function (or staticmethod) opt_louvain.\n",
      "  res_max, nmi_max, nmi_all = opt_louvain(\n"
     ]
    },
    {
     "name": "stdout",
     "output_type": "stream",
     "text": [
      "Graph connectivity...\n",
      "/home/lhc/scMultiSim/bench/unif/0/tree1_500_cells200_genes_sigma0.1_3/integ3/\n",
      "PCA\n",
      "Nearest Neigbours\n",
      "PCA\n",
      "Nearest Neigbours\n"
     ]
    },
    {
     "name": "stderr",
     "output_type": "stream",
     "text": [
      "/home/lhc/.pyenv/versions/miniforge3-4.10.3-10/envs/scMultiSim/lib/python3.9/site-packages/scib/metrics/metrics.py:293: DeprecationWarning: Call to deprecated function (or staticmethod) opt_louvain.\n",
      "  res_max, nmi_max, nmi_all = opt_louvain(\n",
      "/home/lhc/.pyenv/versions/miniforge3-4.10.3-10/envs/scMultiSim/lib/python3.9/site-packages/scib/metrics/metrics.py:293: DeprecationWarning: Call to deprecated function (or staticmethod) opt_louvain.\n",
      "  res_max, nmi_max, nmi_all = opt_louvain(\n"
     ]
    },
    {
     "name": "stdout",
     "output_type": "stream",
     "text": [
      "NMI...\n",
      "ARI...\n",
      "Silhouette score...\n",
      "Graph connectivity...\n",
      "/home/lhc/scMultiSim/bench/unif/0/tree1_500_cells200_genes_sigma0.1_4/integ3/\n",
      "PCA\n",
      "Nearest Neigbours\n",
      "PCA\n",
      "Nearest Neigbours\n",
      "NMI...\n",
      "ARI...\n",
      "Silhouette score...\n",
      "Graph connectivity...\n",
      "/home/lhc/scMultiSim/bench/unif/0/tree1_500_cells500_genes_sigma0.1_1/integ3/\n",
      "PCA\n",
      "Nearest Neigbours\n",
      "PCA\n",
      "Nearest Neigbours\n"
     ]
    },
    {
     "name": "stderr",
     "output_type": "stream",
     "text": [
      "/home/lhc/.pyenv/versions/miniforge3-4.10.3-10/envs/scMultiSim/lib/python3.9/site-packages/scib/metrics/metrics.py:293: DeprecationWarning: Call to deprecated function (or staticmethod) opt_louvain.\n",
      "  res_max, nmi_max, nmi_all = opt_louvain(\n",
      "/home/lhc/.pyenv/versions/miniforge3-4.10.3-10/envs/scMultiSim/lib/python3.9/site-packages/scib/metrics/metrics.py:293: DeprecationWarning: Call to deprecated function (or staticmethod) opt_louvain.\n",
      "  res_max, nmi_max, nmi_all = opt_louvain(\n"
     ]
    },
    {
     "name": "stdout",
     "output_type": "stream",
     "text": [
      "NMI...\n",
      "ARI...\n",
      "Silhouette score...\n",
      "Graph connectivity...\n",
      "/home/lhc/scMultiSim/bench/unif/0/tree1_500_cells500_genes_sigma0.1_2/integ3/\n",
      "PCA\n",
      "Nearest Neigbours\n",
      "PCA\n",
      "Nearest Neigbours\n",
      "NMI...\n",
      "ARI...\n",
      "Silhouette score...\n",
      "Graph connectivity...\n",
      "/home/lhc/scMultiSim/bench/unif/0/tree1_500_cells500_genes_sigma0.1_3/integ3/\n",
      "PCA\n",
      "Nearest Neigbours\n",
      "PCA\n",
      "Nearest Neigbours\n",
      "NMI...\n",
      "ARI...\n",
      "Silhouette score...\n",
      "Graph connectivity...\n",
      "/home/lhc/scMultiSim/bench/unif/0/tree1_500_cells500_genes_sigma0.1_4/integ3/\n"
     ]
    },
    {
     "name": "stderr",
     "output_type": "stream",
     "text": [
      "/home/lhc/.pyenv/versions/miniforge3-4.10.3-10/envs/scMultiSim/lib/python3.9/site-packages/scib/metrics/metrics.py:293: DeprecationWarning: Call to deprecated function (or staticmethod) opt_louvain.\n",
      "  res_max, nmi_max, nmi_all = opt_louvain(\n",
      "/home/lhc/.pyenv/versions/miniforge3-4.10.3-10/envs/scMultiSim/lib/python3.9/site-packages/scib/metrics/metrics.py:293: DeprecationWarning: Call to deprecated function (or staticmethod) opt_louvain.\n",
      "  res_max, nmi_max, nmi_all = opt_louvain(\n"
     ]
    },
    {
     "name": "stdout",
     "output_type": "stream",
     "text": [
      "PCA\n",
      "Nearest Neigbours\n",
      "PCA\n",
      "Nearest Neigbours\n",
      "NMI...\n",
      "ARI...\n",
      "Silhouette score...\n",
      "Graph connectivity...\n",
      "/home/lhc/scMultiSim/bench/unif/0/tree1_800_cells110_genes_sigma0.1_1/integ3/\n",
      "PCA\n",
      "Nearest Neigbours\n",
      "PCA\n",
      "Nearest Neigbours\n"
     ]
    },
    {
     "name": "stderr",
     "output_type": "stream",
     "text": [
      "/home/lhc/.pyenv/versions/miniforge3-4.10.3-10/envs/scMultiSim/lib/python3.9/site-packages/scib/metrics/metrics.py:293: DeprecationWarning: Call to deprecated function (or staticmethod) opt_louvain.\n",
      "  res_max, nmi_max, nmi_all = opt_louvain(\n"
     ]
    },
    {
     "name": "stdout",
     "output_type": "stream",
     "text": [
      "NMI...\n",
      "ARI...\n",
      "Silhouette score...\n",
      "Graph connectivity...\n",
      "/home/lhc/scMultiSim/bench/unif/0/tree1_800_cells110_genes_sigma0.1_2/integ3/\n",
      "PCA\n",
      "Nearest Neigbours\n",
      "PCA\n",
      "Nearest Neigbours\n"
     ]
    },
    {
     "name": "stderr",
     "output_type": "stream",
     "text": [
      "/home/lhc/.pyenv/versions/miniforge3-4.10.3-10/envs/scMultiSim/lib/python3.9/site-packages/scib/metrics/metrics.py:293: DeprecationWarning: Call to deprecated function (or staticmethod) opt_louvain.\n",
      "  res_max, nmi_max, nmi_all = opt_louvain(\n"
     ]
    },
    {
     "name": "stdout",
     "output_type": "stream",
     "text": [
      "NMI...\n",
      "ARI...\n",
      "Silhouette score...\n",
      "Graph connectivity...\n",
      "/home/lhc/scMultiSim/bench/unif/0/tree1_800_cells110_genes_sigma0.1_3/integ3/\n",
      "PCA\n",
      "Nearest Neigbours\n",
      "PCA\n",
      "Nearest Neigbours\n"
     ]
    },
    {
     "name": "stderr",
     "output_type": "stream",
     "text": [
      "/home/lhc/.pyenv/versions/miniforge3-4.10.3-10/envs/scMultiSim/lib/python3.9/site-packages/scib/metrics/metrics.py:293: DeprecationWarning: Call to deprecated function (or staticmethod) opt_louvain.\n",
      "  res_max, nmi_max, nmi_all = opt_louvain(\n"
     ]
    },
    {
     "name": "stdout",
     "output_type": "stream",
     "text": [
      "NMI...\n",
      "ARI...\n",
      "Silhouette score...\n",
      "Graph connectivity...\n",
      "/home/lhc/scMultiSim/bench/unif/0/tree1_800_cells110_genes_sigma0.1_4/integ3/\n",
      "PCA\n",
      "Nearest Neigbours\n",
      "PCA\n",
      "Nearest Neigbours\n"
     ]
    },
    {
     "name": "stderr",
     "output_type": "stream",
     "text": [
      "/home/lhc/.pyenv/versions/miniforge3-4.10.3-10/envs/scMultiSim/lib/python3.9/site-packages/scib/metrics/metrics.py:293: DeprecationWarning: Call to deprecated function (or staticmethod) opt_louvain.\n",
      "  res_max, nmi_max, nmi_all = opt_louvain(\n"
     ]
    },
    {
     "name": "stdout",
     "output_type": "stream",
     "text": [
      "NMI...\n",
      "ARI...\n",
      "Silhouette score...\n",
      "Graph connectivity...\n",
      "/home/lhc/scMultiSim/bench/unif/0/tree1_800_cells200_genes_sigma0.1_1/integ3/\n",
      "PCA\n",
      "Nearest Neigbours\n",
      "PCA\n",
      "Nearest Neigbours\n"
     ]
    },
    {
     "name": "stderr",
     "output_type": "stream",
     "text": [
      "/home/lhc/.pyenv/versions/miniforge3-4.10.3-10/envs/scMultiSim/lib/python3.9/site-packages/scib/metrics/metrics.py:293: DeprecationWarning: Call to deprecated function (or staticmethod) opt_louvain.\n",
      "  res_max, nmi_max, nmi_all = opt_louvain(\n"
     ]
    },
    {
     "name": "stdout",
     "output_type": "stream",
     "text": [
      "NMI...\n",
      "ARI...\n",
      "Silhouette score...\n",
      "Graph connectivity...\n",
      "/home/lhc/scMultiSim/bench/unif/0/tree1_800_cells200_genes_sigma0.1_2/integ3/\n",
      "PCA\n",
      "Nearest Neigbours\n",
      "PCA\n",
      "Nearest Neigbours\n"
     ]
    },
    {
     "name": "stderr",
     "output_type": "stream",
     "text": [
      "/home/lhc/.pyenv/versions/miniforge3-4.10.3-10/envs/scMultiSim/lib/python3.9/site-packages/scib/metrics/metrics.py:293: DeprecationWarning: Call to deprecated function (or staticmethod) opt_louvain.\n",
      "  res_max, nmi_max, nmi_all = opt_louvain(\n"
     ]
    },
    {
     "name": "stdout",
     "output_type": "stream",
     "text": [
      "NMI...\n",
      "ARI...\n",
      "Silhouette score...\n",
      "Graph connectivity...\n",
      "/home/lhc/scMultiSim/bench/unif/0/tree1_800_cells200_genes_sigma0.1_3/integ3/\n",
      "PCA\n",
      "Nearest Neigbours\n",
      "PCA\n",
      "Nearest Neigbours\n"
     ]
    },
    {
     "name": "stderr",
     "output_type": "stream",
     "text": [
      "/home/lhc/.pyenv/versions/miniforge3-4.10.3-10/envs/scMultiSim/lib/python3.9/site-packages/scib/metrics/metrics.py:293: DeprecationWarning: Call to deprecated function (or staticmethod) opt_louvain.\n",
      "  res_max, nmi_max, nmi_all = opt_louvain(\n"
     ]
    },
    {
     "name": "stdout",
     "output_type": "stream",
     "text": [
      "NMI...\n",
      "ARI...\n",
      "Silhouette score...\n",
      "Graph connectivity...\n",
      "/home/lhc/scMultiSim/bench/unif/0/tree1_800_cells200_genes_sigma0.1_4/integ3/\n",
      "PCA\n",
      "Nearest Neigbours\n",
      "PCA\n",
      "Nearest Neigbours\n"
     ]
    },
    {
     "name": "stderr",
     "output_type": "stream",
     "text": [
      "/home/lhc/.pyenv/versions/miniforge3-4.10.3-10/envs/scMultiSim/lib/python3.9/site-packages/scib/metrics/metrics.py:293: DeprecationWarning: Call to deprecated function (or staticmethod) opt_louvain.\n",
      "  res_max, nmi_max, nmi_all = opt_louvain(\n"
     ]
    },
    {
     "name": "stdout",
     "output_type": "stream",
     "text": [
      "NMI...\n",
      "ARI...\n",
      "Silhouette score...\n",
      "Graph connectivity...\n",
      "/home/lhc/scMultiSim/bench/unif/0/tree1_800_cells500_genes_sigma0.1_1/integ3/\n",
      "PCA\n",
      "Nearest Neigbours\n",
      "PCA\n",
      "Nearest Neigbours\n"
     ]
    },
    {
     "name": "stderr",
     "output_type": "stream",
     "text": [
      "/home/lhc/.pyenv/versions/miniforge3-4.10.3-10/envs/scMultiSim/lib/python3.9/site-packages/scib/metrics/metrics.py:293: DeprecationWarning: Call to deprecated function (or staticmethod) opt_louvain.\n",
      "  res_max, nmi_max, nmi_all = opt_louvain(\n"
     ]
    },
    {
     "name": "stdout",
     "output_type": "stream",
     "text": [
      "NMI...\n",
      "ARI...\n",
      "Silhouette score...\n",
      "Graph connectivity...\n",
      "/home/lhc/scMultiSim/bench/unif/0/tree1_800_cells500_genes_sigma0.1_2/integ3/\n",
      "PCA\n",
      "Nearest Neigbours\n",
      "PCA\n",
      "Nearest Neigbours\n"
     ]
    },
    {
     "name": "stderr",
     "output_type": "stream",
     "text": [
      "/home/lhc/.pyenv/versions/miniforge3-4.10.3-10/envs/scMultiSim/lib/python3.9/site-packages/scib/metrics/metrics.py:293: DeprecationWarning: Call to deprecated function (or staticmethod) opt_louvain.\n",
      "  res_max, nmi_max, nmi_all = opt_louvain(\n"
     ]
    },
    {
     "name": "stdout",
     "output_type": "stream",
     "text": [
      "NMI...\n",
      "ARI...\n",
      "Silhouette score...\n",
      "Graph connectivity...\n",
      "/home/lhc/scMultiSim/bench/unif/0/tree1_800_cells500_genes_sigma0.1_3/integ3/\n",
      "PCA\n",
      "Nearest Neigbours\n",
      "PCA\n",
      "Nearest Neigbours\n"
     ]
    },
    {
     "name": "stderr",
     "output_type": "stream",
     "text": [
      "/home/lhc/.pyenv/versions/miniforge3-4.10.3-10/envs/scMultiSim/lib/python3.9/site-packages/scib/metrics/metrics.py:293: DeprecationWarning: Call to deprecated function (or staticmethod) opt_louvain.\n",
      "  res_max, nmi_max, nmi_all = opt_louvain(\n"
     ]
    },
    {
     "name": "stdout",
     "output_type": "stream",
     "text": [
      "NMI...\n",
      "ARI...\n",
      "Silhouette score...\n",
      "Graph connectivity...\n",
      "/home/lhc/scMultiSim/bench/unif/0/tree1_800_cells500_genes_sigma0.1_4/integ3/\n",
      "PCA\n",
      "Nearest Neigbours\n",
      "PCA\n",
      "Nearest Neigbours\n"
     ]
    },
    {
     "name": "stderr",
     "output_type": "stream",
     "text": [
      "/home/lhc/.pyenv/versions/miniforge3-4.10.3-10/envs/scMultiSim/lib/python3.9/site-packages/scib/metrics/metrics.py:293: DeprecationWarning: Call to deprecated function (or staticmethod) opt_louvain.\n",
      "  res_max, nmi_max, nmi_all = opt_louvain(\n"
     ]
    },
    {
     "name": "stdout",
     "output_type": "stream",
     "text": [
      "NMI...\n",
      "ARI...\n",
      "Silhouette score...\n",
      "Graph connectivity...\n",
      "/home/lhc/scMultiSim/bench/unif/0/tree3_500_cells110_genes_sigma0.1_1/integ3/\n",
      "PCA\n",
      "Nearest Neigbours\n",
      "PCA\n",
      "Nearest Neigbours\n"
     ]
    },
    {
     "name": "stderr",
     "output_type": "stream",
     "text": [
      "/home/lhc/.pyenv/versions/miniforge3-4.10.3-10/envs/scMultiSim/lib/python3.9/site-packages/scib/metrics/metrics.py:293: DeprecationWarning: Call to deprecated function (or staticmethod) opt_louvain.\n",
      "  res_max, nmi_max, nmi_all = opt_louvain(\n"
     ]
    },
    {
     "name": "stdout",
     "output_type": "stream",
     "text": [
      "NMI...\n",
      "ARI...\n",
      "Silhouette score...\n",
      "Graph connectivity...\n",
      "/home/lhc/scMultiSim/bench/unif/0/tree3_500_cells110_genes_sigma0.1_2/integ3/\n",
      "PCA\n",
      "Nearest Neigbours\n",
      "PCA\n",
      "Nearest Neigbours\n"
     ]
    },
    {
     "name": "stderr",
     "output_type": "stream",
     "text": [
      "/home/lhc/.pyenv/versions/miniforge3-4.10.3-10/envs/scMultiSim/lib/python3.9/site-packages/scib/metrics/metrics.py:293: DeprecationWarning: Call to deprecated function (or staticmethod) opt_louvain.\n",
      "  res_max, nmi_max, nmi_all = opt_louvain(\n",
      "/home/lhc/.pyenv/versions/miniforge3-4.10.3-10/envs/scMultiSim/lib/python3.9/site-packages/scib/metrics/metrics.py:293: DeprecationWarning: Call to deprecated function (or staticmethod) opt_louvain.\n",
      "  res_max, nmi_max, nmi_all = opt_louvain(\n"
     ]
    },
    {
     "name": "stdout",
     "output_type": "stream",
     "text": [
      "NMI...\n",
      "ARI...\n",
      "Silhouette score...\n",
      "Graph connectivity...\n",
      "/home/lhc/scMultiSim/bench/unif/0/tree3_500_cells110_genes_sigma0.1_3/integ3/\n",
      "PCA\n",
      "Nearest Neigbours\n",
      "PCA\n",
      "Nearest Neigbours\n",
      "NMI...\n",
      "ARI...\n",
      "Silhouette score...\n",
      "Graph connectivity...\n",
      "/home/lhc/scMultiSim/bench/unif/0/tree3_500_cells110_genes_sigma0.1_4/integ3/\n",
      "PCA\n",
      "Nearest Neigbours\n",
      "PCA\n",
      "Nearest Neigbours\n",
      "NMI...\n",
      "ARI...\n",
      "Silhouette score...\n"
     ]
    },
    {
     "name": "stderr",
     "output_type": "stream",
     "text": [
      "/home/lhc/.pyenv/versions/miniforge3-4.10.3-10/envs/scMultiSim/lib/python3.9/site-packages/scib/metrics/metrics.py:293: DeprecationWarning: Call to deprecated function (or staticmethod) opt_louvain.\n",
      "  res_max, nmi_max, nmi_all = opt_louvain(\n"
     ]
    },
    {
     "name": "stdout",
     "output_type": "stream",
     "text": [
      "Graph connectivity...\n",
      "/home/lhc/scMultiSim/bench/unif/0/tree3_500_cells200_genes_sigma0.1_1/integ3/\n",
      "PCA\n",
      "Nearest Neigbours\n",
      "PCA\n",
      "Nearest Neigbours\n"
     ]
    },
    {
     "name": "stderr",
     "output_type": "stream",
     "text": [
      "/home/lhc/.pyenv/versions/miniforge3-4.10.3-10/envs/scMultiSim/lib/python3.9/site-packages/scib/metrics/metrics.py:293: DeprecationWarning: Call to deprecated function (or staticmethod) opt_louvain.\n",
      "  res_max, nmi_max, nmi_all = opt_louvain(\n",
      "/home/lhc/.pyenv/versions/miniforge3-4.10.3-10/envs/scMultiSim/lib/python3.9/site-packages/scib/metrics/metrics.py:293: DeprecationWarning: Call to deprecated function (or staticmethod) opt_louvain.\n",
      "  res_max, nmi_max, nmi_all = opt_louvain(\n"
     ]
    },
    {
     "name": "stdout",
     "output_type": "stream",
     "text": [
      "NMI...\n",
      "ARI...\n",
      "Silhouette score...\n",
      "Graph connectivity...\n",
      "/home/lhc/scMultiSim/bench/unif/0/tree3_500_cells200_genes_sigma0.1_2/integ3/\n",
      "PCA\n",
      "Nearest Neigbours\n",
      "PCA\n",
      "Nearest Neigbours\n",
      "NMI...\n",
      "ARI...\n",
      "Silhouette score...\n",
      "Graph connectivity...\n",
      "/home/lhc/scMultiSim/bench/unif/0/tree3_500_cells200_genes_sigma0.1_3/integ3/\n",
      "PCA\n",
      "Nearest Neigbours\n",
      "PCA\n",
      "Nearest Neigbours\n"
     ]
    },
    {
     "name": "stderr",
     "output_type": "stream",
     "text": [
      "/home/lhc/.pyenv/versions/miniforge3-4.10.3-10/envs/scMultiSim/lib/python3.9/site-packages/scib/metrics/metrics.py:293: DeprecationWarning: Call to deprecated function (or staticmethod) opt_louvain.\n",
      "  res_max, nmi_max, nmi_all = opt_louvain(\n"
     ]
    },
    {
     "name": "stdout",
     "output_type": "stream",
     "text": [
      "NMI...\n",
      "ARI...\n",
      "Silhouette score...\n",
      "Graph connectivity...\n",
      "/home/lhc/scMultiSim/bench/unif/0/tree3_500_cells200_genes_sigma0.1_4/integ3/\n",
      "PCA\n",
      "Nearest Neigbours\n",
      "PCA\n",
      "Nearest Neigbours\n"
     ]
    },
    {
     "name": "stderr",
     "output_type": "stream",
     "text": [
      "/home/lhc/.pyenv/versions/miniforge3-4.10.3-10/envs/scMultiSim/lib/python3.9/site-packages/scib/metrics/metrics.py:293: DeprecationWarning: Call to deprecated function (or staticmethod) opt_louvain.\n",
      "  res_max, nmi_max, nmi_all = opt_louvain(\n"
     ]
    },
    {
     "name": "stdout",
     "output_type": "stream",
     "text": [
      "NMI...\n",
      "ARI...\n",
      "Silhouette score...\n",
      "Graph connectivity...\n",
      "/home/lhc/scMultiSim/bench/unif/0/tree3_500_cells500_genes_sigma0.1_1/integ3/\n",
      "PCA\n",
      "Nearest Neigbours\n",
      "PCA\n",
      "Nearest Neigbours\n",
      "NMI...\n"
     ]
    },
    {
     "name": "stderr",
     "output_type": "stream",
     "text": [
      "/home/lhc/.pyenv/versions/miniforge3-4.10.3-10/envs/scMultiSim/lib/python3.9/site-packages/scib/metrics/metrics.py:293: DeprecationWarning: Call to deprecated function (or staticmethod) opt_louvain.\n",
      "  res_max, nmi_max, nmi_all = opt_louvain(\n"
     ]
    },
    {
     "name": "stdout",
     "output_type": "stream",
     "text": [
      "ARI...\n",
      "Silhouette score...\n",
      "Graph connectivity...\n",
      "/home/lhc/scMultiSim/bench/unif/0/tree3_500_cells500_genes_sigma0.1_2/integ3/\n",
      "PCA\n",
      "Nearest Neigbours\n",
      "PCA\n",
      "Nearest Neigbours\n"
     ]
    },
    {
     "name": "stderr",
     "output_type": "stream",
     "text": [
      "/home/lhc/.pyenv/versions/miniforge3-4.10.3-10/envs/scMultiSim/lib/python3.9/site-packages/scib/metrics/metrics.py:293: DeprecationWarning: Call to deprecated function (or staticmethod) opt_louvain.\n",
      "  res_max, nmi_max, nmi_all = opt_louvain(\n"
     ]
    },
    {
     "name": "stdout",
     "output_type": "stream",
     "text": [
      "NMI...\n",
      "ARI...\n",
      "Silhouette score...\n",
      "Graph connectivity...\n",
      "/home/lhc/scMultiSim/bench/unif/0/tree3_500_cells500_genes_sigma0.1_3/integ3/\n",
      "PCA\n",
      "Nearest Neigbours\n",
      "PCA\n",
      "Nearest Neigbours\n"
     ]
    },
    {
     "name": "stderr",
     "output_type": "stream",
     "text": [
      "/home/lhc/.pyenv/versions/miniforge3-4.10.3-10/envs/scMultiSim/lib/python3.9/site-packages/scib/metrics/metrics.py:293: DeprecationWarning: Call to deprecated function (or staticmethod) opt_louvain.\n",
      "  res_max, nmi_max, nmi_all = opt_louvain(\n"
     ]
    },
    {
     "name": "stdout",
     "output_type": "stream",
     "text": [
      "NMI...\n",
      "ARI...\n",
      "Silhouette score...\n",
      "Graph connectivity...\n",
      "/home/lhc/scMultiSim/bench/unif/0/tree3_500_cells500_genes_sigma0.1_4/integ3/\n",
      "PCA\n",
      "Nearest Neigbours\n",
      "PCA\n",
      "Nearest Neigbours\n"
     ]
    },
    {
     "name": "stderr",
     "output_type": "stream",
     "text": [
      "/home/lhc/.pyenv/versions/miniforge3-4.10.3-10/envs/scMultiSim/lib/python3.9/site-packages/scib/metrics/metrics.py:293: DeprecationWarning: Call to deprecated function (or staticmethod) opt_louvain.\n",
      "  res_max, nmi_max, nmi_all = opt_louvain(\n"
     ]
    },
    {
     "name": "stdout",
     "output_type": "stream",
     "text": [
      "NMI...\n",
      "ARI...\n",
      "Silhouette score...\n",
      "Graph connectivity...\n",
      "/home/lhc/scMultiSim/bench/unif/0/tree3_800_cells110_genes_sigma0.1_1/integ3/\n",
      "PCA\n",
      "Nearest Neigbours\n",
      "PCA\n",
      "Nearest Neigbours\n"
     ]
    },
    {
     "name": "stderr",
     "output_type": "stream",
     "text": [
      "/home/lhc/.pyenv/versions/miniforge3-4.10.3-10/envs/scMultiSim/lib/python3.9/site-packages/scib/metrics/metrics.py:293: DeprecationWarning: Call to deprecated function (or staticmethod) opt_louvain.\n",
      "  res_max, nmi_max, nmi_all = opt_louvain(\n"
     ]
    },
    {
     "name": "stdout",
     "output_type": "stream",
     "text": [
      "NMI...\n",
      "ARI...\n",
      "Silhouette score...\n",
      "Graph connectivity...\n",
      "/home/lhc/scMultiSim/bench/unif/0/tree3_800_cells110_genes_sigma0.1_2/integ3/\n",
      "PCA\n",
      "Nearest Neigbours\n",
      "PCA\n",
      "Nearest Neigbours\n"
     ]
    },
    {
     "name": "stderr",
     "output_type": "stream",
     "text": [
      "/home/lhc/.pyenv/versions/miniforge3-4.10.3-10/envs/scMultiSim/lib/python3.9/site-packages/scib/metrics/metrics.py:293: DeprecationWarning: Call to deprecated function (or staticmethod) opt_louvain.\n",
      "  res_max, nmi_max, nmi_all = opt_louvain(\n"
     ]
    },
    {
     "name": "stdout",
     "output_type": "stream",
     "text": [
      "NMI...\n",
      "ARI...\n",
      "Silhouette score...\n",
      "Graph connectivity...\n",
      "/home/lhc/scMultiSim/bench/unif/0/tree3_800_cells110_genes_sigma0.1_3/integ3/\n",
      "PCA\n",
      "Nearest Neigbours\n",
      "PCA\n",
      "Nearest Neigbours\n"
     ]
    },
    {
     "name": "stderr",
     "output_type": "stream",
     "text": [
      "/home/lhc/.pyenv/versions/miniforge3-4.10.3-10/envs/scMultiSim/lib/python3.9/site-packages/scib/metrics/metrics.py:293: DeprecationWarning: Call to deprecated function (or staticmethod) opt_louvain.\n",
      "  res_max, nmi_max, nmi_all = opt_louvain(\n"
     ]
    },
    {
     "name": "stdout",
     "output_type": "stream",
     "text": [
      "NMI...\n",
      "ARI...\n",
      "Silhouette score...\n",
      "Graph connectivity...\n",
      "/home/lhc/scMultiSim/bench/unif/0/tree3_800_cells110_genes_sigma0.1_4/integ3/\n",
      "PCA\n",
      "Nearest Neigbours\n",
      "PCA\n",
      "Nearest Neigbours\n"
     ]
    },
    {
     "name": "stderr",
     "output_type": "stream",
     "text": [
      "/home/lhc/.pyenv/versions/miniforge3-4.10.3-10/envs/scMultiSim/lib/python3.9/site-packages/scib/metrics/metrics.py:293: DeprecationWarning: Call to deprecated function (or staticmethod) opt_louvain.\n",
      "  res_max, nmi_max, nmi_all = opt_louvain(\n"
     ]
    },
    {
     "name": "stdout",
     "output_type": "stream",
     "text": [
      "NMI...\n",
      "ARI...\n",
      "Silhouette score...\n",
      "Graph connectivity...\n",
      "/home/lhc/scMultiSim/bench/unif/0/tree3_800_cells200_genes_sigma0.1_1/integ3/\n",
      "PCA\n",
      "Nearest Neigbours\n",
      "PCA\n",
      "Nearest Neigbours\n"
     ]
    },
    {
     "name": "stderr",
     "output_type": "stream",
     "text": [
      "/home/lhc/.pyenv/versions/miniforge3-4.10.3-10/envs/scMultiSim/lib/python3.9/site-packages/scib/metrics/metrics.py:293: DeprecationWarning: Call to deprecated function (or staticmethod) opt_louvain.\n",
      "  res_max, nmi_max, nmi_all = opt_louvain(\n"
     ]
    },
    {
     "name": "stdout",
     "output_type": "stream",
     "text": [
      "NMI...\n",
      "ARI...\n",
      "Silhouette score...\n",
      "Graph connectivity...\n",
      "/home/lhc/scMultiSim/bench/unif/0/tree3_800_cells200_genes_sigma0.1_2/integ3/\n",
      "PCA\n",
      "Nearest Neigbours\n",
      "PCA\n",
      "Nearest Neigbours\n"
     ]
    },
    {
     "name": "stderr",
     "output_type": "stream",
     "text": [
      "/home/lhc/.pyenv/versions/miniforge3-4.10.3-10/envs/scMultiSim/lib/python3.9/site-packages/scib/metrics/metrics.py:293: DeprecationWarning: Call to deprecated function (or staticmethod) opt_louvain.\n",
      "  res_max, nmi_max, nmi_all = opt_louvain(\n"
     ]
    },
    {
     "name": "stdout",
     "output_type": "stream",
     "text": [
      "NMI...\n",
      "ARI...\n",
      "Silhouette score...\n",
      "Graph connectivity...\n",
      "/home/lhc/scMultiSim/bench/unif/0/tree3_800_cells200_genes_sigma0.1_3/integ3/\n",
      "PCA\n",
      "Nearest Neigbours\n",
      "PCA\n",
      "Nearest Neigbours\n"
     ]
    },
    {
     "name": "stderr",
     "output_type": "stream",
     "text": [
      "/home/lhc/.pyenv/versions/miniforge3-4.10.3-10/envs/scMultiSim/lib/python3.9/site-packages/scib/metrics/metrics.py:293: DeprecationWarning: Call to deprecated function (or staticmethod) opt_louvain.\n",
      "  res_max, nmi_max, nmi_all = opt_louvain(\n"
     ]
    },
    {
     "name": "stdout",
     "output_type": "stream",
     "text": [
      "NMI...\n",
      "ARI...\n",
      "Silhouette score...\n",
      "Graph connectivity...\n",
      "/home/lhc/scMultiSim/bench/unif/0/tree3_800_cells200_genes_sigma0.1_4/integ3/\n",
      "PCA\n",
      "Nearest Neigbours\n",
      "PCA\n",
      "Nearest Neigbours\n"
     ]
    },
    {
     "name": "stderr",
     "output_type": "stream",
     "text": [
      "/home/lhc/.pyenv/versions/miniforge3-4.10.3-10/envs/scMultiSim/lib/python3.9/site-packages/scib/metrics/metrics.py:293: DeprecationWarning: Call to deprecated function (or staticmethod) opt_louvain.\n",
      "  res_max, nmi_max, nmi_all = opt_louvain(\n"
     ]
    },
    {
     "name": "stdout",
     "output_type": "stream",
     "text": [
      "NMI...\n",
      "ARI...\n",
      "Silhouette score...\n",
      "Graph connectivity...\n",
      "/home/lhc/scMultiSim/bench/unif/0/tree3_800_cells500_genes_sigma0.1_1/integ3/\n",
      "PCA\n",
      "Nearest Neigbours\n",
      "PCA\n",
      "Nearest Neigbours\n"
     ]
    },
    {
     "name": "stderr",
     "output_type": "stream",
     "text": [
      "/home/lhc/.pyenv/versions/miniforge3-4.10.3-10/envs/scMultiSim/lib/python3.9/site-packages/scib/metrics/metrics.py:293: DeprecationWarning: Call to deprecated function (or staticmethod) opt_louvain.\n",
      "  res_max, nmi_max, nmi_all = opt_louvain(\n"
     ]
    },
    {
     "name": "stdout",
     "output_type": "stream",
     "text": [
      "NMI...\n",
      "ARI...\n",
      "Silhouette score...\n",
      "Graph connectivity...\n",
      "/home/lhc/scMultiSim/bench/unif/0/tree3_800_cells500_genes_sigma0.1_2/integ3/\n",
      "PCA\n",
      "Nearest Neigbours\n",
      "PCA\n",
      "Nearest Neigbours\n"
     ]
    },
    {
     "name": "stderr",
     "output_type": "stream",
     "text": [
      "/home/lhc/.pyenv/versions/miniforge3-4.10.3-10/envs/scMultiSim/lib/python3.9/site-packages/scib/metrics/metrics.py:293: DeprecationWarning: Call to deprecated function (or staticmethod) opt_louvain.\n",
      "  res_max, nmi_max, nmi_all = opt_louvain(\n"
     ]
    },
    {
     "name": "stdout",
     "output_type": "stream",
     "text": [
      "NMI...\n",
      "ARI...\n",
      "Silhouette score...\n",
      "Graph connectivity...\n",
      "/home/lhc/scMultiSim/bench/unif/0/tree3_800_cells500_genes_sigma0.1_3/integ3/\n",
      "PCA\n",
      "Nearest Neigbours\n",
      "PCA\n",
      "Nearest Neigbours\n"
     ]
    },
    {
     "name": "stderr",
     "output_type": "stream",
     "text": [
      "/home/lhc/.pyenv/versions/miniforge3-4.10.3-10/envs/scMultiSim/lib/python3.9/site-packages/scib/metrics/metrics.py:293: DeprecationWarning: Call to deprecated function (or staticmethod) opt_louvain.\n",
      "  res_max, nmi_max, nmi_all = opt_louvain(\n"
     ]
    },
    {
     "name": "stdout",
     "output_type": "stream",
     "text": [
      "NMI...\n",
      "ARI...\n",
      "Silhouette score...\n",
      "Graph connectivity...\n",
      "/home/lhc/scMultiSim/bench/unif/0/tree3_800_cells500_genes_sigma0.1_4/integ3/\n",
      "PCA\n",
      "Nearest Neigbours\n",
      "PCA\n",
      "Nearest Neigbours\n"
     ]
    },
    {
     "name": "stderr",
     "output_type": "stream",
     "text": [
      "/home/lhc/.pyenv/versions/miniforge3-4.10.3-10/envs/scMultiSim/lib/python3.9/site-packages/scib/metrics/metrics.py:293: DeprecationWarning: Call to deprecated function (or staticmethod) opt_louvain.\n",
      "  res_max, nmi_max, nmi_all = opt_louvain(\n"
     ]
    },
    {
     "name": "stdout",
     "output_type": "stream",
     "text": [
      "NMI...\n",
      "ARI...\n",
      "Silhouette score...\n",
      "Graph connectivity...\n",
      "/home/lhc/scMultiSim/bench/unif/0/tree5_500_cells110_genes_sigma0.1_1/integ3/\n",
      "PCA\n",
      "Nearest Neigbours\n",
      "PCA\n",
      "Nearest Neigbours\n"
     ]
    },
    {
     "name": "stderr",
     "output_type": "stream",
     "text": [
      "/home/lhc/.pyenv/versions/miniforge3-4.10.3-10/envs/scMultiSim/lib/python3.9/site-packages/scib/metrics/metrics.py:293: DeprecationWarning: Call to deprecated function (or staticmethod) opt_louvain.\n",
      "  res_max, nmi_max, nmi_all = opt_louvain(\n"
     ]
    },
    {
     "name": "stdout",
     "output_type": "stream",
     "text": [
      "NMI...\n",
      "ARI...\n",
      "Silhouette score...\n",
      "Graph connectivity...\n",
      "/home/lhc/scMultiSim/bench/unif/0/tree5_500_cells110_genes_sigma0.1_2/integ3/\n",
      "PCA\n",
      "Nearest Neigbours\n",
      "PCA\n",
      "Nearest Neigbours\n"
     ]
    },
    {
     "name": "stderr",
     "output_type": "stream",
     "text": [
      "/home/lhc/.pyenv/versions/miniforge3-4.10.3-10/envs/scMultiSim/lib/python3.9/site-packages/scib/metrics/metrics.py:293: DeprecationWarning: Call to deprecated function (or staticmethod) opt_louvain.\n",
      "  res_max, nmi_max, nmi_all = opt_louvain(\n",
      "/home/lhc/.pyenv/versions/miniforge3-4.10.3-10/envs/scMultiSim/lib/python3.9/site-packages/scib/metrics/metrics.py:293: DeprecationWarning: Call to deprecated function (or staticmethod) opt_louvain.\n",
      "  res_max, nmi_max, nmi_all = opt_louvain(\n"
     ]
    },
    {
     "name": "stdout",
     "output_type": "stream",
     "text": [
      "NMI...\n",
      "ARI...\n",
      "Silhouette score...\n",
      "Graph connectivity...\n",
      "/home/lhc/scMultiSim/bench/unif/0/tree5_500_cells110_genes_sigma0.1_3/integ3/\n",
      "PCA\n",
      "Nearest Neigbours\n",
      "PCA\n",
      "Nearest Neigbours\n",
      "NMI...\n",
      "ARI...\n",
      "Silhouette score...\n",
      "Graph connectivity...\n",
      "/home/lhc/scMultiSim/bench/unif/0/tree5_500_cells110_genes_sigma0.1_4/integ3/\n",
      "PCA\n",
      "Nearest Neigbours\n",
      "PCA\n",
      "Nearest Neigbours\n"
     ]
    },
    {
     "name": "stderr",
     "output_type": "stream",
     "text": [
      "/home/lhc/.pyenv/versions/miniforge3-4.10.3-10/envs/scMultiSim/lib/python3.9/site-packages/scib/metrics/metrics.py:293: DeprecationWarning: Call to deprecated function (or staticmethod) opt_louvain.\n",
      "  res_max, nmi_max, nmi_all = opt_louvain(\n"
     ]
    },
    {
     "name": "stdout",
     "output_type": "stream",
     "text": [
      "NMI...\n",
      "ARI...\n",
      "Silhouette score...\n",
      "Graph connectivity...\n",
      "/home/lhc/scMultiSim/bench/unif/0/tree5_500_cells200_genes_sigma0.1_1/integ3/\n",
      "PCA\n",
      "Nearest Neigbours\n",
      "PCA\n",
      "Nearest Neigbours\n"
     ]
    },
    {
     "name": "stderr",
     "output_type": "stream",
     "text": [
      "/home/lhc/.pyenv/versions/miniforge3-4.10.3-10/envs/scMultiSim/lib/python3.9/site-packages/scib/metrics/metrics.py:293: DeprecationWarning: Call to deprecated function (or staticmethod) opt_louvain.\n",
      "  res_max, nmi_max, nmi_all = opt_louvain(\n",
      "/home/lhc/.pyenv/versions/miniforge3-4.10.3-10/envs/scMultiSim/lib/python3.9/site-packages/scib/metrics/metrics.py:293: DeprecationWarning: Call to deprecated function (or staticmethod) opt_louvain.\n",
      "  res_max, nmi_max, nmi_all = opt_louvain(\n"
     ]
    },
    {
     "name": "stdout",
     "output_type": "stream",
     "text": [
      "NMI...\n",
      "ARI...\n",
      "Silhouette score...\n",
      "Graph connectivity...\n",
      "/home/lhc/scMultiSim/bench/unif/0/tree5_500_cells200_genes_sigma0.1_2/integ3/\n",
      "PCA\n",
      "Nearest Neigbours\n",
      "PCA\n",
      "Nearest Neigbours\n",
      "NMI...\n",
      "ARI...\n",
      "Silhouette score...\n",
      "Graph connectivity...\n",
      "/home/lhc/scMultiSim/bench/unif/0/tree5_500_cells200_genes_sigma0.1_3/integ3/\n",
      "PCA\n",
      "Nearest Neigbours\n",
      "PCA\n",
      "Nearest Neigbours\n",
      "NMI...\n",
      "ARI...\n"
     ]
    },
    {
     "name": "stderr",
     "output_type": "stream",
     "text": [
      "/home/lhc/.pyenv/versions/miniforge3-4.10.3-10/envs/scMultiSim/lib/python3.9/site-packages/scib/metrics/metrics.py:293: DeprecationWarning: Call to deprecated function (or staticmethod) opt_louvain.\n",
      "  res_max, nmi_max, nmi_all = opt_louvain(\n",
      "/home/lhc/.pyenv/versions/miniforge3-4.10.3-10/envs/scMultiSim/lib/python3.9/site-packages/scib/metrics/metrics.py:293: DeprecationWarning: Call to deprecated function (or staticmethod) opt_louvain.\n",
      "  res_max, nmi_max, nmi_all = opt_louvain(\n"
     ]
    },
    {
     "name": "stdout",
     "output_type": "stream",
     "text": [
      "Silhouette score...\n",
      "Graph connectivity...\n",
      "/home/lhc/scMultiSim/bench/unif/0/tree5_500_cells200_genes_sigma0.1_4/integ3/\n",
      "PCA\n",
      "Nearest Neigbours\n",
      "PCA\n",
      "Nearest Neigbours\n",
      "NMI...\n",
      "ARI...\n",
      "Silhouette score...\n",
      "Graph connectivity...\n",
      "/home/lhc/scMultiSim/bench/unif/0/tree5_500_cells500_genes_sigma0.1_1/integ3/\n",
      "PCA\n",
      "Nearest Neigbours\n",
      "PCA\n",
      "Nearest Neigbours\n"
     ]
    },
    {
     "name": "stderr",
     "output_type": "stream",
     "text": [
      "/home/lhc/.pyenv/versions/miniforge3-4.10.3-10/envs/scMultiSim/lib/python3.9/site-packages/scib/metrics/metrics.py:293: DeprecationWarning: Call to deprecated function (or staticmethod) opt_louvain.\n",
      "  res_max, nmi_max, nmi_all = opt_louvain(\n"
     ]
    },
    {
     "name": "stdout",
     "output_type": "stream",
     "text": [
      "NMI...\n",
      "ARI...\n",
      "Silhouette score...\n",
      "Graph connectivity...\n",
      "/home/lhc/scMultiSim/bench/unif/0/tree5_500_cells500_genes_sigma0.1_2/integ3/\n",
      "PCA\n",
      "Nearest Neigbours\n",
      "PCA\n",
      "Nearest Neigbours\n"
     ]
    },
    {
     "name": "stderr",
     "output_type": "stream",
     "text": [
      "/home/lhc/.pyenv/versions/miniforge3-4.10.3-10/envs/scMultiSim/lib/python3.9/site-packages/scib/metrics/metrics.py:293: DeprecationWarning: Call to deprecated function (or staticmethod) opt_louvain.\n",
      "  res_max, nmi_max, nmi_all = opt_louvain(\n",
      "/home/lhc/.pyenv/versions/miniforge3-4.10.3-10/envs/scMultiSim/lib/python3.9/site-packages/scib/metrics/metrics.py:293: DeprecationWarning: Call to deprecated function (or staticmethod) opt_louvain.\n",
      "  res_max, nmi_max, nmi_all = opt_louvain(\n"
     ]
    },
    {
     "name": "stdout",
     "output_type": "stream",
     "text": [
      "NMI...\n",
      "ARI...\n",
      "Silhouette score...\n",
      "Graph connectivity...\n",
      "/home/lhc/scMultiSim/bench/unif/0/tree5_500_cells500_genes_sigma0.1_3/integ3/\n",
      "PCA\n",
      "Nearest Neigbours\n",
      "PCA\n",
      "Nearest Neigbours\n",
      "NMI...\n",
      "ARI...\n",
      "Silhouette score...\n",
      "Graph connectivity...\n",
      "/home/lhc/scMultiSim/bench/unif/0/tree5_500_cells500_genes_sigma0.1_4/integ3/\n",
      "PCA\n",
      "Nearest Neigbours\n",
      "PCA\n",
      "Nearest Neigbours\n",
      "NMI...\n",
      "ARI...\n",
      "Silhouette score...\n",
      "Graph connectivity...\n"
     ]
    },
    {
     "name": "stderr",
     "output_type": "stream",
     "text": [
      "/home/lhc/.pyenv/versions/miniforge3-4.10.3-10/envs/scMultiSim/lib/python3.9/site-packages/scib/metrics/metrics.py:293: DeprecationWarning: Call to deprecated function (or staticmethod) opt_louvain.\n",
      "  res_max, nmi_max, nmi_all = opt_louvain(\n"
     ]
    },
    {
     "name": "stdout",
     "output_type": "stream",
     "text": [
      "/home/lhc/scMultiSim/bench/unif/0/tree5_800_cells110_genes_sigma0.1_1/integ3/\n",
      "PCA\n",
      "Nearest Neigbours\n",
      "PCA\n",
      "Nearest Neigbours\n"
     ]
    },
    {
     "name": "stderr",
     "output_type": "stream",
     "text": [
      "/home/lhc/.pyenv/versions/miniforge3-4.10.3-10/envs/scMultiSim/lib/python3.9/site-packages/scib/metrics/metrics.py:293: DeprecationWarning: Call to deprecated function (or staticmethod) opt_louvain.\n",
      "  res_max, nmi_max, nmi_all = opt_louvain(\n"
     ]
    },
    {
     "name": "stdout",
     "output_type": "stream",
     "text": [
      "NMI...\n",
      "ARI...\n",
      "Silhouette score...\n",
      "Graph connectivity...\n",
      "/home/lhc/scMultiSim/bench/unif/0/tree5_800_cells110_genes_sigma0.1_2/integ3/\n",
      "PCA\n",
      "Nearest Neigbours\n",
      "PCA\n",
      "Nearest Neigbours\n"
     ]
    },
    {
     "name": "stderr",
     "output_type": "stream",
     "text": [
      "/home/lhc/.pyenv/versions/miniforge3-4.10.3-10/envs/scMultiSim/lib/python3.9/site-packages/scib/metrics/metrics.py:293: DeprecationWarning: Call to deprecated function (or staticmethod) opt_louvain.\n",
      "  res_max, nmi_max, nmi_all = opt_louvain(\n"
     ]
    },
    {
     "name": "stdout",
     "output_type": "stream",
     "text": [
      "NMI...\n",
      "ARI...\n",
      "Silhouette score...\n",
      "Graph connectivity...\n",
      "/home/lhc/scMultiSim/bench/unif/0/tree5_800_cells110_genes_sigma0.1_3/integ3/\n",
      "PCA\n",
      "Nearest Neigbours\n",
      "PCA\n",
      "Nearest Neigbours\n"
     ]
    },
    {
     "name": "stderr",
     "output_type": "stream",
     "text": [
      "/home/lhc/.pyenv/versions/miniforge3-4.10.3-10/envs/scMultiSim/lib/python3.9/site-packages/scib/metrics/metrics.py:293: DeprecationWarning: Call to deprecated function (or staticmethod) opt_louvain.\n",
      "  res_max, nmi_max, nmi_all = opt_louvain(\n"
     ]
    },
    {
     "name": "stdout",
     "output_type": "stream",
     "text": [
      "NMI...\n",
      "ARI...\n",
      "Silhouette score...\n",
      "Graph connectivity...\n",
      "/home/lhc/scMultiSim/bench/unif/0/tree5_800_cells110_genes_sigma0.1_4/integ3/\n",
      "PCA\n",
      "Nearest Neigbours\n",
      "PCA\n",
      "Nearest Neigbours\n"
     ]
    },
    {
     "name": "stderr",
     "output_type": "stream",
     "text": [
      "/home/lhc/.pyenv/versions/miniforge3-4.10.3-10/envs/scMultiSim/lib/python3.9/site-packages/scib/metrics/metrics.py:293: DeprecationWarning: Call to deprecated function (or staticmethod) opt_louvain.\n",
      "  res_max, nmi_max, nmi_all = opt_louvain(\n"
     ]
    },
    {
     "name": "stdout",
     "output_type": "stream",
     "text": [
      "NMI...\n",
      "ARI...\n",
      "Silhouette score...\n",
      "Graph connectivity...\n",
      "/home/lhc/scMultiSim/bench/unif/0/tree5_800_cells200_genes_sigma0.1_1/integ3/\n",
      "PCA\n",
      "Nearest Neigbours\n",
      "PCA\n",
      "Nearest Neigbours\n"
     ]
    },
    {
     "name": "stderr",
     "output_type": "stream",
     "text": [
      "/home/lhc/.pyenv/versions/miniforge3-4.10.3-10/envs/scMultiSim/lib/python3.9/site-packages/scib/metrics/metrics.py:293: DeprecationWarning: Call to deprecated function (or staticmethod) opt_louvain.\n",
      "  res_max, nmi_max, nmi_all = opt_louvain(\n"
     ]
    },
    {
     "name": "stdout",
     "output_type": "stream",
     "text": [
      "NMI...\n",
      "ARI...\n",
      "Silhouette score...\n",
      "Graph connectivity...\n",
      "/home/lhc/scMultiSim/bench/unif/0/tree5_800_cells200_genes_sigma0.1_2/integ3/\n",
      "PCA\n",
      "Nearest Neigbours\n",
      "PCA\n",
      "Nearest Neigbours\n"
     ]
    },
    {
     "name": "stderr",
     "output_type": "stream",
     "text": [
      "/home/lhc/.pyenv/versions/miniforge3-4.10.3-10/envs/scMultiSim/lib/python3.9/site-packages/scib/metrics/metrics.py:293: DeprecationWarning: Call to deprecated function (or staticmethod) opt_louvain.\n",
      "  res_max, nmi_max, nmi_all = opt_louvain(\n"
     ]
    },
    {
     "name": "stdout",
     "output_type": "stream",
     "text": [
      "NMI...\n",
      "ARI...\n",
      "Silhouette score...\n",
      "Graph connectivity...\n",
      "/home/lhc/scMultiSim/bench/unif/0/tree5_800_cells200_genes_sigma0.1_3/integ3/\n",
      "PCA\n",
      "Nearest Neigbours\n",
      "PCA\n",
      "Nearest Neigbours\n"
     ]
    },
    {
     "name": "stderr",
     "output_type": "stream",
     "text": [
      "/home/lhc/.pyenv/versions/miniforge3-4.10.3-10/envs/scMultiSim/lib/python3.9/site-packages/scib/metrics/metrics.py:293: DeprecationWarning: Call to deprecated function (or staticmethod) opt_louvain.\n",
      "  res_max, nmi_max, nmi_all = opt_louvain(\n"
     ]
    },
    {
     "name": "stdout",
     "output_type": "stream",
     "text": [
      "NMI...\n",
      "ARI...\n",
      "Silhouette score...\n",
      "Graph connectivity...\n",
      "/home/lhc/scMultiSim/bench/unif/0/tree5_800_cells200_genes_sigma0.1_4/integ3/\n",
      "PCA\n",
      "Nearest Neigbours\n",
      "PCA\n",
      "Nearest Neigbours\n"
     ]
    },
    {
     "name": "stderr",
     "output_type": "stream",
     "text": [
      "/home/lhc/.pyenv/versions/miniforge3-4.10.3-10/envs/scMultiSim/lib/python3.9/site-packages/scib/metrics/metrics.py:293: DeprecationWarning: Call to deprecated function (or staticmethod) opt_louvain.\n",
      "  res_max, nmi_max, nmi_all = opt_louvain(\n"
     ]
    },
    {
     "name": "stdout",
     "output_type": "stream",
     "text": [
      "NMI...\n",
      "ARI...\n",
      "Silhouette score...\n",
      "Graph connectivity...\n",
      "/home/lhc/scMultiSim/bench/unif/0/tree5_800_cells500_genes_sigma0.1_1/integ3/\n",
      "PCA\n",
      "Nearest Neigbours\n",
      "PCA\n",
      "Nearest Neigbours\n"
     ]
    },
    {
     "name": "stderr",
     "output_type": "stream",
     "text": [
      "/home/lhc/.pyenv/versions/miniforge3-4.10.3-10/envs/scMultiSim/lib/python3.9/site-packages/scib/metrics/metrics.py:293: DeprecationWarning: Call to deprecated function (or staticmethod) opt_louvain.\n",
      "  res_max, nmi_max, nmi_all = opt_louvain(\n"
     ]
    },
    {
     "name": "stdout",
     "output_type": "stream",
     "text": [
      "NMI...\n",
      "ARI...\n",
      "Silhouette score...\n",
      "Graph connectivity...\n",
      "/home/lhc/scMultiSim/bench/unif/0/tree5_800_cells500_genes_sigma0.1_2/integ3/\n",
      "PCA\n",
      "Nearest Neigbours\n",
      "PCA\n",
      "Nearest Neigbours\n"
     ]
    },
    {
     "name": "stderr",
     "output_type": "stream",
     "text": [
      "/home/lhc/.pyenv/versions/miniforge3-4.10.3-10/envs/scMultiSim/lib/python3.9/site-packages/scib/metrics/metrics.py:293: DeprecationWarning: Call to deprecated function (or staticmethod) opt_louvain.\n",
      "  res_max, nmi_max, nmi_all = opt_louvain(\n"
     ]
    },
    {
     "name": "stdout",
     "output_type": "stream",
     "text": [
      "NMI...\n",
      "ARI...\n",
      "Silhouette score...\n",
      "Graph connectivity...\n",
      "/home/lhc/scMultiSim/bench/unif/0/tree5_800_cells500_genes_sigma0.1_3/integ3/\n",
      "PCA\n",
      "Nearest Neigbours\n",
      "PCA\n",
      "Nearest Neigbours\n"
     ]
    },
    {
     "name": "stderr",
     "output_type": "stream",
     "text": [
      "/home/lhc/.pyenv/versions/miniforge3-4.10.3-10/envs/scMultiSim/lib/python3.9/site-packages/scib/metrics/metrics.py:293: DeprecationWarning: Call to deprecated function (or staticmethod) opt_louvain.\n",
      "  res_max, nmi_max, nmi_all = opt_louvain(\n"
     ]
    },
    {
     "name": "stdout",
     "output_type": "stream",
     "text": [
      "NMI...\n",
      "ARI...\n",
      "Silhouette score...\n",
      "Graph connectivity...\n",
      "/home/lhc/scMultiSim/bench/unif/0/tree5_800_cells500_genes_sigma0.1_4/integ3/\n",
      "PCA\n",
      "Nearest Neigbours\n",
      "PCA\n",
      "Nearest Neigbours\n"
     ]
    },
    {
     "name": "stderr",
     "output_type": "stream",
     "text": [
      "/home/lhc/.pyenv/versions/miniforge3-4.10.3-10/envs/scMultiSim/lib/python3.9/site-packages/scib/metrics/metrics.py:293: DeprecationWarning: Call to deprecated function (or staticmethod) opt_louvain.\n",
      "  res_max, nmi_max, nmi_all = opt_louvain(\n"
     ]
    },
    {
     "name": "stdout",
     "output_type": "stream",
     "text": [
      "NMI...\n",
      "ARI...\n",
      "Silhouette score...\n",
      "Graph connectivity...\n",
      "/home/lhc/scMultiSim/bench/unif/0/tree1_500_cells110_genes_sigma0.5_1/integ3/\n",
      "PCA\n",
      "Nearest Neigbours\n",
      "PCA\n",
      "Nearest Neigbours\n"
     ]
    },
    {
     "name": "stderr",
     "output_type": "stream",
     "text": [
      "/home/lhc/.pyenv/versions/miniforge3-4.10.3-10/envs/scMultiSim/lib/python3.9/site-packages/scib/metrics/metrics.py:293: DeprecationWarning: Call to deprecated function (or staticmethod) opt_louvain.\n",
      "  res_max, nmi_max, nmi_all = opt_louvain(\n",
      "/home/lhc/.pyenv/versions/miniforge3-4.10.3-10/envs/scMultiSim/lib/python3.9/site-packages/scib/metrics/metrics.py:293: DeprecationWarning: Call to deprecated function (or staticmethod) opt_louvain.\n",
      "  res_max, nmi_max, nmi_all = opt_louvain(\n"
     ]
    },
    {
     "name": "stdout",
     "output_type": "stream",
     "text": [
      "NMI...\n",
      "ARI...\n",
      "Silhouette score...\n",
      "Graph connectivity...\n",
      "/home/lhc/scMultiSim/bench/unif/0/tree1_500_cells110_genes_sigma0.5_2/integ3/\n",
      "PCA\n",
      "Nearest Neigbours\n",
      "PCA\n",
      "Nearest Neigbours\n",
      "NMI...\n",
      "ARI...\n",
      "Silhouette score...\n",
      "Graph connectivity...\n",
      "/home/lhc/scMultiSim/bench/unif/0/tree1_500_cells110_genes_sigma0.5_3/integ3/\n",
      "PCA\n",
      "Nearest Neigbours\n",
      "PCA\n",
      "Nearest Neigbours\n"
     ]
    },
    {
     "name": "stderr",
     "output_type": "stream",
     "text": [
      "/home/lhc/.pyenv/versions/miniforge3-4.10.3-10/envs/scMultiSim/lib/python3.9/site-packages/scib/metrics/metrics.py:293: DeprecationWarning: Call to deprecated function (or staticmethod) opt_louvain.\n",
      "  res_max, nmi_max, nmi_all = opt_louvain(\n"
     ]
    },
    {
     "name": "stdout",
     "output_type": "stream",
     "text": [
      "NMI...\n",
      "ARI...\n",
      "Silhouette score...\n",
      "Graph connectivity...\n",
      "/home/lhc/scMultiSim/bench/unif/0/tree1_500_cells110_genes_sigma0.5_4/integ3/\n",
      "PCA\n",
      "Nearest Neigbours\n",
      "PCA\n",
      "Nearest Neigbours\n"
     ]
    },
    {
     "name": "stderr",
     "output_type": "stream",
     "text": [
      "/home/lhc/.pyenv/versions/miniforge3-4.10.3-10/envs/scMultiSim/lib/python3.9/site-packages/scib/metrics/metrics.py:293: DeprecationWarning: Call to deprecated function (or staticmethod) opt_louvain.\n",
      "  res_max, nmi_max, nmi_all = opt_louvain(\n"
     ]
    },
    {
     "name": "stdout",
     "output_type": "stream",
     "text": [
      "NMI...\n",
      "ARI...\n",
      "Silhouette score...\n",
      "Graph connectivity...\n",
      "/home/lhc/scMultiSim/bench/unif/0/tree1_500_cells200_genes_sigma0.5_1/integ3/\n",
      "PCA\n",
      "Nearest Neigbours\n",
      "PCA\n",
      "Nearest Neigbours\n"
     ]
    },
    {
     "name": "stderr",
     "output_type": "stream",
     "text": [
      "/home/lhc/.pyenv/versions/miniforge3-4.10.3-10/envs/scMultiSim/lib/python3.9/site-packages/scib/metrics/metrics.py:293: DeprecationWarning: Call to deprecated function (or staticmethod) opt_louvain.\n",
      "  res_max, nmi_max, nmi_all = opt_louvain(\n"
     ]
    },
    {
     "name": "stdout",
     "output_type": "stream",
     "text": [
      "NMI...\n",
      "ARI...\n",
      "Silhouette score...\n",
      "Graph connectivity...\n",
      "/home/lhc/scMultiSim/bench/unif/0/tree1_500_cells200_genes_sigma0.5_2/integ3/\n",
      "PCA\n",
      "Nearest Neigbours\n",
      "PCA\n",
      "Nearest Neigbours\n"
     ]
    },
    {
     "name": "stderr",
     "output_type": "stream",
     "text": [
      "/home/lhc/.pyenv/versions/miniforge3-4.10.3-10/envs/scMultiSim/lib/python3.9/site-packages/scib/metrics/metrics.py:293: DeprecationWarning: Call to deprecated function (or staticmethod) opt_louvain.\n",
      "  res_max, nmi_max, nmi_all = opt_louvain(\n"
     ]
    },
    {
     "name": "stdout",
     "output_type": "stream",
     "text": [
      "NMI...\n",
      "ARI...\n",
      "Silhouette score...\n",
      "Graph connectivity...\n",
      "/home/lhc/scMultiSim/bench/unif/0/tree1_500_cells200_genes_sigma0.5_3/integ3/\n",
      "PCA\n",
      "Nearest Neigbours\n",
      "PCA\n",
      "Nearest Neigbours\n",
      "NMI...\n"
     ]
    },
    {
     "name": "stderr",
     "output_type": "stream",
     "text": [
      "/home/lhc/.pyenv/versions/miniforge3-4.10.3-10/envs/scMultiSim/lib/python3.9/site-packages/scib/metrics/metrics.py:293: DeprecationWarning: Call to deprecated function (or staticmethod) opt_louvain.\n",
      "  res_max, nmi_max, nmi_all = opt_louvain(\n",
      "/home/lhc/.pyenv/versions/miniforge3-4.10.3-10/envs/scMultiSim/lib/python3.9/site-packages/scib/metrics/metrics.py:293: DeprecationWarning: Call to deprecated function (or staticmethod) opt_louvain.\n",
      "  res_max, nmi_max, nmi_all = opt_louvain(\n"
     ]
    },
    {
     "name": "stdout",
     "output_type": "stream",
     "text": [
      "ARI...\n",
      "Silhouette score...\n",
      "Graph connectivity...\n",
      "/home/lhc/scMultiSim/bench/unif/0/tree1_500_cells200_genes_sigma0.5_4/integ3/\n",
      "PCA\n",
      "Nearest Neigbours\n",
      "PCA\n",
      "Nearest Neigbours\n",
      "NMI...\n",
      "ARI...\n",
      "Silhouette score...\n",
      "Graph connectivity...\n",
      "/home/lhc/scMultiSim/bench/unif/0/tree1_500_cells500_genes_sigma0.5_1/integ3/\n",
      "PCA\n",
      "Nearest Neigbours\n",
      "PCA\n",
      "Nearest Neigbours\n"
     ]
    },
    {
     "name": "stderr",
     "output_type": "stream",
     "text": [
      "/home/lhc/.pyenv/versions/miniforge3-4.10.3-10/envs/scMultiSim/lib/python3.9/site-packages/scib/metrics/metrics.py:293: DeprecationWarning: Call to deprecated function (or staticmethod) opt_louvain.\n",
      "  res_max, nmi_max, nmi_all = opt_louvain(\n"
     ]
    },
    {
     "name": "stdout",
     "output_type": "stream",
     "text": [
      "NMI...\n",
      "ARI...\n",
      "Silhouette score...\n",
      "Graph connectivity...\n",
      "/home/lhc/scMultiSim/bench/unif/0/tree1_500_cells500_genes_sigma0.5_2/integ3/\n",
      "PCA\n",
      "Nearest Neigbours\n",
      "PCA\n",
      "Nearest Neigbours\n",
      "NMI...\n",
      "ARI...\n"
     ]
    },
    {
     "name": "stderr",
     "output_type": "stream",
     "text": [
      "/home/lhc/.pyenv/versions/miniforge3-4.10.3-10/envs/scMultiSim/lib/python3.9/site-packages/scib/metrics/metrics.py:293: DeprecationWarning: Call to deprecated function (or staticmethod) opt_louvain.\n",
      "  res_max, nmi_max, nmi_all = opt_louvain(\n"
     ]
    },
    {
     "name": "stdout",
     "output_type": "stream",
     "text": [
      "Silhouette score...\n",
      "Graph connectivity...\n",
      "/home/lhc/scMultiSim/bench/unif/0/tree1_500_cells500_genes_sigma0.5_3/integ3/\n",
      "PCA\n",
      "Nearest Neigbours\n",
      "PCA\n",
      "Nearest Neigbours\n"
     ]
    },
    {
     "name": "stderr",
     "output_type": "stream",
     "text": [
      "/home/lhc/.pyenv/versions/miniforge3-4.10.3-10/envs/scMultiSim/lib/python3.9/site-packages/scib/metrics/metrics.py:293: DeprecationWarning: Call to deprecated function (or staticmethod) opt_louvain.\n",
      "  res_max, nmi_max, nmi_all = opt_louvain(\n"
     ]
    },
    {
     "name": "stdout",
     "output_type": "stream",
     "text": [
      "NMI...\n",
      "ARI...\n",
      "Silhouette score...\n",
      "Graph connectivity...\n",
      "/home/lhc/scMultiSim/bench/unif/0/tree1_500_cells500_genes_sigma0.5_4/integ3/\n",
      "PCA\n",
      "Nearest Neigbours\n",
      "PCA\n",
      "Nearest Neigbours\n"
     ]
    },
    {
     "name": "stderr",
     "output_type": "stream",
     "text": [
      "/home/lhc/.pyenv/versions/miniforge3-4.10.3-10/envs/scMultiSim/lib/python3.9/site-packages/scib/metrics/metrics.py:293: DeprecationWarning: Call to deprecated function (or staticmethod) opt_louvain.\n",
      "  res_max, nmi_max, nmi_all = opt_louvain(\n",
      "/home/lhc/.pyenv/versions/miniforge3-4.10.3-10/envs/scMultiSim/lib/python3.9/site-packages/scib/metrics/metrics.py:293: DeprecationWarning: Call to deprecated function (or staticmethod) opt_louvain.\n",
      "  res_max, nmi_max, nmi_all = opt_louvain(\n"
     ]
    },
    {
     "name": "stdout",
     "output_type": "stream",
     "text": [
      "NMI...\n",
      "ARI...\n",
      "Silhouette score...\n",
      "Graph connectivity...\n",
      "/home/lhc/scMultiSim/bench/unif/0/tree1_800_cells110_genes_sigma0.5_1/integ3/\n",
      "PCA\n",
      "Nearest Neigbours\n",
      "PCA\n",
      "Nearest Neigbours\n",
      "NMI...\n",
      "ARI...\n",
      "Silhouette score...\n",
      "Graph connectivity...\n",
      "/home/lhc/scMultiSim/bench/unif/0/tree1_800_cells110_genes_sigma0.5_2/integ3/\n",
      "PCA\n",
      "Nearest Neigbours\n",
      "PCA\n",
      "Nearest Neigbours\n"
     ]
    },
    {
     "name": "stderr",
     "output_type": "stream",
     "text": [
      "/home/lhc/.pyenv/versions/miniforge3-4.10.3-10/envs/scMultiSim/lib/python3.9/site-packages/scib/metrics/metrics.py:293: DeprecationWarning: Call to deprecated function (or staticmethod) opt_louvain.\n",
      "  res_max, nmi_max, nmi_all = opt_louvain(\n"
     ]
    },
    {
     "name": "stdout",
     "output_type": "stream",
     "text": [
      "NMI...\n",
      "ARI...\n",
      "Silhouette score...\n",
      "Graph connectivity...\n",
      "/home/lhc/scMultiSim/bench/unif/0/tree1_800_cells110_genes_sigma0.5_3/integ3/\n",
      "PCA\n",
      "Nearest Neigbours\n",
      "PCA\n",
      "Nearest Neigbours\n"
     ]
    },
    {
     "name": "stderr",
     "output_type": "stream",
     "text": [
      "/home/lhc/.pyenv/versions/miniforge3-4.10.3-10/envs/scMultiSim/lib/python3.9/site-packages/scib/metrics/metrics.py:293: DeprecationWarning: Call to deprecated function (or staticmethod) opt_louvain.\n",
      "  res_max, nmi_max, nmi_all = opt_louvain(\n"
     ]
    },
    {
     "name": "stdout",
     "output_type": "stream",
     "text": [
      "NMI...\n",
      "ARI...\n",
      "Silhouette score...\n",
      "Graph connectivity...\n",
      "/home/lhc/scMultiSim/bench/unif/0/tree1_800_cells110_genes_sigma0.5_4/integ3/\n",
      "PCA\n",
      "Nearest Neigbours\n",
      "PCA\n",
      "Nearest Neigbours\n"
     ]
    },
    {
     "name": "stderr",
     "output_type": "stream",
     "text": [
      "/home/lhc/.pyenv/versions/miniforge3-4.10.3-10/envs/scMultiSim/lib/python3.9/site-packages/scib/metrics/metrics.py:293: DeprecationWarning: Call to deprecated function (or staticmethod) opt_louvain.\n",
      "  res_max, nmi_max, nmi_all = opt_louvain(\n"
     ]
    },
    {
     "name": "stdout",
     "output_type": "stream",
     "text": [
      "NMI...\n",
      "ARI...\n",
      "Silhouette score...\n",
      "Graph connectivity...\n",
      "/home/lhc/scMultiSim/bench/unif/0/tree1_800_cells200_genes_sigma0.5_1/integ3/\n",
      "PCA\n",
      "Nearest Neigbours\n",
      "PCA\n",
      "Nearest Neigbours\n"
     ]
    },
    {
     "name": "stderr",
     "output_type": "stream",
     "text": [
      "/home/lhc/.pyenv/versions/miniforge3-4.10.3-10/envs/scMultiSim/lib/python3.9/site-packages/scib/metrics/metrics.py:293: DeprecationWarning: Call to deprecated function (or staticmethod) opt_louvain.\n",
      "  res_max, nmi_max, nmi_all = opt_louvain(\n"
     ]
    },
    {
     "name": "stdout",
     "output_type": "stream",
     "text": [
      "NMI...\n",
      "ARI...\n",
      "Silhouette score...\n",
      "Graph connectivity...\n",
      "/home/lhc/scMultiSim/bench/unif/0/tree1_800_cells200_genes_sigma0.5_2/integ3/\n",
      "PCA\n",
      "Nearest Neigbours\n",
      "PCA\n",
      "Nearest Neigbours\n"
     ]
    },
    {
     "name": "stderr",
     "output_type": "stream",
     "text": [
      "/home/lhc/.pyenv/versions/miniforge3-4.10.3-10/envs/scMultiSim/lib/python3.9/site-packages/scib/metrics/metrics.py:293: DeprecationWarning: Call to deprecated function (or staticmethod) opt_louvain.\n",
      "  res_max, nmi_max, nmi_all = opt_louvain(\n"
     ]
    },
    {
     "name": "stdout",
     "output_type": "stream",
     "text": [
      "NMI...\n",
      "ARI...\n",
      "Silhouette score...\n",
      "Graph connectivity...\n",
      "/home/lhc/scMultiSim/bench/unif/0/tree1_800_cells200_genes_sigma0.5_3/integ3/\n",
      "PCA\n",
      "Nearest Neigbours\n",
      "PCA\n",
      "Nearest Neigbours\n"
     ]
    },
    {
     "name": "stderr",
     "output_type": "stream",
     "text": [
      "/home/lhc/.pyenv/versions/miniforge3-4.10.3-10/envs/scMultiSim/lib/python3.9/site-packages/scib/metrics/metrics.py:293: DeprecationWarning: Call to deprecated function (or staticmethod) opt_louvain.\n",
      "  res_max, nmi_max, nmi_all = opt_louvain(\n"
     ]
    },
    {
     "name": "stdout",
     "output_type": "stream",
     "text": [
      "NMI...\n",
      "ARI...\n",
      "Silhouette score...\n",
      "Graph connectivity...\n",
      "/home/lhc/scMultiSim/bench/unif/0/tree1_800_cells200_genes_sigma0.5_4/integ3/\n",
      "PCA\n",
      "Nearest Neigbours\n",
      "PCA\n",
      "Nearest Neigbours\n"
     ]
    },
    {
     "name": "stderr",
     "output_type": "stream",
     "text": [
      "/home/lhc/.pyenv/versions/miniforge3-4.10.3-10/envs/scMultiSim/lib/python3.9/site-packages/scib/metrics/metrics.py:293: DeprecationWarning: Call to deprecated function (or staticmethod) opt_louvain.\n",
      "  res_max, nmi_max, nmi_all = opt_louvain(\n"
     ]
    },
    {
     "name": "stdout",
     "output_type": "stream",
     "text": [
      "NMI...\n",
      "ARI...\n",
      "Silhouette score...\n",
      "Graph connectivity...\n",
      "/home/lhc/scMultiSim/bench/unif/0/tree1_800_cells500_genes_sigma0.5_1/integ3/\n",
      "PCA\n",
      "Nearest Neigbours\n",
      "PCA\n",
      "Nearest Neigbours\n"
     ]
    },
    {
     "name": "stderr",
     "output_type": "stream",
     "text": [
      "/home/lhc/.pyenv/versions/miniforge3-4.10.3-10/envs/scMultiSim/lib/python3.9/site-packages/scib/metrics/metrics.py:293: DeprecationWarning: Call to deprecated function (or staticmethod) opt_louvain.\n",
      "  res_max, nmi_max, nmi_all = opt_louvain(\n"
     ]
    },
    {
     "name": "stdout",
     "output_type": "stream",
     "text": [
      "NMI...\n",
      "ARI...\n",
      "Silhouette score...\n",
      "Graph connectivity...\n",
      "/home/lhc/scMultiSim/bench/unif/0/tree1_800_cells500_genes_sigma0.5_2/integ3/\n",
      "PCA\n",
      "Nearest Neigbours\n",
      "PCA\n",
      "Nearest Neigbours\n"
     ]
    },
    {
     "name": "stderr",
     "output_type": "stream",
     "text": [
      "/home/lhc/.pyenv/versions/miniforge3-4.10.3-10/envs/scMultiSim/lib/python3.9/site-packages/scib/metrics/metrics.py:293: DeprecationWarning: Call to deprecated function (or staticmethod) opt_louvain.\n",
      "  res_max, nmi_max, nmi_all = opt_louvain(\n"
     ]
    },
    {
     "name": "stdout",
     "output_type": "stream",
     "text": [
      "NMI...\n",
      "ARI...\n",
      "Silhouette score...\n",
      "Graph connectivity...\n",
      "/home/lhc/scMultiSim/bench/unif/0/tree1_800_cells500_genes_sigma0.5_3/integ3/\n",
      "PCA\n",
      "Nearest Neigbours\n",
      "PCA\n",
      "Nearest Neigbours\n"
     ]
    },
    {
     "name": "stderr",
     "output_type": "stream",
     "text": [
      "/home/lhc/.pyenv/versions/miniforge3-4.10.3-10/envs/scMultiSim/lib/python3.9/site-packages/scib/metrics/metrics.py:293: DeprecationWarning: Call to deprecated function (or staticmethod) opt_louvain.\n",
      "  res_max, nmi_max, nmi_all = opt_louvain(\n"
     ]
    },
    {
     "name": "stdout",
     "output_type": "stream",
     "text": [
      "NMI...\n",
      "ARI...\n",
      "Silhouette score...\n",
      "Graph connectivity...\n",
      "/home/lhc/scMultiSim/bench/unif/0/tree1_800_cells500_genes_sigma0.5_4/integ3/\n",
      "PCA\n",
      "Nearest Neigbours\n",
      "PCA\n",
      "Nearest Neigbours\n"
     ]
    },
    {
     "name": "stderr",
     "output_type": "stream",
     "text": [
      "/home/lhc/.pyenv/versions/miniforge3-4.10.3-10/envs/scMultiSim/lib/python3.9/site-packages/scib/metrics/metrics.py:293: DeprecationWarning: Call to deprecated function (or staticmethod) opt_louvain.\n",
      "  res_max, nmi_max, nmi_all = opt_louvain(\n"
     ]
    },
    {
     "name": "stdout",
     "output_type": "stream",
     "text": [
      "NMI...\n",
      "ARI...\n",
      "Silhouette score...\n",
      "Graph connectivity...\n",
      "/home/lhc/scMultiSim/bench/unif/0/tree3_500_cells110_genes_sigma0.5_1/integ3/\n",
      "PCA\n",
      "Nearest Neigbours\n",
      "PCA\n",
      "Nearest Neigbours\n",
      "NMI...\n",
      "ARI...\n"
     ]
    },
    {
     "name": "stderr",
     "output_type": "stream",
     "text": [
      "/home/lhc/.pyenv/versions/miniforge3-4.10.3-10/envs/scMultiSim/lib/python3.9/site-packages/scib/metrics/metrics.py:293: DeprecationWarning: Call to deprecated function (or staticmethod) opt_louvain.\n",
      "  res_max, nmi_max, nmi_all = opt_louvain(\n",
      "/home/lhc/.pyenv/versions/miniforge3-4.10.3-10/envs/scMultiSim/lib/python3.9/site-packages/scib/metrics/metrics.py:293: DeprecationWarning: Call to deprecated function (or staticmethod) opt_louvain.\n",
      "  res_max, nmi_max, nmi_all = opt_louvain(\n"
     ]
    },
    {
     "name": "stdout",
     "output_type": "stream",
     "text": [
      "Silhouette score...\n",
      "Graph connectivity...\n",
      "/home/lhc/scMultiSim/bench/unif/0/tree3_500_cells110_genes_sigma0.5_2/integ3/\n",
      "PCA\n",
      "Nearest Neigbours\n",
      "PCA\n",
      "Nearest Neigbours\n",
      "NMI...\n",
      "ARI...\n",
      "Silhouette score...\n",
      "Graph connectivity...\n",
      "/home/lhc/scMultiSim/bench/unif/0/tree3_500_cells110_genes_sigma0.5_3/integ3/\n",
      "PCA\n",
      "Nearest Neigbours\n",
      "PCA\n",
      "Nearest Neigbours\n",
      "NMI...\n",
      "ARI...\n",
      "Silhouette score...\n",
      "Graph connectivity...\n",
      "/home/lhc/scMultiSim/bench/unif/0/tree3_500_cells110_genes_sigma0.5_4/integ3/\n"
     ]
    },
    {
     "name": "stderr",
     "output_type": "stream",
     "text": [
      "/home/lhc/.pyenv/versions/miniforge3-4.10.3-10/envs/scMultiSim/lib/python3.9/site-packages/scib/metrics/metrics.py:293: DeprecationWarning: Call to deprecated function (or staticmethod) opt_louvain.\n",
      "  res_max, nmi_max, nmi_all = opt_louvain(\n",
      "/home/lhc/.pyenv/versions/miniforge3-4.10.3-10/envs/scMultiSim/lib/python3.9/site-packages/scib/metrics/metrics.py:293: DeprecationWarning: Call to deprecated function (or staticmethod) opt_louvain.\n",
      "  res_max, nmi_max, nmi_all = opt_louvain(\n"
     ]
    },
    {
     "name": "stdout",
     "output_type": "stream",
     "text": [
      "PCA\n",
      "Nearest Neigbours\n",
      "PCA\n",
      "Nearest Neigbours\n",
      "NMI...\n",
      "ARI...\n",
      "Silhouette score...\n",
      "Graph connectivity...\n",
      "/home/lhc/scMultiSim/bench/unif/0/tree3_500_cells200_genes_sigma0.5_1/integ3/\n",
      "PCA\n",
      "Nearest Neigbours\n",
      "PCA\n",
      "Nearest Neigbours\n",
      "NMI...\n",
      "ARI...\n",
      "Silhouette score...\n",
      "Graph connectivity...\n",
      "/home/lhc/scMultiSim/bench/unif/0/tree3_500_cells200_genes_sigma0.5_2/integ3/\n"
     ]
    },
    {
     "name": "stderr",
     "output_type": "stream",
     "text": [
      "/home/lhc/.pyenv/versions/miniforge3-4.10.3-10/envs/scMultiSim/lib/python3.9/site-packages/scib/metrics/metrics.py:293: DeprecationWarning: Call to deprecated function (or staticmethod) opt_louvain.\n",
      "  res_max, nmi_max, nmi_all = opt_louvain(\n",
      "/home/lhc/.pyenv/versions/miniforge3-4.10.3-10/envs/scMultiSim/lib/python3.9/site-packages/scib/metrics/metrics.py:293: DeprecationWarning: Call to deprecated function (or staticmethod) opt_louvain.\n",
      "  res_max, nmi_max, nmi_all = opt_louvain(\n"
     ]
    },
    {
     "name": "stdout",
     "output_type": "stream",
     "text": [
      "PCA\n",
      "Nearest Neigbours\n",
      "PCA\n",
      "Nearest Neigbours\n",
      "NMI...\n",
      "ARI...\n",
      "Silhouette score...\n",
      "Graph connectivity...\n",
      "/home/lhc/scMultiSim/bench/unif/0/tree3_500_cells200_genes_sigma0.5_3/integ3/\n",
      "PCA\n",
      "Nearest Neigbours\n",
      "PCA\n",
      "Nearest Neigbours\n",
      "NMI...\n",
      "ARI...\n",
      "Silhouette score...\n",
      "Graph connectivity...\n",
      "/home/lhc/scMultiSim/bench/unif/0/tree3_500_cells200_genes_sigma0.5_4/integ3/\n"
     ]
    },
    {
     "name": "stderr",
     "output_type": "stream",
     "text": [
      "/home/lhc/.pyenv/versions/miniforge3-4.10.3-10/envs/scMultiSim/lib/python3.9/site-packages/scib/metrics/metrics.py:293: DeprecationWarning: Call to deprecated function (or staticmethod) opt_louvain.\n",
      "  res_max, nmi_max, nmi_all = opt_louvain(\n"
     ]
    },
    {
     "name": "stdout",
     "output_type": "stream",
     "text": [
      "PCA\n",
      "Nearest Neigbours\n",
      "PCA\n",
      "Nearest Neigbours\n",
      "NMI...\n",
      "ARI...\n",
      "Silhouette score...\n",
      "Graph connectivity...\n",
      "/home/lhc/scMultiSim/bench/unif/0/tree3_500_cells500_genes_sigma0.5_1/integ3/\n"
     ]
    },
    {
     "name": "stderr",
     "output_type": "stream",
     "text": [
      "/home/lhc/.pyenv/versions/miniforge3-4.10.3-10/envs/scMultiSim/lib/python3.9/site-packages/scib/metrics/metrics.py:293: DeprecationWarning: Call to deprecated function (or staticmethod) opt_louvain.\n",
      "  res_max, nmi_max, nmi_all = opt_louvain(\n"
     ]
    },
    {
     "name": "stdout",
     "output_type": "stream",
     "text": [
      "PCA\n",
      "Nearest Neigbours\n",
      "PCA\n",
      "Nearest Neigbours\n",
      "NMI...\n",
      "ARI...\n",
      "Silhouette score...\n",
      "Graph connectivity...\n",
      "/home/lhc/scMultiSim/bench/unif/0/tree3_500_cells500_genes_sigma0.5_2/integ3/\n"
     ]
    },
    {
     "name": "stderr",
     "output_type": "stream",
     "text": [
      "/home/lhc/.pyenv/versions/miniforge3-4.10.3-10/envs/scMultiSim/lib/python3.9/site-packages/scib/metrics/metrics.py:293: DeprecationWarning: Call to deprecated function (or staticmethod) opt_louvain.\n",
      "  res_max, nmi_max, nmi_all = opt_louvain(\n"
     ]
    },
    {
     "name": "stdout",
     "output_type": "stream",
     "text": [
      "PCA\n",
      "Nearest Neigbours\n",
      "PCA\n",
      "Nearest Neigbours\n",
      "NMI...\n",
      "ARI...\n",
      "Silhouette score...\n",
      "Graph connectivity...\n",
      "/home/lhc/scMultiSim/bench/unif/0/tree3_500_cells500_genes_sigma0.5_3/integ3/\n",
      "PCA\n"
     ]
    },
    {
     "name": "stderr",
     "output_type": "stream",
     "text": [
      "/home/lhc/.pyenv/versions/miniforge3-4.10.3-10/envs/scMultiSim/lib/python3.9/site-packages/scib/metrics/metrics.py:293: DeprecationWarning: Call to deprecated function (or staticmethod) opt_louvain.\n",
      "  res_max, nmi_max, nmi_all = opt_louvain(\n"
     ]
    },
    {
     "name": "stdout",
     "output_type": "stream",
     "text": [
      "Nearest Neigbours\n",
      "PCA\n",
      "Nearest Neigbours\n",
      "NMI...\n",
      "ARI...\n",
      "Silhouette score...\n",
      "Graph connectivity...\n",
      "/home/lhc/scMultiSim/bench/unif/0/tree3_500_cells500_genes_sigma0.5_4/integ3/\n",
      "PCA\n",
      "Nearest Neigbours\n"
     ]
    },
    {
     "name": "stderr",
     "output_type": "stream",
     "text": [
      "/home/lhc/.pyenv/versions/miniforge3-4.10.3-10/envs/scMultiSim/lib/python3.9/site-packages/scib/metrics/metrics.py:293: DeprecationWarning: Call to deprecated function (or staticmethod) opt_louvain.\n",
      "  res_max, nmi_max, nmi_all = opt_louvain(\n",
      "/home/lhc/.pyenv/versions/miniforge3-4.10.3-10/envs/scMultiSim/lib/python3.9/site-packages/scib/metrics/metrics.py:293: DeprecationWarning: Call to deprecated function (or staticmethod) opt_louvain.\n",
      "  res_max, nmi_max, nmi_all = opt_louvain(\n"
     ]
    },
    {
     "name": "stdout",
     "output_type": "stream",
     "text": [
      "PCA\n",
      "Nearest Neigbours\n",
      "NMI...\n",
      "ARI...\n",
      "Silhouette score...\n",
      "Graph connectivity...\n",
      "/home/lhc/scMultiSim/bench/unif/0/tree3_800_cells110_genes_sigma0.5_1/integ3/\n",
      "PCA\n",
      "Nearest Neigbours\n",
      "PCA\n",
      "Nearest Neigbours\n"
     ]
    },
    {
     "name": "stderr",
     "output_type": "stream",
     "text": [
      "/home/lhc/.pyenv/versions/miniforge3-4.10.3-10/envs/scMultiSim/lib/python3.9/site-packages/scib/metrics/metrics.py:293: DeprecationWarning: Call to deprecated function (or staticmethod) opt_louvain.\n",
      "  res_max, nmi_max, nmi_all = opt_louvain(\n"
     ]
    },
    {
     "name": "stdout",
     "output_type": "stream",
     "text": [
      "NMI...\n",
      "ARI...\n",
      "Silhouette score...\n",
      "Graph connectivity...\n",
      "/home/lhc/scMultiSim/bench/unif/0/tree3_800_cells110_genes_sigma0.5_2/integ3/\n",
      "PCA\n",
      "Nearest Neigbours\n",
      "PCA\n",
      "Nearest Neigbours\n"
     ]
    },
    {
     "name": "stderr",
     "output_type": "stream",
     "text": [
      "/home/lhc/.pyenv/versions/miniforge3-4.10.3-10/envs/scMultiSim/lib/python3.9/site-packages/scib/metrics/metrics.py:293: DeprecationWarning: Call to deprecated function (or staticmethod) opt_louvain.\n",
      "  res_max, nmi_max, nmi_all = opt_louvain(\n"
     ]
    },
    {
     "name": "stdout",
     "output_type": "stream",
     "text": [
      "NMI...\n",
      "ARI...\n",
      "Silhouette score...\n",
      "Graph connectivity...\n",
      "/home/lhc/scMultiSim/bench/unif/0/tree3_800_cells110_genes_sigma0.5_3/integ3/\n",
      "PCA\n",
      "Nearest Neigbours\n",
      "PCA\n",
      "Nearest Neigbours\n"
     ]
    },
    {
     "name": "stderr",
     "output_type": "stream",
     "text": [
      "/home/lhc/.pyenv/versions/miniforge3-4.10.3-10/envs/scMultiSim/lib/python3.9/site-packages/scib/metrics/metrics.py:293: DeprecationWarning: Call to deprecated function (or staticmethod) opt_louvain.\n",
      "  res_max, nmi_max, nmi_all = opt_louvain(\n"
     ]
    },
    {
     "name": "stdout",
     "output_type": "stream",
     "text": [
      "NMI...\n",
      "ARI...\n",
      "Silhouette score...\n",
      "Graph connectivity...\n",
      "/home/lhc/scMultiSim/bench/unif/0/tree3_800_cells110_genes_sigma0.5_4/integ3/\n",
      "PCA\n",
      "Nearest Neigbours\n",
      "PCA\n",
      "Nearest Neigbours\n"
     ]
    },
    {
     "name": "stderr",
     "output_type": "stream",
     "text": [
      "/home/lhc/.pyenv/versions/miniforge3-4.10.3-10/envs/scMultiSim/lib/python3.9/site-packages/scib/metrics/metrics.py:293: DeprecationWarning: Call to deprecated function (or staticmethod) opt_louvain.\n",
      "  res_max, nmi_max, nmi_all = opt_louvain(\n"
     ]
    },
    {
     "name": "stdout",
     "output_type": "stream",
     "text": [
      "NMI...\n",
      "ARI...\n",
      "Silhouette score...\n",
      "Graph connectivity...\n",
      "/home/lhc/scMultiSim/bench/unif/0/tree3_800_cells200_genes_sigma0.5_1/integ3/\n",
      "PCA\n",
      "Nearest Neigbours\n",
      "PCA\n",
      "Nearest Neigbours\n"
     ]
    },
    {
     "name": "stderr",
     "output_type": "stream",
     "text": [
      "/home/lhc/.pyenv/versions/miniforge3-4.10.3-10/envs/scMultiSim/lib/python3.9/site-packages/scib/metrics/metrics.py:293: DeprecationWarning: Call to deprecated function (or staticmethod) opt_louvain.\n",
      "  res_max, nmi_max, nmi_all = opt_louvain(\n"
     ]
    },
    {
     "name": "stdout",
     "output_type": "stream",
     "text": [
      "NMI...\n",
      "ARI...\n",
      "Silhouette score...\n",
      "Graph connectivity...\n",
      "/home/lhc/scMultiSim/bench/unif/0/tree3_800_cells200_genes_sigma0.5_2/integ3/\n",
      "PCA\n",
      "Nearest Neigbours\n",
      "PCA\n",
      "Nearest Neigbours\n"
     ]
    },
    {
     "name": "stderr",
     "output_type": "stream",
     "text": [
      "/home/lhc/.pyenv/versions/miniforge3-4.10.3-10/envs/scMultiSim/lib/python3.9/site-packages/scib/metrics/metrics.py:293: DeprecationWarning: Call to deprecated function (or staticmethod) opt_louvain.\n",
      "  res_max, nmi_max, nmi_all = opt_louvain(\n"
     ]
    },
    {
     "name": "stdout",
     "output_type": "stream",
     "text": [
      "NMI...\n",
      "ARI...\n",
      "Silhouette score...\n",
      "Graph connectivity...\n",
      "/home/lhc/scMultiSim/bench/unif/0/tree3_800_cells200_genes_sigma0.5_3/integ3/\n",
      "PCA\n",
      "Nearest Neigbours\n",
      "PCA\n",
      "Nearest Neigbours\n"
     ]
    },
    {
     "name": "stderr",
     "output_type": "stream",
     "text": [
      "/home/lhc/.pyenv/versions/miniforge3-4.10.3-10/envs/scMultiSim/lib/python3.9/site-packages/scib/metrics/metrics.py:293: DeprecationWarning: Call to deprecated function (or staticmethod) opt_louvain.\n",
      "  res_max, nmi_max, nmi_all = opt_louvain(\n"
     ]
    },
    {
     "name": "stdout",
     "output_type": "stream",
     "text": [
      "NMI...\n",
      "ARI...\n",
      "Silhouette score...\n",
      "Graph connectivity...\n",
      "/home/lhc/scMultiSim/bench/unif/0/tree3_800_cells200_genes_sigma0.5_4/integ3/\n",
      "PCA\n",
      "Nearest Neigbours\n",
      "PCA\n",
      "Nearest Neigbours\n"
     ]
    },
    {
     "name": "stderr",
     "output_type": "stream",
     "text": [
      "/home/lhc/.pyenv/versions/miniforge3-4.10.3-10/envs/scMultiSim/lib/python3.9/site-packages/scib/metrics/metrics.py:293: DeprecationWarning: Call to deprecated function (or staticmethod) opt_louvain.\n",
      "  res_max, nmi_max, nmi_all = opt_louvain(\n"
     ]
    },
    {
     "name": "stdout",
     "output_type": "stream",
     "text": [
      "NMI...\n",
      "ARI...\n",
      "Silhouette score...\n",
      "Graph connectivity...\n",
      "/home/lhc/scMultiSim/bench/unif/0/tree3_800_cells500_genes_sigma0.5_1/integ3/\n",
      "PCA\n",
      "Nearest Neigbours\n",
      "PCA\n",
      "Nearest Neigbours\n"
     ]
    },
    {
     "name": "stderr",
     "output_type": "stream",
     "text": [
      "/home/lhc/.pyenv/versions/miniforge3-4.10.3-10/envs/scMultiSim/lib/python3.9/site-packages/scib/metrics/metrics.py:293: DeprecationWarning: Call to deprecated function (or staticmethod) opt_louvain.\n",
      "  res_max, nmi_max, nmi_all = opt_louvain(\n"
     ]
    },
    {
     "name": "stdout",
     "output_type": "stream",
     "text": [
      "NMI...\n",
      "ARI...\n",
      "Silhouette score...\n",
      "Graph connectivity...\n",
      "/home/lhc/scMultiSim/bench/unif/0/tree3_800_cells500_genes_sigma0.5_2/integ3/\n",
      "PCA\n",
      "Nearest Neigbours\n",
      "PCA\n",
      "Nearest Neigbours\n"
     ]
    },
    {
     "name": "stderr",
     "output_type": "stream",
     "text": [
      "/home/lhc/.pyenv/versions/miniforge3-4.10.3-10/envs/scMultiSim/lib/python3.9/site-packages/scib/metrics/metrics.py:293: DeprecationWarning: Call to deprecated function (or staticmethod) opt_louvain.\n",
      "  res_max, nmi_max, nmi_all = opt_louvain(\n"
     ]
    },
    {
     "name": "stdout",
     "output_type": "stream",
     "text": [
      "NMI...\n",
      "ARI...\n",
      "Silhouette score...\n",
      "Graph connectivity...\n",
      "/home/lhc/scMultiSim/bench/unif/0/tree3_800_cells500_genes_sigma0.5_3/integ3/\n",
      "PCA\n",
      "Nearest Neigbours\n",
      "PCA\n",
      "Nearest Neigbours\n"
     ]
    },
    {
     "name": "stderr",
     "output_type": "stream",
     "text": [
      "/home/lhc/.pyenv/versions/miniforge3-4.10.3-10/envs/scMultiSim/lib/python3.9/site-packages/scib/metrics/metrics.py:293: DeprecationWarning: Call to deprecated function (or staticmethod) opt_louvain.\n",
      "  res_max, nmi_max, nmi_all = opt_louvain(\n"
     ]
    },
    {
     "name": "stdout",
     "output_type": "stream",
     "text": [
      "NMI...\n",
      "ARI...\n",
      "Silhouette score...\n",
      "Graph connectivity...\n",
      "/home/lhc/scMultiSim/bench/unif/0/tree3_800_cells500_genes_sigma0.5_4/integ3/\n",
      "PCA\n",
      "Nearest Neigbours\n",
      "PCA\n",
      "Nearest Neigbours\n"
     ]
    },
    {
     "name": "stderr",
     "output_type": "stream",
     "text": [
      "/home/lhc/.pyenv/versions/miniforge3-4.10.3-10/envs/scMultiSim/lib/python3.9/site-packages/scib/metrics/metrics.py:293: DeprecationWarning: Call to deprecated function (or staticmethod) opt_louvain.\n",
      "  res_max, nmi_max, nmi_all = opt_louvain(\n"
     ]
    },
    {
     "name": "stdout",
     "output_type": "stream",
     "text": [
      "NMI...\n",
      "ARI...\n",
      "Silhouette score...\n",
      "Graph connectivity...\n",
      "/home/lhc/scMultiSim/bench/unif/0/tree5_500_cells110_genes_sigma0.5_1/integ3/\n",
      "PCA\n",
      "Nearest Neigbours\n",
      "PCA\n",
      "Nearest Neigbours\n"
     ]
    },
    {
     "name": "stderr",
     "output_type": "stream",
     "text": [
      "/home/lhc/.pyenv/versions/miniforge3-4.10.3-10/envs/scMultiSim/lib/python3.9/site-packages/scib/metrics/metrics.py:293: DeprecationWarning: Call to deprecated function (or staticmethod) opt_louvain.\n",
      "  res_max, nmi_max, nmi_all = opt_louvain(\n",
      "/home/lhc/.pyenv/versions/miniforge3-4.10.3-10/envs/scMultiSim/lib/python3.9/site-packages/scib/metrics/metrics.py:293: DeprecationWarning: Call to deprecated function (or staticmethod) opt_louvain.\n",
      "  res_max, nmi_max, nmi_all = opt_louvain(\n"
     ]
    },
    {
     "name": "stdout",
     "output_type": "stream",
     "text": [
      "NMI...\n",
      "ARI...\n",
      "Silhouette score...\n",
      "Graph connectivity...\n",
      "/home/lhc/scMultiSim/bench/unif/0/tree5_500_cells110_genes_sigma0.5_2/integ3/\n",
      "PCA\n",
      "Nearest Neigbours\n",
      "PCA\n",
      "Nearest Neigbours\n",
      "NMI...\n",
      "ARI...\n",
      "Silhouette score...\n",
      "Graph connectivity...\n",
      "/home/lhc/scMultiSim/bench/unif/0/tree5_500_cells110_genes_sigma0.5_3/integ3/\n",
      "PCA\n",
      "Nearest Neigbours\n",
      "PCA\n",
      "Nearest Neigbours\n",
      "NMI...\n",
      "ARI...\n",
      "Silhouette score...\n",
      "Graph connectivity...\n"
     ]
    },
    {
     "name": "stderr",
     "output_type": "stream",
     "text": [
      "/home/lhc/.pyenv/versions/miniforge3-4.10.3-10/envs/scMultiSim/lib/python3.9/site-packages/scib/metrics/metrics.py:293: DeprecationWarning: Call to deprecated function (or staticmethod) opt_louvain.\n",
      "  res_max, nmi_max, nmi_all = opt_louvain(\n",
      "/home/lhc/.pyenv/versions/miniforge3-4.10.3-10/envs/scMultiSim/lib/python3.9/site-packages/scib/metrics/metrics.py:293: DeprecationWarning: Call to deprecated function (or staticmethod) opt_louvain.\n",
      "  res_max, nmi_max, nmi_all = opt_louvain(\n"
     ]
    },
    {
     "name": "stdout",
     "output_type": "stream",
     "text": [
      "/home/lhc/scMultiSim/bench/unif/0/tree5_500_cells110_genes_sigma0.5_4/integ3/\n",
      "PCA\n",
      "Nearest Neigbours\n",
      "PCA\n",
      "Nearest Neigbours\n",
      "NMI...\n",
      "ARI...\n",
      "Silhouette score...\n",
      "Graph connectivity...\n",
      "/home/lhc/scMultiSim/bench/unif/0/tree5_500_cells200_genes_sigma0.5_1/integ3/\n",
      "PCA\n",
      "Nearest Neigbours\n",
      "PCA\n",
      "Nearest Neigbours\n",
      "NMI...\n",
      "ARI...\n",
      "Silhouette score...\n"
     ]
    },
    {
     "name": "stderr",
     "output_type": "stream",
     "text": [
      "/home/lhc/.pyenv/versions/miniforge3-4.10.3-10/envs/scMultiSim/lib/python3.9/site-packages/scib/metrics/metrics.py:293: DeprecationWarning: Call to deprecated function (or staticmethod) opt_louvain.\n",
      "  res_max, nmi_max, nmi_all = opt_louvain(\n"
     ]
    },
    {
     "name": "stdout",
     "output_type": "stream",
     "text": [
      "Graph connectivity...\n",
      "/home/lhc/scMultiSim/bench/unif/0/tree5_500_cells200_genes_sigma0.5_2/integ3/\n",
      "PCA\n",
      "Nearest Neigbours\n",
      "PCA\n",
      "Nearest Neigbours\n"
     ]
    },
    {
     "name": "stderr",
     "output_type": "stream",
     "text": [
      "/home/lhc/.pyenv/versions/miniforge3-4.10.3-10/envs/scMultiSim/lib/python3.9/site-packages/scib/metrics/metrics.py:293: DeprecationWarning: Call to deprecated function (or staticmethod) opt_louvain.\n",
      "  res_max, nmi_max, nmi_all = opt_louvain(\n"
     ]
    },
    {
     "name": "stdout",
     "output_type": "stream",
     "text": [
      "NMI...\n",
      "ARI...\n",
      "Silhouette score...\n",
      "Graph connectivity...\n",
      "/home/lhc/scMultiSim/bench/unif/0/tree5_500_cells200_genes_sigma0.5_3/integ3/\n",
      "PCA\n",
      "Nearest Neigbours\n",
      "PCA\n",
      "Nearest Neigbours\n"
     ]
    },
    {
     "name": "stderr",
     "output_type": "stream",
     "text": [
      "/home/lhc/.pyenv/versions/miniforge3-4.10.3-10/envs/scMultiSim/lib/python3.9/site-packages/scib/metrics/metrics.py:293: DeprecationWarning: Call to deprecated function (or staticmethod) opt_louvain.\n",
      "  res_max, nmi_max, nmi_all = opt_louvain(\n",
      "/home/lhc/.pyenv/versions/miniforge3-4.10.3-10/envs/scMultiSim/lib/python3.9/site-packages/scib/metrics/metrics.py:293: DeprecationWarning: Call to deprecated function (or staticmethod) opt_louvain.\n",
      "  res_max, nmi_max, nmi_all = opt_louvain(\n"
     ]
    },
    {
     "name": "stdout",
     "output_type": "stream",
     "text": [
      "NMI...\n",
      "ARI...\n",
      "Silhouette score...\n",
      "Graph connectivity...\n",
      "/home/lhc/scMultiSim/bench/unif/0/tree5_500_cells200_genes_sigma0.5_4/integ3/\n",
      "PCA\n",
      "Nearest Neigbours\n",
      "PCA\n",
      "Nearest Neigbours\n",
      "NMI...\n",
      "ARI...\n",
      "Silhouette score...\n",
      "Graph connectivity...\n",
      "/home/lhc/scMultiSim/bench/unif/0/tree5_500_cells500_genes_sigma0.5_1/integ3/\n",
      "PCA\n",
      "Nearest Neigbours\n",
      "PCA\n",
      "Nearest Neigbours\n",
      "NMI...\n",
      "ARI...\n",
      "Silhouette score...\n",
      "Graph connectivity...\n",
      "/home/lhc/scMultiSim/bench/unif/0/tree5_500_cells500_genes_sigma0.5_2/integ3/\n"
     ]
    },
    {
     "name": "stderr",
     "output_type": "stream",
     "text": [
      "/home/lhc/.pyenv/versions/miniforge3-4.10.3-10/envs/scMultiSim/lib/python3.9/site-packages/scib/metrics/metrics.py:293: DeprecationWarning: Call to deprecated function (or staticmethod) opt_louvain.\n",
      "  res_max, nmi_max, nmi_all = opt_louvain(\n"
     ]
    },
    {
     "name": "stdout",
     "output_type": "stream",
     "text": [
      "PCA\n",
      "Nearest Neigbours\n",
      "PCA\n",
      "Nearest Neigbours\n",
      "NMI...\n",
      "ARI...\n",
      "Silhouette score...\n",
      "Graph connectivity...\n",
      "/home/lhc/scMultiSim/bench/unif/0/tree5_500_cells500_genes_sigma0.5_3/integ3/\n"
     ]
    },
    {
     "name": "stderr",
     "output_type": "stream",
     "text": [
      "/home/lhc/.pyenv/versions/miniforge3-4.10.3-10/envs/scMultiSim/lib/python3.9/site-packages/scib/metrics/metrics.py:293: DeprecationWarning: Call to deprecated function (or staticmethod) opt_louvain.\n",
      "  res_max, nmi_max, nmi_all = opt_louvain(\n"
     ]
    },
    {
     "name": "stdout",
     "output_type": "stream",
     "text": [
      "PCA\n",
      "Nearest Neigbours\n",
      "PCA\n",
      "Nearest Neigbours\n",
      "NMI...\n",
      "ARI...\n",
      "Silhouette score...\n",
      "Graph connectivity...\n",
      "/home/lhc/scMultiSim/bench/unif/0/tree5_500_cells500_genes_sigma0.5_4/integ3/\n"
     ]
    },
    {
     "name": "stderr",
     "output_type": "stream",
     "text": [
      "/home/lhc/.pyenv/versions/miniforge3-4.10.3-10/envs/scMultiSim/lib/python3.9/site-packages/scib/metrics/metrics.py:293: DeprecationWarning: Call to deprecated function (or staticmethod) opt_louvain.\n",
      "  res_max, nmi_max, nmi_all = opt_louvain(\n"
     ]
    },
    {
     "name": "stdout",
     "output_type": "stream",
     "text": [
      "PCA\n",
      "Nearest Neigbours\n",
      "PCA\n",
      "Nearest Neigbours\n",
      "NMI...\n",
      "ARI...\n",
      "Silhouette score...\n",
      "Graph connectivity...\n",
      "/home/lhc/scMultiSim/bench/unif/0/tree5_800_cells110_genes_sigma0.5_1/integ3/\n",
      "PCA\n",
      "Nearest Neigbours\n",
      "PCA\n",
      "Nearest Neigbours\n"
     ]
    },
    {
     "name": "stderr",
     "output_type": "stream",
     "text": [
      "/home/lhc/.pyenv/versions/miniforge3-4.10.3-10/envs/scMultiSim/lib/python3.9/site-packages/scib/metrics/metrics.py:293: DeprecationWarning: Call to deprecated function (or staticmethod) opt_louvain.\n",
      "  res_max, nmi_max, nmi_all = opt_louvain(\n",
      "/home/lhc/.pyenv/versions/miniforge3-4.10.3-10/envs/scMultiSim/lib/python3.9/site-packages/scib/metrics/metrics.py:293: DeprecationWarning: Call to deprecated function (or staticmethod) opt_louvain.\n",
      "  res_max, nmi_max, nmi_all = opt_louvain(\n"
     ]
    },
    {
     "name": "stdout",
     "output_type": "stream",
     "text": [
      "NMI...\n",
      "ARI...\n",
      "Silhouette score...\n",
      "Graph connectivity...\n",
      "/home/lhc/scMultiSim/bench/unif/0/tree5_800_cells110_genes_sigma0.5_2/integ3/\n",
      "PCA\n",
      "Nearest Neigbours\n",
      "PCA\n",
      "Nearest Neigbours\n"
     ]
    },
    {
     "name": "stderr",
     "output_type": "stream",
     "text": [
      "/home/lhc/.pyenv/versions/miniforge3-4.10.3-10/envs/scMultiSim/lib/python3.9/site-packages/scib/metrics/metrics.py:293: DeprecationWarning: Call to deprecated function (or staticmethod) opt_louvain.\n",
      "  res_max, nmi_max, nmi_all = opt_louvain(\n"
     ]
    },
    {
     "name": "stdout",
     "output_type": "stream",
     "text": [
      "NMI...\n",
      "ARI...\n",
      "Silhouette score...\n",
      "Graph connectivity...\n",
      "/home/lhc/scMultiSim/bench/unif/0/tree5_800_cells110_genes_sigma0.5_3/integ3/\n",
      "PCA\n",
      "Nearest Neigbours\n",
      "PCA\n",
      "Nearest Neigbours\n"
     ]
    },
    {
     "name": "stderr",
     "output_type": "stream",
     "text": [
      "/home/lhc/.pyenv/versions/miniforge3-4.10.3-10/envs/scMultiSim/lib/python3.9/site-packages/scib/metrics/metrics.py:293: DeprecationWarning: Call to deprecated function (or staticmethod) opt_louvain.\n",
      "  res_max, nmi_max, nmi_all = opt_louvain(\n"
     ]
    },
    {
     "name": "stdout",
     "output_type": "stream",
     "text": [
      "NMI...\n",
      "ARI...\n",
      "Silhouette score...\n",
      "Graph connectivity...\n",
      "/home/lhc/scMultiSim/bench/unif/0/tree5_800_cells110_genes_sigma0.5_4/integ3/\n",
      "PCA\n",
      "Nearest Neigbours\n",
      "PCA\n",
      "Nearest Neigbours\n"
     ]
    },
    {
     "name": "stderr",
     "output_type": "stream",
     "text": [
      "/home/lhc/.pyenv/versions/miniforge3-4.10.3-10/envs/scMultiSim/lib/python3.9/site-packages/scib/metrics/metrics.py:293: DeprecationWarning: Call to deprecated function (or staticmethod) opt_louvain.\n",
      "  res_max, nmi_max, nmi_all = opt_louvain(\n"
     ]
    },
    {
     "name": "stdout",
     "output_type": "stream",
     "text": [
      "NMI...\n",
      "ARI...\n",
      "Silhouette score...\n",
      "Graph connectivity...\n",
      "/home/lhc/scMultiSim/bench/unif/0/tree5_800_cells200_genes_sigma0.5_1/integ3/\n",
      "PCA\n",
      "Nearest Neigbours\n",
      "PCA\n",
      "Nearest Neigbours\n"
     ]
    },
    {
     "name": "stderr",
     "output_type": "stream",
     "text": [
      "/home/lhc/.pyenv/versions/miniforge3-4.10.3-10/envs/scMultiSim/lib/python3.9/site-packages/scib/metrics/metrics.py:293: DeprecationWarning: Call to deprecated function (or staticmethod) opt_louvain.\n",
      "  res_max, nmi_max, nmi_all = opt_louvain(\n"
     ]
    },
    {
     "name": "stdout",
     "output_type": "stream",
     "text": [
      "NMI...\n",
      "ARI...\n",
      "Silhouette score...\n",
      "Graph connectivity...\n",
      "/home/lhc/scMultiSim/bench/unif/0/tree5_800_cells200_genes_sigma0.5_2/integ3/\n",
      "PCA\n",
      "Nearest Neigbours\n",
      "PCA\n",
      "Nearest Neigbours\n"
     ]
    },
    {
     "name": "stderr",
     "output_type": "stream",
     "text": [
      "/home/lhc/.pyenv/versions/miniforge3-4.10.3-10/envs/scMultiSim/lib/python3.9/site-packages/scib/metrics/metrics.py:293: DeprecationWarning: Call to deprecated function (or staticmethod) opt_louvain.\n",
      "  res_max, nmi_max, nmi_all = opt_louvain(\n"
     ]
    },
    {
     "name": "stdout",
     "output_type": "stream",
     "text": [
      "NMI...\n",
      "ARI...\n",
      "Silhouette score...\n",
      "Graph connectivity...\n",
      "/home/lhc/scMultiSim/bench/unif/0/tree5_800_cells200_genes_sigma0.5_3/integ3/\n",
      "PCA\n",
      "Nearest Neigbours\n",
      "PCA\n",
      "Nearest Neigbours\n"
     ]
    },
    {
     "name": "stderr",
     "output_type": "stream",
     "text": [
      "/home/lhc/.pyenv/versions/miniforge3-4.10.3-10/envs/scMultiSim/lib/python3.9/site-packages/scib/metrics/metrics.py:293: DeprecationWarning: Call to deprecated function (or staticmethod) opt_louvain.\n",
      "  res_max, nmi_max, nmi_all = opt_louvain(\n"
     ]
    },
    {
     "name": "stdout",
     "output_type": "stream",
     "text": [
      "NMI...\n",
      "ARI...\n",
      "Silhouette score...\n",
      "Graph connectivity...\n",
      "/home/lhc/scMultiSim/bench/unif/0/tree5_800_cells200_genes_sigma0.5_4/integ3/\n",
      "PCA\n",
      "Nearest Neigbours\n",
      "PCA\n",
      "Nearest Neigbours\n"
     ]
    },
    {
     "name": "stderr",
     "output_type": "stream",
     "text": [
      "/home/lhc/.pyenv/versions/miniforge3-4.10.3-10/envs/scMultiSim/lib/python3.9/site-packages/scib/metrics/metrics.py:293: DeprecationWarning: Call to deprecated function (or staticmethod) opt_louvain.\n",
      "  res_max, nmi_max, nmi_all = opt_louvain(\n"
     ]
    },
    {
     "name": "stdout",
     "output_type": "stream",
     "text": [
      "NMI...\n",
      "ARI...\n",
      "Silhouette score...\n",
      "Graph connectivity...\n",
      "/home/lhc/scMultiSim/bench/unif/0/tree5_800_cells500_genes_sigma0.5_1/integ3/\n",
      "PCA\n",
      "Nearest Neigbours\n",
      "PCA\n",
      "Nearest Neigbours\n"
     ]
    },
    {
     "name": "stderr",
     "output_type": "stream",
     "text": [
      "/home/lhc/.pyenv/versions/miniforge3-4.10.3-10/envs/scMultiSim/lib/python3.9/site-packages/scib/metrics/metrics.py:293: DeprecationWarning: Call to deprecated function (or staticmethod) opt_louvain.\n",
      "  res_max, nmi_max, nmi_all = opt_louvain(\n"
     ]
    },
    {
     "name": "stdout",
     "output_type": "stream",
     "text": [
      "NMI...\n",
      "ARI...\n",
      "Silhouette score...\n",
      "Graph connectivity...\n",
      "/home/lhc/scMultiSim/bench/unif/0/tree5_800_cells500_genes_sigma0.5_2/integ3/\n",
      "PCA\n",
      "Nearest Neigbours\n",
      "PCA\n",
      "Nearest Neigbours\n"
     ]
    },
    {
     "name": "stderr",
     "output_type": "stream",
     "text": [
      "/home/lhc/.pyenv/versions/miniforge3-4.10.3-10/envs/scMultiSim/lib/python3.9/site-packages/scib/metrics/metrics.py:293: DeprecationWarning: Call to deprecated function (or staticmethod) opt_louvain.\n",
      "  res_max, nmi_max, nmi_all = opt_louvain(\n"
     ]
    },
    {
     "name": "stdout",
     "output_type": "stream",
     "text": [
      "NMI...\n",
      "ARI...\n",
      "Silhouette score...\n",
      "Graph connectivity...\n",
      "/home/lhc/scMultiSim/bench/unif/0/tree5_800_cells500_genes_sigma0.5_3/integ3/\n",
      "PCA\n",
      "Nearest Neigbours\n",
      "PCA\n",
      "Nearest Neigbours\n"
     ]
    },
    {
     "name": "stderr",
     "output_type": "stream",
     "text": [
      "/home/lhc/.pyenv/versions/miniforge3-4.10.3-10/envs/scMultiSim/lib/python3.9/site-packages/scib/metrics/metrics.py:293: DeprecationWarning: Call to deprecated function (or staticmethod) opt_louvain.\n",
      "  res_max, nmi_max, nmi_all = opt_louvain(\n"
     ]
    },
    {
     "name": "stdout",
     "output_type": "stream",
     "text": [
      "NMI...\n",
      "ARI...\n",
      "Silhouette score...\n",
      "Graph connectivity...\n",
      "/home/lhc/scMultiSim/bench/unif/0/tree5_800_cells500_genes_sigma0.5_4/integ3/\n",
      "PCA\n",
      "Nearest Neigbours\n",
      "PCA\n",
      "Nearest Neigbours\n"
     ]
    },
    {
     "name": "stderr",
     "output_type": "stream",
     "text": [
      "/home/lhc/.pyenv/versions/miniforge3-4.10.3-10/envs/scMultiSim/lib/python3.9/site-packages/scib/metrics/metrics.py:293: DeprecationWarning: Call to deprecated function (or staticmethod) opt_louvain.\n",
      "  res_max, nmi_max, nmi_all = opt_louvain(\n"
     ]
    },
    {
     "name": "stdout",
     "output_type": "stream",
     "text": [
      "NMI...\n",
      "ARI...\n",
      "Silhouette score...\n",
      "Graph connectivity...\n"
     ]
    }
   ],
   "source": [
    "get_metrics(\"seurat\")\n",
    "get_metrics(\"uinmf\")"
   ]
  },
  {
   "cell_type": "code",
   "execution_count": 18,
   "id": "5bd945a9-a954-41cd-8103-cc20df14d237",
   "metadata": {},
   "outputs": [],
   "source": [
    "for tree, root_dirs in dirs.items():\n",
    "    for root_dir in root_dirs:\n",
    "        os.rename(os.path.join(root_dir, \"../cci/out_seurat\"), os.path.join(root_dir, \"../integ/out_seurat\"))"
   ]
  },
  {
   "cell_type": "code",
   "execution_count": 9,
   "id": "de5ad3c1-a345-4344-b769-e83ace8e15d4",
   "metadata": {},
   "outputs": [],
   "source": [
    "import seaborn as sns\n",
    "import matplotlib.pyplot as plt\n",
    "\n",
    "def plot_integ():\n",
    "    df = None\n",
    "    for tree in dirs.keys():\n",
    "        for tool in [\"seurat\", \"uinmf\", \"cobolt\"]:\n",
    "            se_dis = pd.read_csv(os.path.join(\"/home/lhc/scMultiSim/bench/unif/0/\", f\"{tool}3_tree{tree}.csv\"))\n",
    "            se_dis['tool'] = tool\n",
    "            se_dis['tree'] = str(tree)\n",
    "            if df is None:\n",
    "                df = se_dis\n",
    "            else:\n",
    "                df = pd.concat([df, se_dis])\n",
    "\n",
    "    fig, axs = plt.subplots(nrows=1, ncols=4, figsize=(40, 4))\n",
    "    sns.set(style=\"darkgrid\")\n",
    "    sns.violinplot(x=\"tree\", y=\"ari\", hue=\"tool\", data=df, palette=\"Pastel1\", ax=axs[0]).set(ylim=(-0.1,1.1))\n",
    "    sns.violinplot(x=\"tree\", y=\"nmi\", hue=\"tool\", data=df, palette=\"Pastel1\", ax=axs[1]).set(ylim=(-0.1,1.1))\n",
    "    sns.violinplot(x=\"tree\", y=\"gc\", hue=\"tool\", data=df, palette=\"Pastel1\", ax=axs[2]).set(ylim=(-0.1,1.1))\n",
    "    sns.violinplot(x=\"tree\", y=\"asw_batch\", hue=\"tool\", data=df, palette=\"Pastel1\", ax=axs[3]).set(ylim=(-0.1,1.1))\n",
    "    axs[0].set_title(\"ari\")\n",
    "    axs[1].set_title(\"nmi\")\n",
    "    axs[2].set_title(\"graph_connectivity\")\n",
    "    axs[3].set_title(\"silhouette_batch\")\n",
    "\n",
    "    fig.savefig(\"unif_integ.pdf\")\n",
    "    plt.show()"
   ]
  },
  {
   "cell_type": "code",
   "execution_count": 14,
   "id": "fe150b82-2aed-492b-b64c-4877b52f999a",
   "metadata": {},
   "outputs": [
    {
     "data": {
      "image/png": "[encoded data removed]",
      "text/plain": [
       "<Figure size 2880x288 with 4 Axes>"
      ]
     },
     "metadata": {},
     "output_type": "display_data"
    }
   ],
   "source": [
    "plot_integ()"
   ]
  },
  {
   "cell_type": "code",
   "execution_count": 16,
   "id": "c4bd4be3-c1b4-4396-83dc-a73ed600401c",
   "metadata": {
    "tags": []
   },
   "outputs": [],
   "source": [
    "def visualize(root_dir, tool):\n",
    "    print(root_dir)\n",
    "    \n",
    "    if tool == \"cobolt\":\n",
    "        adata = anndata.read(os.path.join(root_dir, \"res.h5ad\"))\n",
    "    else:\n",
    "        meta_orig = pd.read_csv(os.path.join(root_dir, \"meta.csv\"), index_col=0)\n",
    "        counts_orig = pd.read_csv(os.path.join(root_dir, \"counts_s.csv\"), index_col=0)\n",
    "        adata = anndata.AnnData(X=np.row_stack([\n",
    "            counts_orig[meta_orig.batch == 2].values,\n",
    "            counts_orig[meta_orig.batch == 3].values\n",
    "        ]), dtype=counts_orig.values.dtype)\n",
    "\n",
    "        if tool == \"seurat\":\n",
    "            data_path = root_dir + \"out_seurat/\"\n",
    "            counts = pd.read_csv(data_path + \"q_umap.csv\", sep=\",\")\n",
    "            ref_counts = pd.read_csv(data_path + \"ref_umap.csv\", sep=\",\")\n",
    "        else:\n",
    "            data_path = root_dir + \"out_uinmf/\"\n",
    "            counts = pd.read_csv(data_path + \"q_embed.csv\", sep=\",\").T\n",
    "            ref_counts = pd.read_csv(data_path + \"ref_embed.csv\", sep=\",\").T\n",
    "\n",
    "        meta = pd.read_csv(data_path + \"q_meta.csv\", sep=\",\")\n",
    "        ref_meta =  pd.read_csv(data_path + \"ref_meta.csv\", sep=\",\")\n",
    "\n",
    "        adata.obs[\"pop\"] = np.concatenate([\n",
    "            meta[\"pop\"].astype(str).astype('category').to_numpy(),\n",
    "            ref_meta[\"pop\"].astype(str).astype('category').to_numpy()\n",
    "        ])\n",
    "        adata.obs[\"celltype\"] = adata.obs[\"pop\"]\n",
    "        adata.obs[\"batch\"] = np.concatenate([\n",
    "            meta[\"batch\"].astype(str).astype('category').to_numpy(),\n",
    "            ref_meta[\"batch\"].astype(str).astype('category').to_numpy()\n",
    "        ])\n",
    "        adata.obs[\"batch\"] = adata.obs[\"batch\"].astype(\"category\")\n",
    "        adata.obs[\"celltype\"] = adata.obs[\"celltype\"].astype(\"category\")\n",
    "        adata.layers[\"counts\"] = adata.X\n",
    "\n",
    "        adata_int = adata.copy()\n",
    "        adata_int.obsm[\"X_emb\"] = np.row_stack([counts.values, ref_counts.values])\n",
    "\n",
    "        if tool == \"seurat\":\n",
    "            n_pcs = 1\n",
    "        else:\n",
    "            n_pcs = 5\n",
    "        scib.pp.reduce_data(\n",
    "            adata, pca=True, n_top_genes=None, neighbors=True, umap=False, pca_comps = n_pcs\n",
    "        )\n",
    "        scib.pp.reduce_data(\n",
    "            adata_int, batch_key=\"batch\", pca=True, n_top_genes=None, neighbors=True, umap=False, pca_comps = n_pcs, use_rep=\"X_emb\"\n",
    "        )\n",
    "        me = scib.me.metrics(adata, adata_int, embed=\"X_emb\", batch_key=\"batch\", label_key=\"celltype\", ari_=True, nmi_=True, graph_conn_=True,silhouette_=True)\n",
    "        print(me)\n",
    "        \n",
    "    if tool == \"seurat\":\n",
    "        ump = adata_int.obsm[\"X_emb\"]\n",
    "    else:\n",
    "        ump = TSNE(n_components=2).fit_transform(adata_int.obsm[\"X_emb\"])\n",
    "        \n",
    "    df = pd.DataFrame.from_dict({\n",
    "        \"x\": ump[:, 0],\n",
    "        \"y\": ump[:, 1],\n",
    "        \"celltype\": adata.obs[\"celltype\"],\n",
    "        \"batch\": adata.obs[\"batch\"]\n",
    "    }).sample(frac=1)\n",
    "    \n",
    "    fig, axs = plt.subplots(nrows=1, ncols=2, figsize=(12, 6))\n",
    "    sns.set(style=\"darkgrid\")\n",
    "    sns.scatterplot(x=\"x\", y=\"y\", hue=\"celltype\", data=df, size=1, ax=axs[0])\n",
    "    sns.scatterplot(x=\"x\", y=\"y\", hue=\"batch\", data=df, size=1, ax=axs[1])\n",
    "    axs[0].set_title(\"Cell Type\")\n",
    "    axs[1].set_title(\"Batch\")\n",
    "\n",
    "    plt.show()"
   ]
  },
  {
   "cell_type": "code",
   "execution_count": 28,
   "id": "0c25598a-55ca-4491-9ead-4d83282252bb",
   "metadata": {},
   "outputs": [
    {
     "name": "stdout",
     "output_type": "stream",
     "text": [
      "/home/lhc/scMultiSim/bench/unif/0/tree5_500_cells200_genes_sigma0.1_3/integ3/\n",
      "PCA\n",
      "Nearest Neigbours\n",
      "PCA\n",
      "Nearest Neigbours\n",
      "NMI...\n",
      "ARI...\n",
      "Silhouette score...\n",
      "Graph connectivity...\n",
      "                                  0\n",
      "NMI_cluster/label          0.447169\n",
      "ARI_cluster/label          0.363497\n",
      "ASW_label                  0.539046\n",
      "ASW_label/batch            0.424660\n",
      "PCR_batch                       NaN\n",
      "cell_cycle_conservation         NaN\n",
      "isolated_label_F1               NaN\n",
      "isolated_label_silhouette       NaN\n",
      "graph_conn                 0.808127\n",
      "kBET                            NaN\n",
      "iLISI                           NaN\n",
      "cLISI                           NaN\n",
      "hvg_overlap                     NaN\n",
      "trajectory                      NaN\n"
     ]
    },
    {
     "name": "stderr",
     "output_type": "stream",
     "text": [
      "/home/lhc/.pyenv/versions/miniforge3-4.10.3-10/envs/scMultiSim/lib/python3.9/site-packages/scib/metrics/metrics.py:293: DeprecationWarning: Call to deprecated function (or staticmethod) opt_louvain.\n",
      "  res_max, nmi_max, nmi_all = opt_louvain(\n"
     ]
    },
    {
     "data": {
      "image/png": "[encoded data removed]",
      "text/plain": [
       "<Figure size 864x432 with 2 Axes>"
      ]
     },
     "metadata": {},
     "output_type": "display_data"
    }
   ],
   "source": [
    "visualize(dirs[\"5_0.1\"][6], \"seurat\")"
   ]
  }
 ],
 "metadata": {
  "kernelspec": {
   "display_name": "Python 3 (ipykernel)",
   "language": "python",
   "name": "python3"
  },
  "language_info": {
   "codemirror_mode": {
    "name": "ipython",
    "version": 3
   },
   "file_extension": ".py",
   "mimetype": "text/x-python",
   "name": "python",
   "nbconvert_exporter": "python",
   "pygments_lexer": "ipython3",
   "version": "3.9.13"
  }
 },
 "nbformat": 4,
 "nbformat_minor": 5
}
