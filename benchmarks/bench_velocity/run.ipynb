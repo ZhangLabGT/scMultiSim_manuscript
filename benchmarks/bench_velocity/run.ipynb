{
 "cells": [
  {
   "cell_type": "code",
   "execution_count": 1,
   "id": "a3b7f2cc",
   "metadata": {},
   "outputs": [],
   "source": [
    "import scvelo as scv\n",
    "import pandas as pd\n",
    "import anndata as ad\n",
    "import numpy as np\n",
    "import scanpy\n",
    "scv.set_figure_params()"
   ]
  },
  {
   "cell_type": "code",
   "execution_count": 2,
   "id": "74a3c743",
   "metadata": {},
   "outputs": [],
   "source": [
    "DATASET_NAME = 'test'\n",
    "\n",
    "from bench_velo import bench_velo, eval_velo, eval_all\n",
    "from session import BenchSession"
   ]
  },
  {
   "cell_type": "code",
   "execution_count": 3,
   "id": "167d7671",
   "metadata": {},
   "outputs": [
    {
     "data": {
      "text/plain": [
       "0.031166158815456826"
      ]
     },
     "execution_count": 3,
     "metadata": {},
     "output_type": "execute_result"
    }
   ],
   "source": [
    "session = BenchSession(DATASET_NAME)\n",
    "\n",
    "configs = [\n",
    "    (1, \"velocyto\", { \"assumption\": \"constant_velocity\" }),\n",
    "    (2, \"velocyto\", { \"assumption\": \"constant_unspliced\" }),\n",
    "    (3, \"scvelo\", { \"scv_mode\": \"stochastic\" }),\n",
    "    (4, \"scvelo\", { \"scv_mode\": \"deterministic\" }),\n",
    "    (5, \"scvelo\", { \"scv_mode\": \"dynamical\", \"var_names\": \"all\" }),\n",
    "    (6, \"scvelo\", { \"scv_mode\": \"dynamical_residuals\", \"var_names\": \"all\" }),\n",
    "]\n",
    "\n",
    "conf_id, method, args = configs[0]\n",
    "res = bench_velo(method, session, log_scale=True, **args)\n",
    "res_fn = session.res_file(f'{conf_id}.csv')\n",
    "eval_velo(session, res)"
   ]
  },
  {
   "cell_type": "code",
   "execution_count": null,
   "id": "a8806da5",
   "metadata": {
    "tags": []
   },
   "outputs": [],
   "source": [
    "ds_names = []\n",
    "for ngenes in [100, 200, 500]:\n",
    "    for ncells in [500, 750, 1000]:\n",
    "        for seed in [1,2,3,4]:\n",
    "            ds_names.append(f'{ncells}cells_{ngenes}genes_{seed}')\n",
    "\n",
    "scores = eval_all(ds_names)"
   ]
  }
 ],
 "metadata": {
  "kernelspec": {
   "display_name": "Python 3 (ipykernel)",
   "language": "python",
   "name": "python3"
  },
  "language_info": {
   "codemirror_mode": {
    "name": "ipython",
    "version": 3
   },
   "file_extension": ".py",
   "mimetype": "text/x-python",
   "name": "python",
   "nbconvert_exporter": "python",
   "pygments_lexer": "ipython3",
   "version": "3.9.13"
  },
  "vscode": {
   "interpreter": {
    "hash": "dacab2e498a604a57d63cdffcafc8e8ebc9ec9bb33c6a0945e96529b7a54fdbb"
   }
  }
 },
 "nbformat": 4,
 "nbformat_minor": 5
}
